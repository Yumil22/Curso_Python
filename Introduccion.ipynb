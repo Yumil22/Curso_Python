{
 "cells": [
  {
   "cell_type": "markdown",
   "id": "0b8ca2b6",
   "metadata": {},
   "source": [
    "# ENTEROS"
   ]
  },
  {
   "cell_type": "code",
   "execution_count": 144,
   "id": "0ffd14af",
   "metadata": {},
   "outputs": [
    {
     "data": {
      "text/plain": [
       "69"
      ]
     },
     "execution_count": 144,
     "metadata": {},
     "output_type": "execute_result"
    }
   ],
   "source": [
    "0x45"
   ]
  },
  {
   "cell_type": "code",
   "execution_count": 154,
   "id": "8e27bcb5",
   "metadata": {},
   "outputs": [],
   "source": [
    "x = 156.0\n",
    "x\n",
    "hola = \"No declarada\""
   ]
  },
  {
   "cell_type": "code",
   "execution_count": 146,
   "id": "e7bb91db",
   "metadata": {},
   "outputs": [
    {
     "name": "stdout",
     "output_type": "stream",
     "text": [
      "156.0\n"
     ]
    }
   ],
   "source": [
    "print(x)"
   ]
  },
  {
   "cell_type": "code",
   "execution_count": 147,
   "id": "96077494",
   "metadata": {},
   "outputs": [
    {
     "name": "stdout",
     "output_type": "stream",
     "text": [
      "<class 'float'>\n"
     ]
    }
   ],
   "source": [
    "print(type(x))"
   ]
  },
  {
   "cell_type": "markdown",
   "id": "01f68694",
   "metadata": {},
   "source": [
    "# FLOTANTE"
   ]
  },
  {
   "cell_type": "code",
   "execution_count": 148,
   "id": "0e02a0de",
   "metadata": {},
   "outputs": [
    {
     "name": "stdout",
     "output_type": "stream",
     "text": [
      "<class 'float'>\n",
      "float: 5.26\n"
     ]
    }
   ],
   "source": [
    "f = 5.26\n",
    "print(type(f))\n",
    "print(\"float:\",f)"
   ]
  },
  {
   "cell_type": "code",
   "execution_count": 149,
   "id": "208a74ca",
   "metadata": {},
   "outputs": [
    {
     "name": "stdout",
     "output_type": "stream",
     "text": [
      "<class 'float'>\n",
      "float con notación cientifica: 122000.0\n"
     ]
    }
   ],
   "source": [
    "f = 12.2e4\n",
    "print(type(f))\n",
    "print(\"float con notación cientifica:\", f)"
   ]
  },
  {
   "cell_type": "markdown",
   "id": "b48d772f",
   "metadata": {},
   "source": [
    "# IMAGINARIOS"
   ]
  },
  {
   "cell_type": "code",
   "execution_count": 150,
   "id": "07751f52",
   "metadata": {},
   "outputs": [
    {
     "name": "stdout",
     "output_type": "stream",
     "text": [
      "<class 'complex'>\n",
      "complex: (2+4j)\n"
     ]
    }
   ],
   "source": [
    "i = 2+4j\n",
    "print(type(i))\n",
    "print(\"complex:\",i)"
   ]
  },
  {
   "cell_type": "markdown",
   "id": "bb0aa162",
   "metadata": {},
   "source": [
    "# Cadenas"
   ]
  },
  {
   "cell_type": "code",
   "execution_count": 151,
   "id": "58fbe6e6",
   "metadata": {
    "scrolled": true
   },
   "outputs": [
    {
     "name": "stdout",
     "output_type": "stream",
     "text": [
      "<class 'str'>\n",
      "string: Hola Mundo!\n"
     ]
    }
   ],
   "source": [
    "s = \"Hola Mundo!\"\n",
    "print(type(s))\n",
    "print(\"string:\",s)"
   ]
  },
  {
   "cell_type": "markdown",
   "id": "53f70138",
   "metadata": {},
   "source": [
    "# Boolean"
   ]
  },
  {
   "cell_type": "code",
   "execution_count": 152,
   "id": "7005bfd8",
   "metadata": {},
   "outputs": [
    {
     "name": "stdout",
     "output_type": "stream",
     "text": [
      "<class 'bool'>\n",
      "string: True\n"
     ]
    }
   ],
   "source": [
    "b=True\n",
    "print(type(b))\n",
    "print(\"string:\",b)"
   ]
  },
  {
   "cell_type": "markdown",
   "id": "49892a99",
   "metadata": {},
   "source": [
    "Qué tipo de variables es lo siguiente:\n",
    "    -> 12\n",
    "    -> 12.2\n",
    "    -> hola\n",
    "    -> \"mundo\"\n",
    "    -> b\n",
    "    -> 12 + 12+1\n",
    "    -> 12 + 12+1j\n",
    "    -> True\n",
    "    -> false"
   ]
  },
  {
   "cell_type": "code",
   "execution_count": 165,
   "id": "860e7880",
   "metadata": {
    "scrolled": true
   },
   "outputs": [
    {
     "name": "stdout",
     "output_type": "stream",
     "text": [
      "<class 'int'>\n",
      "<class 'float'>\n",
      "<class 'str'>\n",
      "<class 'str'>\n",
      "<class 'list'>\n",
      "<class 'int'>\n",
      "<class 'complex'>\n",
      "<class 'bool'>\n",
      "<class 'bool'>\n"
     ]
    }
   ],
   "source": [
    "print(type(12))\n",
    "print(type(12.2))\n",
    "print(type(hola))\n",
    "print(type(\"mundo\"))\n",
    "print(type(b))\n",
    "print(type(12 +12 +1))\n",
    "print(type(12+12+1j))\n",
    "print(type(True))\n",
    "print(type(False))"
   ]
  },
  {
   "cell_type": "markdown",
   "id": "de7faa52",
   "metadata": {},
   "source": [
    "# Listas"
   ]
  },
  {
   "cell_type": "code",
   "execution_count": 162,
   "id": "2cbc2028",
   "metadata": {},
   "outputs": [
    {
     "name": "stdout",
     "output_type": "stream",
     "text": [
      "<class 'list'>\n",
      "<class 'tuple'>\n"
     ]
    }
   ],
   "source": [
    "lista = [] #Por corchetes\n",
    "otherlist = list() #No recomendable\n",
    "unaTupla = () #por parentesis\n",
    "otherTuple = tuple()\n",
    "\n",
    "diccionario = {}\n",
    "otherdiction = dict()\n",
    "conjunto = set()\n",
    "\n",
    "print(type(otherlist))\n",
    "print(type(unaTupla))"
   ]
  },
  {
   "cell_type": "markdown",
   "id": "e3e34819",
   "metadata": {},
   "source": [
    "Las listas y las tuplas pueden tener elementos de diferentes tipos"
   ]
  },
  {
   "cell_type": "code",
   "execution_count": 167,
   "id": "9648464d",
   "metadata": {},
   "outputs": [
    {
     "name": "stdout",
     "output_type": "stream",
     "text": [
      "[5, 'Hola mundo!', (1, 2), True, -1.5]\n"
     ]
    }
   ],
   "source": [
    "b = [5, \"Hola mundo!\", (1, 2), True, -1.5]\n",
    "print(b)"
   ]
  },
  {
   "cell_type": "markdown",
   "id": "712cb98e",
   "metadata": {},
   "source": [
    "Lista: No es necesario especificar la cantidad de elementos, se pueden modificar despues de ser creados\n",
    "\n",
    "Tupla: ocupan menos memoria, no son mutables, es decir, como una lista estatica.\n"
   ]
  },
  {
   "cell_type": "code",
   "execution_count": 173,
   "id": "426c8162",
   "metadata": {},
   "outputs": [
    {
     "data": {
      "text/plain": [
       "tuple"
      ]
     },
     "execution_count": 173,
     "metadata": {},
     "output_type": "execute_result"
    }
   ],
   "source": [
    "#Tupla con un solo elemento\n",
    "b = (5, \"sadfas\",  True)\n",
    "type(b)"
   ]
  },
  {
   "cell_type": "markdown",
   "id": "2e5aaa1a",
   "metadata": {},
   "source": [
    "# Acceder a las tuplas y las listas"
   ]
  },
  {
   "cell_type": "code",
   "execution_count": 174,
   "id": "add0e617",
   "metadata": {},
   "outputs": [
    {
     "data": {
      "text/plain": [
       "'Hola'"
      ]
     },
     "execution_count": 174,
     "metadata": {},
     "output_type": "execute_result"
    }
   ],
   "source": [
    "a = [\"Hola\", \"mundo\", \"!\"]\n",
    "a[0]"
   ]
  },
  {
   "cell_type": "code",
   "execution_count": 178,
   "id": "0ff57a59",
   "metadata": {},
   "outputs": [],
   "source": [
    "a[0] = \"Hola mundo\""
   ]
  },
  {
   "cell_type": "code",
   "execution_count": 179,
   "id": "80eeb316",
   "metadata": {},
   "outputs": [
    {
     "data": {
      "text/plain": [
       "['Hola mundo', 'mundo', '!']"
      ]
     },
     "execution_count": 179,
     "metadata": {},
     "output_type": "execute_result"
    }
   ],
   "source": [
    "a"
   ]
  },
  {
   "cell_type": "code",
   "execution_count": 181,
   "id": "efc1313f",
   "metadata": {},
   "outputs": [
    {
     "ename": "TypeError",
     "evalue": "'tuple' object does not support item assignment",
     "output_type": "error",
     "traceback": [
      "\u001b[1;31m---------------------------------------------------------------------------\u001b[0m",
      "\u001b[1;31mTypeError\u001b[0m                                 Traceback (most recent call last)",
      "\u001b[1;32m~\\AppData\\Local\\Temp/ipykernel_17268/1338681980.py\u001b[0m in \u001b[0;36m<module>\u001b[1;34m\u001b[0m\n\u001b[1;32m----> 1\u001b[1;33m \u001b[0mb\u001b[0m\u001b[1;33m[\u001b[0m\u001b[1;36m0\u001b[0m\u001b[1;33m]\u001b[0m \u001b[1;33m=\u001b[0m \u001b[1;36m10\u001b[0m\u001b[1;33m\u001b[0m\u001b[1;33m\u001b[0m\u001b[0m\n\u001b[0m",
      "\u001b[1;31mTypeError\u001b[0m: 'tuple' object does not support item assignment"
     ]
    }
   ],
   "source": [
    "b[0] = 10"
   ]
  },
  {
   "cell_type": "markdown",
   "id": "a44b9f33",
   "metadata": {},
   "source": [
    "# Acceder a valores"
   ]
  },
  {
   "cell_type": "code",
   "execution_count": 186,
   "id": "1fde1e53",
   "metadata": {},
   "outputs": [
    {
     "data": {
      "text/plain": [
       "[1, 3, 5, 7, 9, 9]"
      ]
     },
     "execution_count": 186,
     "metadata": {},
     "output_type": "execute_result"
    }
   ],
   "source": [
    "#APPEND\n",
    "a = [1, 3, 5, 7]\n",
    "a.append(9)\n",
    "a.append(9)\n",
    "a"
   ]
  },
  {
   "cell_type": "code",
   "execution_count": 189,
   "id": "0723db87",
   "metadata": {},
   "outputs": [
    {
     "data": {
      "text/plain": [
       "[1, 3, 'Esto es una lista', 7, 9, 9]"
      ]
     },
     "execution_count": 189,
     "metadata": {},
     "output_type": "execute_result"
    }
   ],
   "source": [
    "a[2] = \"Esto es una lista\"\n",
    "a"
   ]
  },
  {
   "cell_type": "code",
   "execution_count": 192,
   "id": "7b3a6663",
   "metadata": {},
   "outputs": [
    {
     "data": {
      "text/plain": [
       "[1, 2, 3, 4, 5, 6]"
      ]
     },
     "execution_count": 192,
     "metadata": {},
     "output_type": "execute_result"
    }
   ],
   "source": [
    "#INSERT\n",
    "a = [1, 3, 4, 5, 6]\n",
    "a.insert(1, 2)\n",
    "a"
   ]
  },
  {
   "cell_type": "code",
   "execution_count": 193,
   "id": "3ec92721",
   "metadata": {},
   "outputs": [
    {
     "data": {
      "text/plain": [
       "['Hola', 'Recursos', 'Python']"
      ]
     },
     "execution_count": 193,
     "metadata": {},
     "output_type": "execute_result"
    }
   ],
   "source": [
    "b = [\"Hola\", \"Python\"]\n",
    "b.insert(1, \"Recursos\")\n",
    "b"
   ]
  },
  {
   "cell_type": "code",
   "execution_count": 200,
   "id": "5f136917",
   "metadata": {},
   "outputs": [
    {
     "data": {
      "text/plain": [
       "['Perro', 'Caballo']"
      ]
     },
     "execution_count": 200,
     "metadata": {},
     "output_type": "execute_result"
    }
   ],
   "source": [
    "a = [\"Perro\", \"Gato\", \"Caballo\"]\n",
    "a.remove(\"Gato\")\n",
    "a"
   ]
  },
  {
   "cell_type": "code",
   "execution_count": 198,
   "id": "bc073f6a",
   "metadata": {},
   "outputs": [
    {
     "data": {
      "text/plain": [
       "['Pera', 'Banana', 'Naranja']"
      ]
     },
     "execution_count": 198,
     "metadata": {},
     "output_type": "execute_result"
    }
   ],
   "source": [
    "#Para eliminar uno en una posicion determinada\n",
    "a = [\"Manzana\", \"Pera\", \"Banana\", \"Naranja\"]\n",
    "del a[0]\n",
    "a"
   ]
  },
  {
   "cell_type": "code",
   "execution_count": 201,
   "id": "9673f4f1",
   "metadata": {},
   "outputs": [],
   "source": [
    "#eliminar todos los elementos\n",
    "del a[:]"
   ]
  },
  {
   "cell_type": "code",
   "execution_count": 204,
   "id": "f8b1b316",
   "metadata": {},
   "outputs": [
    {
     "data": {
      "text/plain": [
       "0"
      ]
     },
     "execution_count": 204,
     "metadata": {},
     "output_type": "execute_result"
    }
   ],
   "source": [
    "len(a)\n"
   ]
  },
  {
   "cell_type": "markdown",
   "id": "1e5b34e4",
   "metadata": {},
   "source": [
    "# Conversiones lista -tupla"
   ]
  },
  {
   "cell_type": "code",
   "execution_count": 205,
   "id": "e1406661",
   "metadata": {},
   "outputs": [
    {
     "name": "stdout",
     "output_type": "stream",
     "text": [
      "<class 'list'>\n",
      "<class 'tuple'>\n"
     ]
    },
    {
     "data": {
      "text/plain": [
       "(1, 2, 3)"
      ]
     },
     "execution_count": 205,
     "metadata": {},
     "output_type": "execute_result"
    }
   ],
   "source": [
    "a = [1, 2, 3]\n",
    "print(type(a))\n",
    "a = tuple(a)\n",
    "print(type(a))\n",
    "a"
   ]
  },
  {
   "cell_type": "code",
   "execution_count": 207,
   "id": "178c976f",
   "metadata": {
    "scrolled": false
   },
   "outputs": [],
   "source": [
    "a = list(a)\n"
   ]
  },
  {
   "cell_type": "code",
   "execution_count": 219,
   "id": "1c1206f8",
   "metadata": {},
   "outputs": [
    {
     "data": {
      "text/plain": [
       "['C', 'C++', 'Python', 'Perl', 'PHP', 'Pascal']"
      ]
     },
     "execution_count": 219,
     "metadata": {},
     "output_type": "execute_result"
    }
   ],
   "source": [
    "a = [\"C\", \"C++\", \"Python\", \"Perl\", \"PHP\", \"Pascal\"]\n",
    "a\n",
    "a[2:5]\n",
    "a[:4]\n",
    "a[4:]\n",
    "a[:]\n",
    "a[:len(a)]"
   ]
  },
  {
   "cell_type": "code",
   "execution_count": 220,
   "id": "8c89cae7",
   "metadata": {},
   "outputs": [
    {
     "data": {
      "text/plain": [
       "'Pascal'"
      ]
     },
     "execution_count": 220,
     "metadata": {},
     "output_type": "execute_result"
    }
   ],
   "source": [
    "#Slicing\n",
    "a[1:3]\n",
    "a = [\"C\", \"C++\", \"Python\", \"Perl\", \"PHP\", \"Pascal\"]\n",
    "a[2:5]\n",
    "a[:4]\n",
    "a[4:]\n",
    "a[:]\n",
    "a[:len(a)]\n",
    "\n",
    "#\n",
    "a[-1]"
   ]
  },
  {
   "cell_type": "code",
   "execution_count": 225,
   "id": "e7d1dd04",
   "metadata": {},
   "outputs": [
    {
     "data": {
      "text/plain": [
       "['Pascal']"
      ]
     },
     "execution_count": 225,
     "metadata": {},
     "output_type": "execute_result"
    }
   ],
   "source": [
    "a[-1:] #ultimo elemento de la lista\n",
    "a[len(a) - 1:] #mismo\n"
   ]
  },
  {
   "cell_type": "code",
   "execution_count": 226,
   "id": "a4dad918",
   "metadata": {},
   "outputs": [
    {
     "data": {
      "text/plain": [
       "['C', 'C++', 'Python', 'Perl', 'PHP']"
      ]
     },
     "execution_count": 226,
     "metadata": {},
     "output_type": "execute_result"
    }
   ],
   "source": [
    "#todos menos el ultimo\n",
    "a[:-1]"
   ]
  },
  {
   "cell_type": "code",
   "execution_count": 227,
   "id": "a50bf949",
   "metadata": {},
   "outputs": [
    {
     "data": {
      "text/plain": [
       "['C', 'C++', 'Python']"
      ]
     },
     "execution_count": 227,
     "metadata": {},
     "output_type": "execute_result"
    }
   ],
   "source": [
    "#quitamos los ultimos 3\n",
    "a[:-3]"
   ]
  },
  {
   "cell_type": "code",
   "execution_count": 245,
   "id": "6ccd9e4d",
   "metadata": {},
   "outputs": [
    {
     "data": {
      "text/plain": [
       "[0, 8, 16]"
      ]
     },
     "execution_count": 245,
     "metadata": {},
     "output_type": "execute_result"
    }
   ],
   "source": [
    "Entrenada = list(range(20))\n",
    "Entrenada[::8]\n",
    "practica = Entrenada[::8]"
   ]
  },
  {
   "cell_type": "code",
   "execution_count": 248,
   "id": "b9a43a2b",
   "metadata": {},
   "outputs": [
    {
     "data": {
      "text/plain": [
       "[5, 7, 9, 11, 13, 15, 17, 19]"
      ]
     },
     "execution_count": 248,
     "metadata": {},
     "output_type": "execute_result"
    }
   ],
   "source": [
    "a[5:30:2] "
   ]
  },
  {
   "cell_type": "markdown",
   "id": "1fcd796b",
   "metadata": {},
   "source": [
    "# Buscar elementos en un lista/tupla"
   ]
  },
  {
   "cell_type": "code",
   "execution_count": null,
   "id": "ccb2fe3f",
   "metadata": {},
   "outputs": [],
   "source": [
    "a = (1, 2, 3, 4)"
   ]
  },
  {
   "cell_type": "code",
   "execution_count": 249,
   "id": "447c1889",
   "metadata": {},
   "outputs": [
    {
     "data": {
      "text/plain": [
       "True"
      ]
     },
     "execution_count": 249,
     "metadata": {},
     "output_type": "execute_result"
    }
   ],
   "source": [
    "3 in a"
   ]
  },
  {
   "cell_type": "code",
   "execution_count": 252,
   "id": "109f9b5b",
   "metadata": {},
   "outputs": [
    {
     "data": {
      "text/plain": [
       "True"
      ]
     },
     "execution_count": 252,
     "metadata": {},
     "output_type": "execute_result"
    }
   ],
   "source": [
    "#inlcuso podemos usar una negacion\n",
    "0.5 not in (1, 2, 3, 4)"
   ]
  },
  {
   "cell_type": "markdown",
   "id": "d285ae82",
   "metadata": {},
   "source": [
    "# Iteracion"
   ]
  },
  {
   "cell_type": "markdown",
   "id": "3a579ca8",
   "metadata": {},
   "source": [
    "Esto es en C:\n",
    "\n",
    "int i;\n",
    "int a[5] = {1, 2, 3, 4, 5};\n",
    "for (i = 0; i < 5; i++)\n",
    "    printf(\"%d\\n\", a[i]);"
   ]
  },
  {
   "cell_type": "code",
   "execution_count": 256,
   "id": "9e22b008",
   "metadata": {},
   "outputs": [
    {
     "name": "stdout",
     "output_type": "stream",
     "text": [
      "1\n",
      "2\n",
      "3\n",
      "4\n",
      "5\n"
     ]
    }
   ],
   "source": [
    "a = (1, 2, 3, 4, 5)\n",
    "\n",
    "for i in range(len(a)):\n",
    "    print(a[i])"
   ]
  },
  {
   "cell_type": "code",
   "execution_count": 263,
   "id": "8da04095",
   "metadata": {},
   "outputs": [
    {
     "name": "stdout",
     "output_type": "stream",
     "text": [
      "1\n",
      "2\n",
      "3\n",
      "4\n",
      "5\n"
     ]
    }
   ],
   "source": [
    "#Foreach\n",
    "\n",
    "a =(1, 2, 3, 4, 5)\n",
    "a = (\"Hola\", \"Como\", \"Estas\")\n",
    "\n",
    "for num in a:\n",
    "    print(num)"
   ]
  },
  {
   "cell_type": "code",
   "execution_count": 1,
   "id": "65c5ee0d",
   "metadata": {},
   "outputs": [
    {
     "data": {
      "text/plain": [
       "[(0, 'Name'), (1, 'Contacto'), (2, 'Info')]"
      ]
     },
     "execution_count": 1,
     "metadata": {},
     "output_type": "execute_result"
    }
   ],
   "source": [
    "#si quiero mantener el indice de mis objetos en la lista\n",
    "es =  [\"Name\", \"Contacto\", \"Info\"]\n",
    "esNew = list(enumerate(es))\n",
    "esNew"
   ]
  },
  {
   "cell_type": "code",
   "execution_count": 267,
   "id": "c854c5e4",
   "metadata": {},
   "outputs": [
    {
     "data": {
      "text/plain": [
       "[(1, 1), (2, 2), (3, 3), (4, 4), (5, 5)]"
      ]
     },
     "execution_count": 267,
     "metadata": {},
     "output_type": "execute_result"
    }
   ],
   "source": [
    "#Evita empear desde cero\n",
    "list(enumerate(a, 1))"
   ]
  },
  {
   "cell_type": "code",
   "execution_count": 270,
   "id": "7936b398",
   "metadata": {
    "scrolled": true
   },
   "outputs": [
    {
     "name": "stdout",
     "output_type": "stream",
     "text": [
      "Elemento 1: 1.\n",
      "Elemento 2: 2.\n",
      "Elemento 3: 3.\n",
      "Elemento 4: 4.\n",
      "Elemento 5: 5.\n"
     ]
    }
   ],
   "source": [
    "for indice, item in enumerate(a, 1):\n",
    "    print(\"Elemento %d: %s.\" % (indice, str(item)))"
   ]
  },
  {
   "cell_type": "code",
   "execution_count": 11,
   "id": "4cee7274",
   "metadata": {},
   "outputs": [],
   "source": [
    "a = [0,1,2,3,4,5,6,7,8,9,1, -2]"
   ]
  },
  {
   "cell_type": "code",
   "execution_count": 12,
   "id": "4be244c8",
   "metadata": {},
   "outputs": [
    {
     "data": {
      "text/plain": [
       "2"
      ]
     },
     "execution_count": 12,
     "metadata": {},
     "output_type": "execute_result"
    }
   ],
   "source": [
    "a.count(1)"
   ]
  },
  {
   "cell_type": "code",
   "execution_count": 13,
   "id": "004a027f",
   "metadata": {},
   "outputs": [
    {
     "data": {
      "text/plain": [
       "[9, 8, 7, 6, 5, 4, 3, 2, 1, 1, 0, -2]"
      ]
     },
     "execution_count": 13,
     "metadata": {},
     "output_type": "execute_result"
    }
   ],
   "source": [
    "#ordena\n",
    "a.sort(reverse = True)\n",
    "a"
   ]
  },
  {
   "cell_type": "code",
   "execution_count": 14,
   "id": "4867dc71",
   "metadata": {},
   "outputs": [
    {
     "data": {
      "text/plain": [
       "-2"
      ]
     },
     "execution_count": 14,
     "metadata": {},
     "output_type": "execute_result"
    }
   ],
   "source": [
    "a.pop()"
   ]
  },
  {
   "cell_type": "code",
   "execution_count": 15,
   "id": "b4b52ef1",
   "metadata": {},
   "outputs": [
    {
     "data": {
      "text/plain": [
       "[9, 8, 7, 6, 5, 4, 3, 2, 1, 1, 0]"
      ]
     },
     "execution_count": 15,
     "metadata": {},
     "output_type": "execute_result"
    }
   ],
   "source": [
    "a"
   ]
  },
  {
   "cell_type": "code",
   "execution_count": 8,
   "id": "94d34a7a",
   "metadata": {},
   "outputs": [
    {
     "data": {
      "text/plain": [
       "{0: 'element', 'so': 'entonces', 'alfa': 'a', 'beta': 'b'}"
      ]
     },
     "execution_count": 8,
     "metadata": {},
     "output_type": "execute_result"
    }
   ],
   "source": [
    "#diccionarios\n",
    "\n",
    "d = {}\n",
    "d[0] = 'element'\n",
    "d['so'] = \"entonces\"\n",
    "d['alfa'] = \"a\"\n",
    "d['beta'] = \"b\"\n",
    "d\n"
   ]
  },
  {
   "cell_type": "code",
   "execution_count": 9,
   "id": "eddcafcd",
   "metadata": {},
   "outputs": [
    {
     "data": {
      "text/plain": [
       "dict_keys([0, 'so', 'alfa', 'beta'])"
      ]
     },
     "execution_count": 9,
     "metadata": {},
     "output_type": "execute_result"
    }
   ],
   "source": [
    "d.keys()"
   ]
  },
  {
   "cell_type": "code",
   "execution_count": 19,
   "id": "52fcd31d",
   "metadata": {},
   "outputs": [
    {
     "data": {
      "text/plain": [
       "{9: {}, 8: {}, 7: {}, 6: {}, 5: {}, 4: {}, 3: {}, 2: {}, 1: {}, 0: {}}"
      ]
     },
     "execution_count": 19,
     "metadata": {},
     "output_type": "execute_result"
    }
   ],
   "source": [
    "d = {}.fromkeys(a,{})\n",
    "d"
   ]
  },
  {
   "cell_type": "code",
   "execution_count": 285,
   "id": "935278ce",
   "metadata": {},
   "outputs": [
    {
     "data": {
      "text/plain": [
       "{9: [], 8: [], 7: [], 6: [], 5: [], 4: [], 3: [], 2: [], 1: []}"
      ]
     },
     "execution_count": 285,
     "metadata": {},
     "output_type": "execute_result"
    }
   ],
   "source": [
    "del d[0]\n",
    "d"
   ]
  },
  {
   "cell_type": "code",
   "execution_count": 286,
   "id": "03ab6a32",
   "metadata": {},
   "outputs": [
    {
     "data": {
      "text/plain": [
       "'no esta'"
      ]
     },
     "execution_count": 286,
     "metadata": {},
     "output_type": "execute_result"
    }
   ],
   "source": [
    "d.get(-2, 'no esta')"
   ]
  },
  {
   "cell_type": "code",
   "execution_count": 20,
   "id": "4b4e621e",
   "metadata": {},
   "outputs": [
    {
     "data": {
      "text/plain": [
       "123"
      ]
     },
     "execution_count": 20,
     "metadata": {},
     "output_type": "execute_result"
    }
   ],
   "source": [
    "d[1] = 123\n",
    "d.get(1, 'no esta')"
   ]
  },
  {
   "cell_type": "code",
   "execution_count": 288,
   "id": "8caf9d9e",
   "metadata": {},
   "outputs": [
    {
     "data": {
      "text/plain": [
       "(1, [])"
      ]
     },
     "execution_count": 288,
     "metadata": {},
     "output_type": "execute_result"
    }
   ],
   "source": [
    "d.popitem()"
   ]
  },
  {
   "cell_type": "code",
   "execution_count": 289,
   "id": "d5b5c1b9",
   "metadata": {},
   "outputs": [
    {
     "data": {
      "text/plain": [
       "{9: [], 8: [], 7: [], 6: [], 5: [], 4: [], 3: [], 2: []}"
      ]
     },
     "execution_count": 289,
     "metadata": {},
     "output_type": "execute_result"
    }
   ],
   "source": [
    "d"
   ]
  },
  {
   "cell_type": "code",
   "execution_count": 290,
   "id": "2cb9481d",
   "metadata": {},
   "outputs": [
    {
     "data": {
      "text/plain": [
       "dict_keys([9, 8, 7, 6, 5, 4, 3, 2])"
      ]
     },
     "execution_count": 290,
     "metadata": {},
     "output_type": "execute_result"
    }
   ],
   "source": [
    "d.keys()"
   ]
  },
  {
   "cell_type": "code",
   "execution_count": 291,
   "id": "c4e3aa0b",
   "metadata": {},
   "outputs": [
    {
     "data": {
      "text/plain": [
       "dict_values([[], [], [], [], [], [], [], []])"
      ]
     },
     "execution_count": 291,
     "metadata": {},
     "output_type": "execute_result"
    }
   ],
   "source": [
    "d.values()"
   ]
  },
  {
   "cell_type": "code",
   "execution_count": null,
   "id": "bab4150c",
   "metadata": {},
   "outputs": [],
   "source": []
  },
  {
   "cell_type": "code",
   "execution_count": 292,
   "id": "ccc3156a",
   "metadata": {},
   "outputs": [],
   "source": [
    "d.clear()"
   ]
  },
  {
   "cell_type": "code",
   "execution_count": 293,
   "id": "7b1fdef3",
   "metadata": {},
   "outputs": [
    {
     "data": {
      "text/plain": [
       "{}"
      ]
     },
     "execution_count": 293,
     "metadata": {},
     "output_type": "execute_result"
    }
   ],
   "source": [
    "d"
   ]
  },
  {
   "cell_type": "markdown",
   "id": "fa2485ce",
   "metadata": {},
   "source": []
  },
  {
   "cell_type": "code",
   "execution_count": 29,
   "id": "af7c6b26",
   "metadata": {},
   "outputs": [
    {
     "name": "stdout",
     "output_type": "stream",
     "text": [
      "I am an instance of example1\n",
      "I am an instance of example2\n"
     ]
    }
   ],
   "source": [
    "class example1:\n",
    "        def type(self):\n",
    "            return 'example1'\n",
    "class example2:\n",
    "        def type(self):\n",
    "            return 'example2'\n",
    "def display(instance):\n",
    "        print (\"I am an instance of \"+ instance.type())\n",
    "display(example1())\n",
    "display(example2())"
   ]
  },
  {
   "cell_type": "code",
   "execution_count": null,
   "id": "5ed6a25f",
   "metadata": {},
   "outputs": [],
   "source": []
  }
 ],
 "metadata": {
  "kernelspec": {
   "display_name": "Python 3 (ipykernel)",
   "language": "python",
   "name": "python3"
  },
  "language_info": {
   "codemirror_mode": {
    "name": "ipython",
    "version": 3
   },
   "file_extension": ".py",
   "mimetype": "text/x-python",
   "name": "python",
   "nbconvert_exporter": "python",
   "pygments_lexer": "ipython3",
   "version": "3.9.7"
  }
 },
 "nbformat": 4,
 "nbformat_minor": 5
}
