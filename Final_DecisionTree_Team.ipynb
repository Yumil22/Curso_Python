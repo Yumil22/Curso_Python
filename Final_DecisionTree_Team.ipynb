{
 "cells": [
  {
   "cell_type": "code",
   "execution_count": 1,
   "id": "bc6bdd65",
   "metadata": {},
   "outputs": [],
   "source": [
    "import numpy as np\n",
    "import pandas as pd\n",
    "# Import seaborn as sb\n",
    "import matplotlib.pyplot as plt\n",
    "# Classifer\n",
    "from sklearn.tree import DecisionTreeClassifier\n",
    "\n",
    "\n",
    "# Show DecisionTree\n",
    "from sklearn.tree import export_graphviz \n",
    "from io import StringIO \n",
    "from IPython.display import Image, display\n",
    "import pydotplus\n",
    "\n",
    "# Analysis\n",
    "# Accuary\n",
    "from sklearn import metrics #Import scikit-learn metrics module for accuracy calculation\n",
    "from sklearn.model_selection import cross_val_score\n",
    "# Confuison Matrix\n",
    "from sklearn.metrics import confusion_matrix\n",
    "import seaborn as sn\n",
    "# Precision & recall\n",
    "from sklearn.metrics import precision_recall_curve\n",
    "from sklearn.metrics import plot_precision_recall_curve\n",
    "from sklearn.metrics import precision_score\n",
    "from sklearn.metrics import recall_score\n",
    "# F1 Score\n",
    "from sklearn.metrics import f1_score\n",
    "# Sensivitivity & Specificity\n",
    "    #Use the confusion matrix\n",
    "# ROC & UAC\n",
    "\n",
    "# Clasification inform\n",
    "from sklearn.metrics import classification_report"
   ]
  },
  {
   "cell_type": "markdown",
   "id": "e5100696",
   "metadata": {},
   "source": [
    "# Evaluador de los modelos"
   ]
  },
  {
   "cell_type": "code",
   "execution_count": 2,
   "id": "62800c73",
   "metadata": {},
   "outputs": [],
   "source": [
    "#Accuaracy\n",
    "#Matriz de confucion\n",
    "    #https://pypi.org/project/pandas-ml/\n",
    "    #https://datatofish.com/confusion-matrix-python/\n",
    "#Precision & recall\n",
    "    #https://www.askpython.com/python/examples/precision-and-recall-in-python\n",
    "#F1 Score\n",
    "    #https://scikit-learn.org/stable/modules/generated/sklearn.metrics.f1_score.html\n",
    "#Sensivity & spicifity\n",
    "    #https://statinfer.com/204-4-2-calculating-sensitivity-and-specificity-in-python/\n",
    "    #Good information\n",
    "#ROC curve and AUC\n",
    "    #https://www.statology.org/plot-roc-curve-python/\n",
    "    \n",
    "\n",
    "#----------------------------\n",
    "#extra\n",
    "#Informe de clasificacion\n",
    "    # https://pharos.sh/vision-general-de-los-metodos-de-clasificacion-en-python-con-scikit-learn/\n",
    "\n",
    "#Probability Calibration curves\n",
    "    #https://scikit-learn.org/stable/auto_examples/calibration/plot_calibration_curve.html#sphx-glr-auto-examples-calibration-plot-calibration-curve-py\n",
    "    #https://dzone.com/articles/logistic-regression-vs-decision-tree#:~:text=Logistic%20Regression%20assumes%20that%20the%20data%20is%20linearly,not%20sure%2C%20then%20go%20with%20a%20Decision%20Tree.\n",
    "    #https://stackoverflow.com/questions/50666091/true-positive-rate-and-false-positive-rate-tpr-fpr-for-multi-class-data-in-py\n"
   ]
  },
  {
   "cell_type": "markdown",
   "id": "d32d1fa0",
   "metadata": {},
   "source": [
    "# Accuracy\n",
    "Fonction definition:"
   ]
  },
  {
   "cell_type": "code",
   "execution_count": 3,
   "id": "9974254f",
   "metadata": {},
   "outputs": [],
   "source": [
    "def Accuracy(Y_pred, Y_test):\n",
    "    print(\"Accuracy:\", metrics.accuracy_score(Y_pred, Y_test))"
   ]
  },
  {
   "cell_type": "markdown",
   "id": "51bf5bd7",
   "metadata": {},
   "source": [
    "# Confusion matrix"
   ]
  },
  {
   "cell_type": "code",
   "execution_count": 4,
   "id": "5e9d373c",
   "metadata": {},
   "outputs": [],
   "source": [
    "def Confusion_Matrix(Y_pred, Y_test):\n",
    "    conf_mat = confusion_matrix(Y_pred, Y_test)\n",
    "    print('\\033[1m' + 'Confusion matrix:' + '\\033[0m',\"\\n\",conf_mat)\n",
    "    print(\"True negative (TN):  \",conf_mat[0,0])\n",
    "    print(\"False positive(FP): \",conf_mat[0,1])\n",
    "    print(\"False negative(FN): \",conf_mat[1,0])\n",
    "    print(\"True positive (TP):  \",conf_mat[1,1])\n",
    "\n",
    "    CM = pd.crosstab(Y_pred, Y_test, rownames=['Actual'], colnames=['Predicted'])\n",
    "    sn.heatmap(CM, annot=True)\n",
    "    plt.show()"
   ]
  },
  {
   "cell_type": "markdown",
   "id": "45b402f4",
   "metadata": {},
   "source": [
    "# Precision & recall"
   ]
  },
  {
   "cell_type": "code",
   "execution_count": 5,
   "id": "ea7cd4d5",
   "metadata": {},
   "outputs": [],
   "source": [
    "from sklearn.metrics import precision_recall_curve\n",
    "from sklearn.metrics import plot_precision_recall_curve\n",
    "from sklearn.metrics import precision_score\n",
    "from sklearn.metrics import recall_score\n",
    "\n",
    "def PrecisionAndRecall(Y_pred, Y_test, model, X_Test):\n",
    "    print('\\033[1m' + 'Precision and Recall : ' + '\\033[0m',\"\\n\")\n",
    "    precision = precision_score(Y_test, Y_pred)\n",
    "    recall = recall_score(Y_test, Y_pred)\n",
    "    print(\"Precision: \", precision)\n",
    "    print(\"Recall: \", recall)\n",
    "    \n",
    "    disp = plot_precision_recall_curve(model, X_Test, Y_test)"
   ]
  },
  {
   "cell_type": "markdown",
   "id": "c4e3bb7a",
   "metadata": {},
   "source": [
    "# F1 Score"
   ]
  },
  {
   "cell_type": "code",
   "execution_count": 6,
   "id": "a74814ea",
   "metadata": {},
   "outputs": [],
   "source": [
    "from sklearn.metrics import f1_score\n",
    "def F1( Y_pred, Y_test):\n",
    "    print('\\033[1m' + 'F1 : ' + '\\033[0m',\"\\n\")\n",
    "    #Calculate metrics for each label, and find their unweighted mean. This does not take label imbalance into account.\n",
    "    f1_macro = f1_score(Y_test, Y_pred, average='macro')\n",
    "    #Calculate metrics globally by counting the total true positives, false negatives and false positives.\n",
    "    f1_micro = f1_score(Y_test, Y_pred, average='micro')\n",
    "    #Calculate metrics for each label, and find their average weighted by support (the number of true instances for each label).\n",
    "    #This alters ‘macro’ to account for label imbalance; it can result in an F-score that is not between precision and recall.\n",
    "    f1_weighted = f1_score(Y_test, Y_pred, average='weighted')\n",
    "    #General\n",
    "    f1_general = f1_score(Y_test, Y_pred, zero_division=1)\n",
    "    #Multi-label\n",
    "    f1_multi = f1_score(Y_test, Y_pred, average=None)\n",
    "    #formule basic:\n",
    "    precision = precision_score(Y_test, Y_pred)\n",
    "    recall = recall_score(Y_test, Y_pred)\n",
    "    F1 = 2 * (precision * recall) / (precision + recall)\n",
    "    print(\"F1 Macro:      \", f1_macro)\n",
    "    print(\"F1 Micro:      \", f1_micro)\n",
    "    print(\"F1 Weighted:   \", f1_weighted)\n",
    "    print(\"F1 General:    \", f1_general)\n",
    "    print(\"F1 Multi_label:\", f1_multi)\n",
    "    print(\"F1:            \", F1)"
   ]
  },
  {
   "cell_type": "code",
   "execution_count": 7,
   "id": "40044ba4",
   "metadata": {},
   "outputs": [],
   "source": [
    "def SensAndSpeci(Y_pred, Y_test):\n",
    "    print('\\033[1m' + 'Sensitivity & Specifity: ' + '\\033[0m',\"\\n\")\n",
    "    cm = confusion_matrix(Y_pred, Y_test)\n",
    "    sensitivity1 = cm[0,0]/(cm[0,0]+cm[0,1])\n",
    "    print('Sensitivity : ', sensitivity1 )\n",
    "    \n",
    "    specificity1 = cm[1,1]/(cm[1,0]+cm[1,1])\n",
    "    print('Specificity : ', specificity1)"
   ]
  },
  {
   "cell_type": "code",
   "execution_count": 8,
   "id": "375de231",
   "metadata": {},
   "outputs": [],
   "source": [
    "def ROCandAUC(Y_pred, Y_test, model, x_test):\n",
    "    print('\\033[1m' + 'ROC & AUC: ' + '\\033[0m',\"\\n\")\n",
    "    probs = model.predict_proba(x_test)\n",
    "    preds = probs[:,1]\n",
    "    fpr, tpr, threshold = metrics.roc_curve(Y_test, preds)\n",
    "    roc_auc = metrics.auc(fpr, tpr)\n",
    "    auc = metrics.roc_auc_score(Y_test, Y_pred)\n",
    "    \n",
    "    # method I: plt\n",
    "    import matplotlib.pyplot as plt\n",
    "    plt.title('Receiver Operating Characteristic')\n",
    "    plt.plot(fpr, tpr, 'b', label = 'AUC = %0.2f' % auc)\n",
    "    plt.legend(loc = 'lower right')\n",
    "    plt.plot([0, 1], [0, 1],'r--')\n",
    "    plt.xlim([0, 1])\n",
    "    plt.ylim([0, 1])\n",
    "    plt.ylabel('True Positive Rate')\n",
    "    plt.xlabel('False Positive Rate')\n",
    "    plt.show()"
   ]
  },
  {
   "cell_type": "markdown",
   "id": "9517976a",
   "metadata": {},
   "source": [
    "# Informe de clasificacion"
   ]
  },
  {
   "cell_type": "code",
   "execution_count": 9,
   "id": "e96426d0",
   "metadata": {},
   "outputs": [],
   "source": [
    " from sklearn.metrics import classification_report\n",
    "def Inform(Y_pred,Y_test):\n",
    "    print('\\033[1m' + 'Classification report:' + '\\033[0m',\"\\n\")\n",
    "    target_names = ['Batch 0', 'Batch 1']\n",
    "    print(classification_report(Y_test, Y_pred, target_names=target_names))"
   ]
  },
  {
   "cell_type": "markdown",
   "id": "22ffc9c1",
   "metadata": {},
   "source": [
    "# All parameters"
   ]
  },
  {
   "cell_type": "code",
   "execution_count": 10,
   "id": "93bf87b3",
   "metadata": {},
   "outputs": [],
   "source": [
    "def Evaluate(Y_pred, Y_test, model, X_test):\n",
    "    #Classification report\n",
    "    Inform(Y_pred, Y_test)\n",
    "    #Confusion Matrix\n",
    "    Confusion_Matrix(Y_pred, Y_test)\n",
    "    #Precision and Recall\n",
    "    PrecisionAndRecall(Y_pred, Y_test, model, X_test)\n",
    "    #F1\n",
    "    F1(Y_pred, Y_test)\n",
    "    #Sensitivity & Specifity\n",
    "    SensAndSpeci(Y_pred, Y_test)\n",
    "    #ROC & AUC\n",
    "    ROCandAUC(Y_pred, Y_test, model, X_test)\n",
    "    print(\"Working...\")"
   ]
  },
  {
   "cell_type": "markdown",
   "id": "cc43cc39",
   "metadata": {},
   "source": [
    "# Data normalizated"
   ]
  },
  {
   "cell_type": "code",
   "execution_count": 11,
   "id": "5e54ae1a",
   "metadata": {},
   "outputs": [],
   "source": [
    "def Data(Name):\n",
    "    df = pd.read_csv(Name)\n",
    "    #Normalize: QM Check Urgent = 0, QM Check Needed = 1, None = 2, PSF = 3 and SF = 4 \n",
    "    dfc = df.copy()\n",
    "    \n",
    "    for i in range(len(df)):\n",
    "        if dfc['WebsitePriority'][i] == 'QM Check Urgent':\n",
    "            dfc.loc[i,'WebsitePriority'] = 0\n",
    "        if dfc['WebsitePriority'][i] == 'QM Check Needed':\n",
    "            dfc.loc[i,'WebsitePriority'] = 1\n",
    "        if dfc['WebsitePriority'][i] == 'None':\n",
    "            dfc.loc[i,'WebsitePriority'] = 2\n",
    "        if dfc['WebsitePriority'][i] == 'PSF':\n",
    "            dfc.loc[i,'WebsitePriority'] = 3\n",
    "        if dfc['WebsitePriority'][i] == 'SF':\n",
    "            dfc.loc[i,'WebsitePriority'] = 4\n",
    "    print('Getting data...')\n",
    "    New_df = dfc\n",
    "    return New_df"
   ]
  },
  {
   "cell_type": "markdown",
   "id": "97d7924b",
   "metadata": {},
   "source": [
    "# Decision trees"
   ]
  },
  {
   "cell_type": "code",
   "execution_count": 12,
   "id": "4e7eac4e",
   "metadata": {},
   "outputs": [],
   "source": [
    "def FirstDT(model, features):\n",
    "    export_graphviz(model, 'tree.dot', feature_names = features)\n",
    "    dot_data = StringIO()\n",
    "    export_graphviz(model, out_file=dot_data,  \n",
    "                    filled=True, rounded=True,\n",
    "                    special_characters=True,feature_names = features,class_names=['0','1'])\n",
    "    graph = pydotplus.graph_from_dot_data(dot_data.getvalue())  \n",
    "    graph.write_png('tree.png')\n",
    "    display(Image(graph.create_png()))"
   ]
  },
  {
   "cell_type": "code",
   "execution_count": 13,
   "id": "4467707c",
   "metadata": {},
   "outputs": [],
   "source": [
    "def SecondDT(model, features):\n",
    "    export_graphviz(model, 'tree_2.dot', feature_names = features)\n",
    "    dot_data_2 = StringIO()\n",
    "    export_graphviz(model, out_file=dot_data_2,  \n",
    "                    filled=True, rounded=True,\n",
    "                    special_characters=True,feature_names = features,class_names=['0','1'])\n",
    "    graph_2 = pydotplus.graph_from_dot_data(dot_data_2.getvalue())  \n",
    "    graph_2.write_png('tree_2.png')\n",
    "    print('\\033[1m' + 'Second DT' + '\\033[0m',\"\\n\")\n",
    "    display(Image(graph_2.create_png()))"
   ]
  },
  {
   "cell_type": "code",
   "execution_count": 14,
   "id": "c9bfed22",
   "metadata": {},
   "outputs": [],
   "source": [
    "def ThirdDT(model, features):\n",
    "    export_graphviz(model, 'tree_3.dot', feature_names = features)\n",
    "    dot_data_3 = StringIO()\n",
    "    export_graphviz(model, out_file=dot_data_3,\n",
    "                    filled=True, rounded=True,\n",
    "                    special_characters=True,feature_names = features,class_names=['0','1'])\n",
    "    graph_3 = pydotplus.graph_from_dot_data(dot_data_3.getvalue())  \n",
    "    graph_3.write_png('tree_3.png')\n",
    "    print('\\033[1m' + 'Third DT' + '\\033[0m',\"\\n\")\n",
    "    display(Image(graph_3.create_png()))"
   ]
  },
  {
   "cell_type": "markdown",
   "id": "2746b2c1",
   "metadata": {},
   "source": [
    "# Model creation"
   ]
  },
  {
   "cell_type": "code",
   "execution_count": 15,
   "id": "1d393895",
   "metadata": {},
   "outputs": [],
   "source": [
    "def CreateModel(Name, mod = 'All', show = True, show_tree = True):\n",
    "    \"\"\"\n",
    "    Returns the model and features of the selected model. Within this function an important parameter 'WebsitePriority' \n",
    "    is normalized and it is important to normalize this to numbers because if this is not done, then the training cannot \n",
    "    be performed.\\n\n",
    "    Parameters:\n",
    "    -Name: name of the file to take the training values.\n",
    "    -show: boolean to show the model evaluation.\n",
    "    -show_tree: boolean to show the decision trees.\n",
    "    -mod: desired model, default is the subjective one but there are 4 options, All, General, PCA and subjective.\n",
    "        ->'All' generates all but when evaluating the input data, it will do it with the general model. But there is \n",
    "        the possibility to show the analysis of the three models.\n",
    "        ->'General' will do the analysis with the general model.\n",
    "        ->'Subjetive_1' will do the analysis with a subjective model. Characteristics: ....\n",
    "        ->'Subjetive_2' will do the analysis with a subjective model. Characteristics: ....\n",
    "        ->'None' sends you the general model back and does not allow you to show any decision tree or model analysis\n",
    "    -\n",
    "    \"\"\"\n",
    "    #All the features but without 'ID', 'DateReceived' 'Website' 'DateSent' and 'TeamLead_Encoded'[because there are empty data]\n",
    "    #So we took the decision to quit out the component bc we have just 132 data.\n",
    "    All_features = ['URLCount','R1Time', 'CrawlIssues', 'WebReviewDif','WebsitePriority'\n",
    "                ,'ErrorCount', 'R2Time', 'TeamLeadSBQ', 'QMSBQ', 'CxPending'\n",
    "               ,'CxComplete', 'TotalSBQ', 'Sent', 'Title', 'Brand'\n",
    "               ,'MFR', 'BC', 'Color', 'Size', 'IPQ'\n",
    "               ,'UC', 'Model', 'UPC', 'MPN', 'WebExtractionDif'\n",
    "               ,'SloppyError', 'IncorrectVariant', 'NewEdgeCase', 'IncorrectGuidance', 'Other?'\n",
    "               ,'Was it a PSF?', 'MXQA_Encoded',  'QM_Encoded', 'Month_Encoded'\n",
    "               ,'DP_Encoded']\n",
    "    #print(df)\n",
    "    #features = ['URLCount','R1Time', 'CrawlIssues', 'ErrorCount', 'R2Time', 'IncorrectGuidance']\n",
    "    \n",
    "    # 15 Characteristics.\n",
    "    features_2 = ['URLCount','R1Time', 'CrawlIssues', 'WebReviewDif','WebsitePriority'\n",
    "                ,'ErrorCount', 'R2Time', 'TeamLeadSBQ', 'QMSBQ', 'CxPending'\n",
    "               ,'CxComplete', 'TotalSBQ',  'WebExtractionDif'\n",
    "               ,'SloppyError', 'IncorrectVariant', 'NewEdgeCase', 'IncorrectGuidance', 'Other?'\n",
    "               ,'Was it a PSF?', 'MXQA_Encoded',  'QM_Encoded', 'Month_Encoded',]\n",
    "    \n",
    "    #The difference is that I use parameters that do not have a large variation.\n",
    "    features_3 = ['URLCount','R1Time', 'CrawlIssues', 'WebReviewDif','WebsitePriority'\n",
    "                ,'ErrorCount', 'R2Time', 'TeamLeadSBQ','WebExtractionDif','SloppyError'\n",
    "                ,'Was it a PSF?',  'QM_Encoded', 'Month_Encoded']\n",
    "    \n",
    "    \n",
    "    print('Creating model with all the features without ID, DateReceived, Website, DateSent and TeamLead_Encoded...')\n",
    "    \n",
    "    # Assigning the data base\n",
    "    data_base = Data(Name)\n",
    "    #max_attributes = len(list(data_base))\n",
    "    \n",
    "    # Splip data\n",
    "    # Usually it is: 70/30\n",
    "    f_train = data_base[:round(len(data_base)*0.7)] \n",
    "    f_valid = data_base[round(len(data_base)*0.7):]\n",
    "    # \n",
    "    \n",
    "    # We create 3 differents... All_features, with teh data of PCA and a subjetive model(base in our experience).\n",
    "    #features = features\n",
    "    \n",
    "    x   = f_train.loc[:,All_features]    \n",
    "    x_2 = f_train.loc[:,features_2]    \n",
    "    x_3 = f_train.loc[:,features_3]\n",
    "    \n",
    "    y = f_train.loc[:, 'Batch Status']\n",
    "    \n",
    "    # The function will make his own analysis but also return the model to evaluate others test data.\n",
    "    X_test   = f_valid.loc[:,All_features]\n",
    "    X_test_2 = f_valid.loc[:,features_2]\n",
    "    X_test_3 = f_valid.loc[:,features_3]\n",
    "    \n",
    "    y_test = f_valid.loc[:, 'Batch Status']\n",
    "    \n",
    "    # Transform_To_array\n",
    "    # Each one has his own features(array)\n",
    "    x_array_train   = x.to_numpy()\n",
    "    x_array_train_2 = x_2.to_numpy()\n",
    "    x_array_train_3 = x_3.to_numpy()\n",
    "    \n",
    "    # It is the same for all\n",
    "    y_array_train = y.to_numpy()\n",
    "    \n",
    "    max_attributes = len(list(data_base))\n",
    "    # Model\n",
    "    model     = DecisionTreeClassifier(max_depth=max_attributes)\n",
    "    model.fit(x_array_train, y_array_train)\n",
    "    \n",
    "    model_2   = DecisionTreeClassifier(max_depth=len(features_2), random_state=15)\n",
    "    model_2.fit(x_array_train_2, y_array_train)\n",
    "    \n",
    "    model_3   = DecisionTreeClassifier(max_depth=len(list(features_3)), random_state=15)\n",
    "    model_3.fit(x_array_train_3, y_array_train)\n",
    "    \n",
    "    # Prediciton\n",
    "    y_pred = model.predict(X_test)\n",
    "    y_pred_2 = model_2.predict(X_test_2)\n",
    "    y_pred_3 = model_3.predict(X_test_3)\n",
    "    \n",
    "    # Showing decision tree    \n",
    "    #    -----------------First DT----------------------\n",
    "    #FirstDT(model, features)\n",
    "    \n",
    "    #    -----------------Second DT----------------------\n",
    "    #SecondDT(model_2, features)\n",
    "   \n",
    "    #    -----------------Third DT----------------------\n",
    "    #ThirdDT(model_3, features)\n",
    "    \n",
    "    print('Working in the model...')\n",
    "    # Model Evaluation\n",
    "    if mod == 'All':\n",
    "        if show_tree:\n",
    "            FirstDT(model, All_features)\n",
    "            SecondDT(model_2, features_2)\n",
    "            ThirdDT(model_3, features_3)\n",
    "        if show:\n",
    "            print('\\033[1m' + 'Evaluation 1st model:' + '\\033[0m',\"\\n\")\n",
    "            Evaluate(y_pred, y_test, model, X_test)\n",
    "            print('\\033[1m' + 'Evaluation 2nd model:' + '\\033[0m',\"\\n\")\n",
    "            Evaluate(y_pred_2, y_test, model_2, X_test_2)\n",
    "            print('\\033[1m' + 'Evaluation 3rd model:' + '\\033[0m',\"\\n\")\n",
    "            Evaluate(y_pred_3, y_test, model_3, X_test_3)\n",
    "        return model, All_featurres\n",
    "        \n",
    "    if mod == 'General':\n",
    "        if show_tree:\n",
    "            FirstDT(model, All_features)\n",
    "        if show:\n",
    "            print('\\033[1m' + 'Evaluation 2nd model:' + '\\033[0m',\"\\n\")\n",
    "            Evaluate(y_pred, y_test, model, X_test)\n",
    "        return model, All_features\n",
    "        \n",
    "    if mod == 'Subjetive_1':\n",
    "        if show_tree:\n",
    "            SecondDT(model_2, features_2)\n",
    "        if show:\n",
    "            print('\\033[1m' + 'Evaluation 2nd model:' + '\\033[0m',\"\\n\")\n",
    "            Evaluate(y_pred_2, y_test, model_2, X_test_2)\n",
    "        return model_2, features_2\n",
    "        \n",
    "    if mod == 'Subjetive_2':\n",
    "        if show_tree:\n",
    "            ThirdDT(model_3, features_3)\n",
    "        if show == True:\n",
    "            print('\\033[1m' + 'Evaluation 2nd model:' + '\\033[0m',\"\\n\")\n",
    "            Evaluate(y_pred_3, y_test, model_3, X_test_3)\n",
    "        return model_3, features_3\n",
    "        \n",
    "    if mod == 'None':\n",
    "        print('\\033[1m' + 'Model Trained...' + '\\033[0m',\"\\n\")\n",
    "    #Return the model and \n",
    "    return model, All_features\n",
    "    "
   ]
  },
  {
   "cell_type": "code",
   "execution_count": 16,
   "id": "1b80d572",
   "metadata": {},
   "outputs": [],
   "source": [
    "def Evaluate_TestData(Name, mod = 'subjetive', show_model = False, show_tree = False):\n",
    "    #Add function description\n",
    "    \"\"\"\n",
    "    The function receives the name of the file with the example data and evaluates the input data with the model you \n",
    "    select or by default the subjective model and show you the analysis of the model with the input data.\n",
    "    Parameters:\n",
    "    -Name: Name of the file\n",
    "    -show_model: boolean to show the model evaluation.\n",
    "    -show_tree: boolean to show the decision trees.\n",
    "    -mod: desired model, default is the subjective one but there are 4 options, All, General, PCA and subjective.\n",
    "        ->'All' generates all but when evaluating the input data, it will do it with the general model. But there is \n",
    "        the possibility to show the analysis of the three models.\n",
    "        ->'General' will do the analysis with the general model.\n",
    "        ->'Subjetive_1' will do the analysis with a subjective model. Characteristics: ....\n",
    "        ->'Subjetive_2' will do the analysis with a subjective model. Characteristics: ....\n",
    "        ->'None' sends you the general model back and does not allow you to show any decision tree or model analysis\n",
    "    \"\"\"\n",
    "    model, features = CreateModel('TrainingSet.csv', mod = mod, show = show_model, show_tree=show_tree)\n",
    "    data = Data(Name)\n",
    "    \n",
    "    # Test\n",
    "    X_test = data.loc[:, features]\n",
    "    y_test = data.loc[:, 'Batch Status']\n",
    "    # Prediction\n",
    "    y_pred = model.predict(X_test)\n",
    "    print('\\033[1m' + 'Analisis de resultados de los datos de entrada:' + '\\033[0m',\"\\n\")\n",
    "    \n",
    "    # Evaluate\n",
    "    Evaluate(y_pred, y_test, model, X_test)\n",
    "    print('Finish')\n",
    "    "
   ]
  },
  {
   "cell_type": "code",
   "execution_count": 17,
   "id": "0d717c15",
   "metadata": {},
   "outputs": [],
   "source": [
    "#Analisis del modelo 1: Las 35 componentes\n",
    "#CreateModel('TrainingSet.csv', mod = 'Subjetive_1')"
   ]
  },
  {
   "cell_type": "code",
   "execution_count": null,
   "id": "e67f826c",
   "metadata": {},
   "outputs": [],
   "source": []
  },
  {
   "cell_type": "code",
   "execution_count": 18,
   "id": "57051ae6",
   "metadata": {},
   "outputs": [
    {
     "name": "stdout",
     "output_type": "stream",
     "text": [
      "Creating model with all the features without ID, DateReceived, Website, DateSent and TeamLead_Encoded...\n",
      "Getting data...\n",
      "Working in the model...\n",
      "Getting data...\n",
      "\u001b[1mAnalisis de resultados de los datos de entrada:\u001b[0m \n",
      "\n",
      "\u001b[1mClassification report:\u001b[0m \n",
      "\n",
      "              precision    recall  f1-score   support\n",
      "\n",
      "     Batch 0       0.90      0.98      0.94        66\n",
      "     Batch 1       0.98      0.89      0.94        66\n",
      "\n",
      "    accuracy                           0.94       132\n",
      "   macro avg       0.94      0.94      0.94       132\n",
      "weighted avg       0.94      0.94      0.94       132\n",
      "\n",
      "\u001b[1mConfusion matrix:\u001b[0m \n",
      " [[65  7]\n",
      " [ 1 59]]\n",
      "True negative (TN):   65\n",
      "False positive(FP):  7\n",
      "False negative(FN):  1\n",
      "True positive (TP):   59\n"
     ]
    },
    {
     "data": {
      "image/png": "[encoded data removed]",
      "text/plain": [
       "<Figure size 432x288 with 2 Axes>"
      ]
     },
     "metadata": {
      "needs_background": "light"
     },
     "output_type": "display_data"
    },
    {
     "name": "stdout",
     "output_type": "stream",
     "text": [
      "\u001b[1mPrecision and Recall : \u001b[0m \n",
      "\n",
      "Precision:  0.9833333333333333\n",
      "Recall:  0.8939393939393939\n",
      "\u001b[1mF1 : \u001b[0m \n",
      "\n",
      "F1 Macro:       0.9392684610075914\n",
      "F1 Micro:       0.9393939393939394\n",
      "F1 Weighted:    0.9392684610075914\n",
      "F1 General:     0.9365079365079364\n",
      "F1 Multi_label: [0.94202899 0.93650794]\n",
      "F1:             0.9365079365079364\n",
      "\u001b[1mSensitivity & Specifity: \u001b[0m \n",
      "\n",
      "Sensitivity :  0.9027777777777778\n",
      "Specificity :  0.9833333333333333\n",
      "\u001b[1mROC & AUC: \u001b[0m \n",
      "\n"
     ]
    },
    {
     "data": {
      "image/png": "[encoded data removed]",
      "text/plain": [
       "<Figure size 432x288 with 1 Axes>"
      ]
     },
     "metadata": {
      "needs_background": "light"
     },
     "output_type": "display_data"
    },
    {
     "name": "stdout",
     "output_type": "stream",
     "text": [
      "Working...\n",
      "Finish\n"
     ]
    }
   ],
   "source": [
    "#Evaluar los datos que Sebas tenga\n",
    "Evaluate_TestData('TrainingSet.csv', mod = 'Subjetive_2')"
   ]
  },
  {
   "cell_type": "code",
   "execution_count": null,
   "id": "0013674c",
   "metadata": {},
   "outputs": [],
   "source": []
  }
 ],
 "metadata": {
  "kernelspec": {
   "display_name": "Python 3 (ipykernel)",
   "language": "python",
   "name": "python3"
  },
  "language_info": {
   "codemirror_mode": {
    "name": "ipython",
    "version": 3
   },
   "file_extension": ".py",
   "mimetype": "text/x-python",
   "name": "python",
   "nbconvert_exporter": "python",
   "pygments_lexer": "ipython3",
   "version": "3.9.7"
  }
 },
 "nbformat": 4,
 "nbformat_minor": 5
}
