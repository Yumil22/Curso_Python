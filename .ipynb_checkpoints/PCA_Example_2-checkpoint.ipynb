{
 "cells": [
  {
   "cell_type": "code",
   "execution_count": 3,
   "id": "1ff73e68",
   "metadata": {},
   "outputs": [],
   "source": [
    "import pandas as pd\n",
    "import numpy as np\n",
    "from sklearn.decomposition import PCA\n",
    "from sklearn import preprocessing\n",
    "import matplotlib.pyplot as plt"
   ]
  },
  {
   "cell_type": "code",
   "execution_count": 4,
   "id": "de3a5ce5",
   "metadata": {},
   "outputs": [],
   "source": [
    "def Data(Name):\n",
    "    df = pd.read_csv(Name)\n",
    "    #Normalize: QM Check Urgent = 0, QM Check Needed = 1, None = 2, PSF = 3 and SF = 4 \n",
    "    dfc = df.copy()\n",
    "    \n",
    "    for i in range(len(df)):\n",
    "        if dfc['WebsitePriority'][i] == 'QM Check Urgent':\n",
    "            dfc.loc[i,'WebsitePriority'] = 0\n",
    "        if dfc['WebsitePriority'][i] == 'QM Check Needed':\n",
    "            dfc.loc[i,'WebsitePriority'] = 1\n",
    "        if dfc['WebsitePriority'][i] == 'None':\n",
    "            dfc.loc[i,'WebsitePriority'] = 2\n",
    "        if dfc['WebsitePriority'][i] == 'PSF':\n",
    "            dfc.loc[i,'WebsitePriority'] = 3\n",
    "        if dfc['WebsitePriority'][i] == 'SF':\n",
    "            dfc.loc[i,'WebsitePriority'] = 4\n",
    "    print('Normalizated...')\n",
    "    New_df = dfc\n",
    "    return New_df"
   ]
  },
  {
   "cell_type": "markdown",
   "id": "83e85979",
   "metadata": {},
   "source": [
    "Python tiene varias maneras de usar bases de datos, una muy practica es tomarla directamente del link, por lo que procedemos:\n"
   ]
  },
  {
   "cell_type": "code",
   "execution_count": 9,
   "id": "6defbae4",
   "metadata": {},
   "outputs": [
    {
     "name": "stdout",
     "output_type": "stream",
     "text": [
      "Normalizated...\n"
     ]
    }
   ],
   "source": [
    "url = \"https://archive.ics.uci.edu/ml/machine-learning-databases/iris/iris.data\"\n",
    "\n",
    "df = pd.read_csv(url, names=['sepal length', 'sepal width' , 'petal lenght', 'petal width', 'target'])\n",
    "\n",
    "data = Data('TrainingSet.csv')"
   ]
  },
  {
   "cell_type": "code",
   "execution_count": null,
   "id": "276950cf",
   "metadata": {},
   "outputs": [],
   "source": []
  },
  {
   "cell_type": "code",
   "execution_count": 11,
   "id": "a907463d",
   "metadata": {},
   "outputs": [],
   "source": [
    "from sklearn.preprocessing import StandardScaler\n",
    "\n",
    "features = ['sepal length', 'sepal width', 'petal lenght', 'petal width']\n",
    "All_Features = ['URLCount','R1Time', 'CrawlIssues', 'WebReviewDif','WebsitePriority'\n",
    "                ,'ErrorCount', 'R2Time', 'TeamLeadSBQ', 'QMSBQ', 'CxPending'\n",
    "               ,'CxComplete', 'TotalSBQ', 'Sent', 'Title', 'Brand'\n",
    "               ,'MFR', 'BC', 'Color', 'Size', 'IPQ'\n",
    "               ,'UC', 'Model', 'UPC', 'MPN', 'WebExtractionDif'\n",
    "               ,'SloppyError', 'IncorrectVariant', 'NewEdgeCase', 'IncorrectGuidance', 'Other?'\n",
    "               ,'Was it a PSF?', 'MXQA_Encoded',  'QM_Encoded', 'Month_Encoded'\n",
    "               ,'DP_Encoded']\n",
    "\n",
    "x = df.loc[:, features].values\n",
    "y = df.loc[:, ['target']].values\n",
    "\n",
    "X_test = data.loc[:, All_Features]\n",
    "y_test = data.loc[:, 'Batch Status']"
   ]
  },
  {
   "cell_type": "markdown",
   "id": "d41b54ce",
   "metadata": {},
   "source": [
    "Escalamos(centrar y escalar) los datos, lo que hace que nuestros valores se encuentren entre 0-1, es muy importante hacer esto solamente sobre las caracteristicas\n"
   ]
  },
  {
   "cell_type": "code",
   "execution_count": 15,
   "id": "f264fecd",
   "metadata": {},
   "outputs": [
    {
     "data": {
      "text/plain": [
       "35"
      ]
     },
     "execution_count": 15,
     "metadata": {},
     "output_type": "execute_result"
    }
   ],
   "source": [
    "# 0 : 1/  -1 : 1 \n",
    "x = StandardScaler().fit_transform(X_test)\n",
    "len(All_Features)"
   ]
  },
  {
   "cell_type": "code",
   "execution_count": 40,
   "id": "ffd8b8e1",
   "metadata": {},
   "outputs": [],
   "source": [
    "pca = PCA(n_components = 4) #primer cambio\n",
    "\n",
    "principalComponents = pca.fit_transform(X_test)\n",
    "\n",
    "principalDataframe = pd.DataFrame(data = principalComponents, columns = ['PC1', 'PC2', 'PC3', 'PC4','PC5',\n",
    "                                                                        'PC6', 'PC7', 'PC8', 'PC9','PC10',\n",
    "                                                                        'PC11', 'PC12', 'PC13', 'PC14','PC15',\n",
    "                                                                        'PC16', 'PC17', 'PC18', 'PC19','PC20',\n",
    "                                                                        'PC21', 'PC22', 'PC23', 'PC24','PC25',\n",
    "                                                                        'PC26', 'PC27', 'PC28', 'PC29','PC30',\n",
    "                                                                        'PC31', 'PC32', 'PC33', 'PC34','PC35']) #segundo cambio"
   ]
  },
  {
   "cell_type": "code",
   "execution_count": 41,
   "id": "89ddfcf0",
   "metadata": {},
   "outputs": [],
   "source": [
    "targetDataframe = df[['target']] #df[['NOMBRE DE LA COLUMNA A CLASIFICAR']] TERCER cambio\n",
    "\n",
    "newDataframe = pd.concat([principalDataframe, targetDataframe],axis = 1)"
   ]
  },
  {
   "cell_type": "code",
   "execution_count": 42,
   "id": "5e24b1e1",
   "metadata": {},
   "outputs": [],
   "source": [
    "percent_variance = np.round(pca.explained_variance_ratio_* 100, decimals =2)\n",
    "\n",
    "columns = ['PC1', 'PC2', 'PC3', 'PC4'] #cuarto cambio"
   ]
  },
  {
   "cell_type": "code",
   "execution_count": 43,
   "id": "72d11258",
   "metadata": {},
   "outputs": [
    {
     "data": {
      "image/png": "[encoded data removed]",
      "text/plain": [
       "<Figure size 576x576 with 1 Axes>"
      ]
     },
     "metadata": {
      "needs_background": "light"
     },
     "output_type": "display_data"
    }
   ],
   "source": [
    "fig = plt.figure(figsize = (8,8))\n",
    "a = fig.add_subplot(1,1,1) \n",
    "a.bar(x= range(1,5), height = percent_variance, tick_label=columns)\n",
    "a.xlabel = \"Principal Component\"\n",
    "#a.ylabel('Percentate of Variance Explained')\n",
    "#a.xlabel('Principal Component')\n",
    "#a.title('PCA Scree Plot')\n",
    "#a.show()"
   ]
  },
  {
   "cell_type": "code",
   "execution_count": 44,
   "id": "3bb5511f",
   "metadata": {},
   "outputs": [
    {
     "data": {
      "text/plain": [
       "<matplotlib.collections.PathCollection at 0x173a63c4490>"
      ]
     },
     "execution_count": 44,
     "metadata": {},
     "output_type": "execute_result"
    },
    {
     "data": {
      "image/png": "[encoded data removed]",
      "text/plain": [
       "<Figure size 360x360 with 1 Axes>"
      ]
     },
     "metadata": {
      "needs_background": "light"
     },
     "output_type": "display_data"
    }
   ],
   "source": [
    "fig = plt.figure(figsize = (5,5))\n",
    "a2 = fig.add_subplot(1,1,1) \n",
    "a2.scatter(principalDataframe.PC1, principalDataframe.PC2)\n",
    "#a2.title('PC1 against PC<2')\n",
    "#a2.xlabel('PC1')\n",
    "#a2.ylabel('PC2')"
   ]
  },
  {
   "cell_type": "code",
   "execution_count": 45,
   "id": "2779acc4",
   "metadata": {},
   "outputs": [
    {
     "data": {
      "image/png": "[encoded data removed]",
      "text/plain": [
       "<Figure size 576x576 with 1 Axes>"
      ]
     },
     "metadata": {
      "needs_background": "light"
     },
     "output_type": "display_data"
    }
   ],
   "source": [
    "fig = plt.figure(figsize = (8,8))\n",
    "ax = fig.add_subplot(1,1,1) \n",
    "ax.set_xlabel('PC1')\n",
    "ax.set_ylabel('PC2')\n",
    "\n",
    "ax.set_title('Plot of PC1 vs PC2', fontsize = 20)\n",
    "\n",
    "targets = ['Iris-setosa', 'Iris-versicolor', 'Iris-virginica']\n",
    "\n",
    "colors = ['r', 'g', 'b']\n",
    "\n",
    "for target, color in zip(targets,colors):\n",
    "    indicesToKeep = newDataframe['target'] == target\n",
    "    ax.scatter(newDataframe.loc[indicesToKeep, 'PC1']\n",
    "               , newDataframe.loc[indicesToKeep, 'PC2']\n",
    "               , c = color\n",
    "               , s = 50)\n",
    "    \n",
    "ax.legend(targets)\n",
    "ax.grid()"
   ]
  },
  {
   "cell_type": "code",
   "execution_count": 49,
   "id": "54788ed7",
   "metadata": {},
   "outputs": [
    {
     "data": {
      "text/plain": [
       "array([0.72770452, 0.23030523, 0.03683832, 0.00515193])"
      ]
     },
     "execution_count": 49,
     "metadata": {},
     "output_type": "execute_result"
    }
   ],
   "source": [
    "pca.explained_variance_ratio_"
   ]
  },
  {
   "cell_type": "code",
   "execution_count": null,
   "id": "c224c9f2",
   "metadata": {},
   "outputs": [],
   "source": []
  },
  {
   "cell_type": "code",
   "execution_count": null,
   "id": "1a5cac82",
   "metadata": {},
   "outputs": [],
   "source": []
  }
 ],
 "metadata": {
  "kernelspec": {
   "display_name": "Python 3 (ipykernel)",
   "language": "python",
   "name": "python3"
  },
  "language_info": {
   "codemirror_mode": {
    "name": "ipython",
    "version": 3
   },
   "file_extension": ".py",
   "mimetype": "text/x-python",
   "name": "python",
   "nbconvert_exporter": "python",
   "pygments_lexer": "ipython3",
   "version": "3.9.7"
  }
 },
 "nbformat": 4,
 "nbformat_minor": 5
}
