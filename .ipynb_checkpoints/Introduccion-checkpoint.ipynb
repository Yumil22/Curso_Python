{
 "cells": [
  {
   "cell_type": "markdown",
   "id": "961239d4",
   "metadata": {},
   "source": [
    "# ENTEROS"
   ]
  },
  {
   "cell_type": "code",
   "execution_count": 144,
   "id": "e955dfd7",
   "metadata": {},
   "outputs": [
    {
     "data": {
      "text/plain": [
       "69"
      ]
     },
     "execution_count": 144,
     "metadata": {},
     "output_type": "execute_result"
    }
   ],
   "source": [
    "0x45"
   ]
  },
  {
   "cell_type": "code",
   "execution_count": 154,
   "id": "e27a4423",
   "metadata": {},
   "outputs": [],
   "source": [
    "x = 156.0\n",
    "x\n",
    "hola = \"No declarada\""
   ]
  },
  {
   "cell_type": "code",
   "execution_count": 146,
   "id": "7b163c45",
   "metadata": {},
   "outputs": [
    {
     "name": "stdout",
     "output_type": "stream",
     "text": [
      "156.0\n"
     ]
    }
   ],
   "source": [
    "print(x)"
   ]
  },
  {
   "cell_type": "code",
   "execution_count": 147,
   "id": "d024e8d6",
   "metadata": {},
   "outputs": [
    {
     "name": "stdout",
     "output_type": "stream",
     "text": [
      "<class 'float'>\n"
     ]
    }
   ],
   "source": [
    "print(type(x))"
   ]
  },
  {
   "cell_type": "markdown",
   "id": "30ad235e",
   "metadata": {},
   "source": [
    "# FLOTANTE"
   ]
  },
  {
   "cell_type": "code",
   "execution_count": 148,
   "id": "f08e2343",
   "metadata": {},
   "outputs": [
    {
     "name": "stdout",
     "output_type": "stream",
     "text": [
      "<class 'float'>\n",
      "float: 5.26\n"
     ]
    }
   ],
   "source": [
    "f = 5.26\n",
    "print(type(f))\n",
    "print(\"float:\",f)"
   ]
  },
  {
   "cell_type": "code",
   "execution_count": 149,
   "id": "2bb8eb88",
   "metadata": {},
   "outputs": [
    {
     "name": "stdout",
     "output_type": "stream",
     "text": [
      "<class 'float'>\n",
      "float con notación cientifica: 122000.0\n"
     ]
    }
   ],
   "source": [
    "f = 12.2e4\n",
    "print(type(f))\n",
    "print(\"float con notación cientifica:\", f)"
   ]
  },
  {
   "cell_type": "markdown",
   "id": "2648155f",
   "metadata": {},
   "source": [
    "# IMAGINARIOS"
   ]
  },
  {
   "cell_type": "code",
   "execution_count": 150,
   "id": "cd65bd32",
   "metadata": {},
   "outputs": [
    {
     "name": "stdout",
     "output_type": "stream",
     "text": [
      "<class 'complex'>\n",
      "complex: (2+4j)\n"
     ]
    }
   ],
   "source": [
    "i = 2+4j\n",
    "print(type(i))\n",
    "print(\"complex:\",i)"
   ]
  },
  {
   "cell_type": "markdown",
   "id": "82afd2b8",
   "metadata": {},
   "source": [
    "# Cadenas"
   ]
  },
  {
   "cell_type": "code",
   "execution_count": 151,
   "id": "e2b73b42",
   "metadata": {
    "scrolled": true
   },
   "outputs": [
    {
     "name": "stdout",
     "output_type": "stream",
     "text": [
      "<class 'str'>\n",
      "string: Hola Mundo!\n"
     ]
    }
   ],
   "source": [
    "s = \"Hola Mundo!\"\n",
    "print(type(s))\n",
    "print(\"string:\",s)"
   ]
  },
  {
   "cell_type": "markdown",
   "id": "98acddd3",
   "metadata": {},
   "source": [
    "# Boolean"
   ]
  },
  {
   "cell_type": "code",
   "execution_count": 152,
   "id": "f57533bb",
   "metadata": {},
   "outputs": [
    {
     "name": "stdout",
     "output_type": "stream",
     "text": [
      "<class 'bool'>\n",
      "string: True\n"
     ]
    }
   ],
   "source": [
    "b=True\n",
    "print(type(b))\n",
    "print(\"string:\",b)"
   ]
  },
  {
   "cell_type": "markdown",
   "id": "b00daf6b",
   "metadata": {},
   "source": [
    "Qué tipo de variables es lo siguiente:\n",
    "    -> 12\n",
    "    -> 12.2\n",
    "    -> hola\n",
    "    -> \"mundo\"\n",
    "    -> b\n",
    "    -> 12 + 12+1\n",
    "    -> 12 + 12+1j\n",
    "    -> True\n",
    "    -> false"
   ]
  },
  {
   "cell_type": "code",
   "execution_count": 165,
   "id": "5dab38c4",
   "metadata": {
    "scrolled": true
   },
   "outputs": [
    {
     "name": "stdout",
     "output_type": "stream",
     "text": [
      "<class 'int'>\n",
      "<class 'float'>\n",
      "<class 'str'>\n",
      "<class 'str'>\n",
      "<class 'list'>\n",
      "<class 'int'>\n",
      "<class 'complex'>\n",
      "<class 'bool'>\n",
      "<class 'bool'>\n"
     ]
    }
   ],
   "source": [
    "print(type(12))\n",
    "print(type(12.2))\n",
    "print(type(hola))\n",
    "print(type(\"mundo\"))\n",
    "print(type(b))\n",
    "print(type(12 +12 +1))\n",
    "print(type(12+12+1j))\n",
    "print(type(True))\n",
    "print(type(False))"
   ]
  },
  {
   "cell_type": "markdown",
   "id": "8da96367",
   "metadata": {},
   "source": [
    "# Listas"
   ]
  },
  {
   "cell_type": "code",
   "execution_count": 162,
   "id": "66089dff",
   "metadata": {},
   "outputs": [
    {
     "name": "stdout",
     "output_type": "stream",
     "text": [
      "<class 'list'>\n",
      "<class 'tuple'>\n"
     ]
    }
   ],
   "source": [
    "lista = [] #Por corchetes\n",
    "otherlist = list() #No recomendable\n",
    "unaTupla = () #por parentesis\n",
    "otherTuple = tuple()\n",
    "\n",
    "diccionario = {}\n",
    "otherdiction = dict()\n",
    "conjunto = set()\n",
    "\n",
    "print(type(otherlist))\n",
    "print(type(unaTupla))"
   ]
  },
  {
   "cell_type": "markdown",
   "id": "d3c453bf",
   "metadata": {},
   "source": [
    "Las listas y las tuplas pueden tener elementos de diferentes tipos"
   ]
  },
  {
   "cell_type": "code",
   "execution_count": 167,
   "id": "dba95cd0",
   "metadata": {},
   "outputs": [
    {
     "name": "stdout",
     "output_type": "stream",
     "text": [
      "[5, 'Hola mundo!', (1, 2), True, -1.5]\n"
     ]
    }
   ],
   "source": [
    "b = [5, \"Hola mundo!\", (1, 2), True, -1.5]\n",
    "print(b)"
   ]
  },
  {
   "cell_type": "markdown",
   "id": "a251ae41",
   "metadata": {},
   "source": [
    "Lista: No es necesario especificar la cantidad de elementos, se pueden modificar despues de ser creados\n",
    "\n",
    "Tupla: ocupan menos memoria, no son mutables, es decir, como una lista estatica.\n"
   ]
  },
  {
   "cell_type": "code",
   "execution_count": 173,
   "id": "a4ea2106",
   "metadata": {},
   "outputs": [
    {
     "data": {
      "text/plain": [
       "tuple"
      ]
     },
     "execution_count": 173,
     "metadata": {},
     "output_type": "execute_result"
    }
   ],
   "source": [
    "#Tupla con un solo elemento\n",
    "b = (5, \"sadfas\",  True)\n",
    "type(b)"
   ]
  },
  {
   "cell_type": "markdown",
   "id": "35d07c71",
   "metadata": {},
   "source": [
    "# Acceder a las tuplas y las listas"
   ]
  },
  {
   "cell_type": "code",
   "execution_count": 174,
   "id": "501a41a8",
   "metadata": {},
   "outputs": [
    {
     "data": {
      "text/plain": [
       "'Hola'"
      ]
     },
     "execution_count": 174,
     "metadata": {},
     "output_type": "execute_result"
    }
   ],
   "source": [
    "a = [\"Hola\", \"mundo\", \"!\"]\n",
    "a[0]"
   ]
  },
  {
   "cell_type": "code",
   "execution_count": 178,
   "id": "2e3811c3",
   "metadata": {},
   "outputs": [],
   "source": [
    "a[0] = \"Hola mundo\""
   ]
  },
  {
   "cell_type": "code",
   "execution_count": 179,
   "id": "6821aba1",
   "metadata": {},
   "outputs": [
    {
     "data": {
      "text/plain": [
       "['Hola mundo', 'mundo', '!']"
      ]
     },
     "execution_count": 179,
     "metadata": {},
     "output_type": "execute_result"
    }
   ],
   "source": [
    "a"
   ]
  },
  {
   "cell_type": "code",
   "execution_count": 181,
   "id": "8c5db290",
   "metadata": {},
   "outputs": [
    {
     "ename": "TypeError",
     "evalue": "'tuple' object does not support item assignment",
     "output_type": "error",
     "traceback": [
      "\u001b[1;31m---------------------------------------------------------------------------\u001b[0m",
      "\u001b[1;31mTypeError\u001b[0m                                 Traceback (most recent call last)",
      "\u001b[1;32m~\\AppData\\Local\\Temp/ipykernel_17268/1338681980.py\u001b[0m in \u001b[0;36m<module>\u001b[1;34m\u001b[0m\n\u001b[1;32m----> 1\u001b[1;33m \u001b[0mb\u001b[0m\u001b[1;33m[\u001b[0m\u001b[1;36m0\u001b[0m\u001b[1;33m]\u001b[0m \u001b[1;33m=\u001b[0m \u001b[1;36m10\u001b[0m\u001b[1;33m\u001b[0m\u001b[1;33m\u001b[0m\u001b[0m\n\u001b[0m",
      "\u001b[1;31mTypeError\u001b[0m: 'tuple' object does not support item assignment"
     ]
    }
   ],
   "source": [
    "b[0] = 10"
   ]
  },
  {
   "cell_type": "markdown",
   "id": "44e0cf81",
   "metadata": {},
   "source": [
    "# Acceder a valores"
   ]
  },
  {
   "cell_type": "code",
   "execution_count": 186,
   "id": "b4d6fe36",
   "metadata": {},
   "outputs": [
    {
     "data": {
      "text/plain": [
       "[1, 3, 5, 7, 9, 9]"
      ]
     },
     "execution_count": 186,
     "metadata": {},
     "output_type": "execute_result"
    }
   ],
   "source": [
    "#APPEND\n",
    "a = [1, 3, 5, 7]\n",
    "a.append(9)\n",
    "a.append(9)\n",
    "a"
   ]
  },
  {
   "cell_type": "code",
   "execution_count": 189,
   "id": "a7c28b9f",
   "metadata": {},
   "outputs": [
    {
     "data": {
      "text/plain": [
       "[1, 3, 'Esto es una lista', 7, 9, 9]"
      ]
     },
     "execution_count": 189,
     "metadata": {},
     "output_type": "execute_result"
    }
   ],
   "source": [
    "a[2] = \"Esto es una lista\"\n",
    "a"
   ]
  },
  {
   "cell_type": "code",
   "execution_count": 192,
   "id": "b9c54cdc",
   "metadata": {},
   "outputs": [
    {
     "data": {
      "text/plain": [
       "[1, 2, 3, 4, 5, 6]"
      ]
     },
     "execution_count": 192,
     "metadata": {},
     "output_type": "execute_result"
    }
   ],
   "source": [
    "#INSERT\n",
    "a = [1, 3, 4, 5, 6]\n",
    "a.insert(1, 2)\n",
    "a"
   ]
  },
  {
   "cell_type": "code",
   "execution_count": 193,
   "id": "ef76e2c1",
   "metadata": {},
   "outputs": [
    {
     "data": {
      "text/plain": [
       "['Hola', 'Recursos', 'Python']"
      ]
     },
     "execution_count": 193,
     "metadata": {},
     "output_type": "execute_result"
    }
   ],
   "source": [
    "b = [\"Hola\", \"Python\"]\n",
    "b.insert(1, \"Recursos\")\n",
    "b"
   ]
  },
  {
   "cell_type": "code",
   "execution_count": 200,
   "id": "6e01a5e3",
   "metadata": {},
   "outputs": [
    {
     "data": {
      "text/plain": [
       "['Perro', 'Caballo']"
      ]
     },
     "execution_count": 200,
     "metadata": {},
     "output_type": "execute_result"
    }
   ],
   "source": [
    "a = [\"Perro\", \"Gato\", \"Caballo\"]\n",
    "a.remove(\"Gato\")\n",
    "a"
   ]
  },
  {
   "cell_type": "code",
   "execution_count": 198,
   "id": "f483bf8b",
   "metadata": {},
   "outputs": [
    {
     "data": {
      "text/plain": [
       "['Pera', 'Banana', 'Naranja']"
      ]
     },
     "execution_count": 198,
     "metadata": {},
     "output_type": "execute_result"
    }
   ],
   "source": [
    "#Para eliminar uno en una posicion determinada\n",
    "a = [\"Manzana\", \"Pera\", \"Banana\", \"Naranja\"]\n",
    "del a[0]\n",
    "a"
   ]
  },
  {
   "cell_type": "code",
   "execution_count": 201,
   "id": "8ca51401",
   "metadata": {},
   "outputs": [],
   "source": [
    "#eliminar todos los elementos\n",
    "del a[:]"
   ]
  },
  {
   "cell_type": "code",
   "execution_count": 204,
   "id": "cfbb5b58",
   "metadata": {},
   "outputs": [
    {
     "data": {
      "text/plain": [
       "0"
      ]
     },
     "execution_count": 204,
     "metadata": {},
     "output_type": "execute_result"
    }
   ],
   "source": [
    "len(a)\n"
   ]
  },
  {
   "cell_type": "markdown",
   "id": "45330547",
   "metadata": {},
   "source": [
    "# Conversiones lista -tupla"
   ]
  },
  {
   "cell_type": "code",
   "execution_count": 205,
   "id": "bd4be965",
   "metadata": {},
   "outputs": [
    {
     "name": "stdout",
     "output_type": "stream",
     "text": [
      "<class 'list'>\n",
      "<class 'tuple'>\n"
     ]
    },
    {
     "data": {
      "text/plain": [
       "(1, 2, 3)"
      ]
     },
     "execution_count": 205,
     "metadata": {},
     "output_type": "execute_result"
    }
   ],
   "source": [
    "a = [1, 2, 3]\n",
    "print(type(a))\n",
    "a = tuple(a)\n",
    "print(type(a))\n",
    "a"
   ]
  },
  {
   "cell_type": "code",
   "execution_count": 207,
   "id": "add05b60",
   "metadata": {
    "scrolled": false
   },
   "outputs": [],
   "source": [
    "a = list(a)\n"
   ]
  },
  {
   "cell_type": "code",
   "execution_count": 219,
   "id": "7c9291d3",
   "metadata": {},
   "outputs": [
    {
     "data": {
      "text/plain": [
       "['C', 'C++', 'Python', 'Perl', 'PHP', 'Pascal']"
      ]
     },
     "execution_count": 219,
     "metadata": {},
     "output_type": "execute_result"
    }
   ],
   "source": [
    "a = [\"C\", \"C++\", \"Python\", \"Perl\", \"PHP\", \"Pascal\"]\n",
    "a\n",
    "a[2:5]\n",
    "a[:4]\n",
    "a[4:]\n",
    "a[:]\n",
    "a[:len(a)]"
   ]
  },
  {
   "cell_type": "code",
   "execution_count": 220,
   "id": "f6e0e532",
   "metadata": {},
   "outputs": [
    {
     "data": {
      "text/plain": [
       "'Pascal'"
      ]
     },
     "execution_count": 220,
     "metadata": {},
     "output_type": "execute_result"
    }
   ],
   "source": [
    "#Slicing\n",
    "a[1:3]\n",
    "a = [\"C\", \"C++\", \"Python\", \"Perl\", \"PHP\", \"Pascal\"]\n",
    "a[2:5]\n",
    "a[:4]\n",
    "a[4:]\n",
    "a[:]\n",
    "a[:len(a)]\n",
    "\n",
    "#\n",
    "a[-1]"
   ]
  },
  {
   "cell_type": "code",
   "execution_count": 225,
   "id": "17f6fef1",
   "metadata": {},
   "outputs": [
    {
     "data": {
      "text/plain": [
       "['Pascal']"
      ]
     },
     "execution_count": 225,
     "metadata": {},
     "output_type": "execute_result"
    }
   ],
   "source": [
    "a[-1:] #ultimo elemento de la lista\n",
    "a[len(a) - 1:] #mismo\n"
   ]
  },
  {
   "cell_type": "code",
   "execution_count": 226,
   "id": "edd4b8eb",
   "metadata": {},
   "outputs": [
    {
     "data": {
      "text/plain": [
       "['C', 'C++', 'Python', 'Perl', 'PHP']"
      ]
     },
     "execution_count": 226,
     "metadata": {},
     "output_type": "execute_result"
    }
   ],
   "source": [
    "#todos menos el ultimo\n",
    "a[:-1]"
   ]
  },
  {
   "cell_type": "code",
   "execution_count": 227,
   "id": "9de3b280",
   "metadata": {},
   "outputs": [
    {
     "data": {
      "text/plain": [
       "['C', 'C++', 'Python']"
      ]
     },
     "execution_count": 227,
     "metadata": {},
     "output_type": "execute_result"
    }
   ],
   "source": [
    "#quitamos los ultimos 3\n",
    "a[:-3]"
   ]
  },
  {
   "cell_type": "code",
   "execution_count": 237,
   "id": "0c3aad97",
   "metadata": {},
   "outputs": [
    {
     "data": {
      "text/plain": [
       "[0, 8, 16]"
      ]
     },
     "execution_count": 237,
     "metadata": {},
     "output_type": "execute_result"
    }
   ],
   "source": [
    "a = list(range(20))\n",
    "a[::8]"
   ]
  },
  {
   "cell_type": "code",
   "execution_count": 238,
   "id": "a752c6e3",
   "metadata": {},
   "outputs": [
    {
     "data": {
      "text/plain": [
       "[5, 7, 9, 11, 13]"
      ]
     },
     "execution_count": 238,
     "metadata": {},
     "output_type": "execute_result"
    }
   ],
   "source": [
    "a[5:15:2] "
   ]
  },
  {
   "cell_type": "markdown",
   "id": "eb554326",
   "metadata": {},
   "source": [
    "# Buscar elementos en un lista/tupla"
   ]
  },
  {
   "cell_type": "code",
   "execution_count": null,
   "id": "6a349ead",
   "metadata": {},
   "outputs": [],
   "source": [
    "a = (1, 2, 3, 4)"
   ]
  },
  {
   "cell_type": "code",
   "execution_count": null,
   "id": "2dcee238",
   "metadata": {},
   "outputs": [],
   "source": [
    "3 in a"
   ]
  },
  {
   "cell_type": "code",
   "execution_count": null,
   "id": "8b3549dd",
   "metadata": {},
   "outputs": [],
   "source": [
    "#inlcuso podemos usar una negacion\n",
    "0.5 not in (1, 2, 3, 4)"
   ]
  },
  {
   "cell_type": "markdown",
   "id": "d0c54fe1",
   "metadata": {},
   "source": [
    "# Iteracion"
   ]
  },
  {
   "cell_type": "markdown",
   "id": "052eb9fb",
   "metadata": {},
   "source": [
    "Esto es en C:\n",
    "\n",
    "int i;\n",
    "int a[5] = {1, 2, 3, 4, 5};\n",
    "for (i = 0; i < 5; i++)\n",
    "    printf(\"%d\\n\", a[i]);"
   ]
  },
  {
   "cell_type": "code",
   "execution_count": null,
   "id": "48f36e9d",
   "metadata": {},
   "outputs": [],
   "source": [
    "a = (1, 2, 3, 4, 5)\n",
    "\n",
    "for i in range(len(a)):\n",
    "    print(a[i])"
   ]
  },
  {
   "cell_type": "code",
   "execution_count": null,
   "id": "e9a75412",
   "metadata": {},
   "outputs": [],
   "source": [
    "#Foreach\n",
    "for num in a:\n",
    "    print(num)"
   ]
  },
  {
   "cell_type": "code",
   "execution_count": null,
   "id": "5822c840",
   "metadata": {},
   "outputs": [],
   "source": [
    "#si quiero mantener el indice de mis objetos en la lista\n",
    "list(enumerate(a))\n"
   ]
  },
  {
   "cell_type": "code",
   "execution_count": null,
   "id": "a1a4216e",
   "metadata": {},
   "outputs": [],
   "source": [
    "#Evita empear desde cero\n",
    "list(enumerate(a, 1))"
   ]
  },
  {
   "cell_type": "code",
   "execution_count": 55,
   "id": "694cdba4",
   "metadata": {
    "scrolled": true
   },
   "outputs": [
    {
     "name": "stdout",
     "output_type": "stream",
     "text": [
      "Elemento 1: 1.\n",
      "Elemento 2: 2.\n",
      "Elemento 3: 3.\n",
      "Elemento 4: 4.\n",
      "Elemento 5: 5.\n"
     ]
    }
   ],
   "source": [
    "for indice, item in enumerate(a, 1):\n",
    "    print(\"Elemento %d: %s.\" % (indice, str(item)))"
   ]
  },
  {
   "cell_type": "code",
   "execution_count": 72,
   "id": "ba97edd3",
   "metadata": {},
   "outputs": [],
   "source": [
    "a = [0,1,2,3,4,5,6,7,8,9,1, -2]"
   ]
  },
  {
   "cell_type": "code",
   "execution_count": 61,
   "id": "32d6b96e",
   "metadata": {},
   "outputs": [
    {
     "data": {
      "text/plain": [
       "2"
      ]
     },
     "execution_count": 61,
     "metadata": {},
     "output_type": "execute_result"
    }
   ],
   "source": [
    "a.count(1)"
   ]
  },
  {
   "cell_type": "code",
   "execution_count": 63,
   "id": "cb49ebb2",
   "metadata": {},
   "outputs": [
    {
     "data": {
      "text/plain": [
       "[0, 1, 1, 2, 3, 4, 5, 6, 7, 8, 9]"
      ]
     },
     "execution_count": 63,
     "metadata": {},
     "output_type": "execute_result"
    }
   ],
   "source": [
    "#ordena\n",
    "a.sort()\n",
    "a"
   ]
  },
  {
   "cell_type": "code",
   "execution_count": 64,
   "id": "2923b67b",
   "metadata": {},
   "outputs": [
    {
     "data": {
      "text/plain": [
       "9"
      ]
     },
     "execution_count": 64,
     "metadata": {},
     "output_type": "execute_result"
    }
   ],
   "source": [
    "a.pop()"
   ]
  },
  {
   "cell_type": "code",
   "execution_count": 65,
   "id": "d248aa81",
   "metadata": {},
   "outputs": [
    {
     "data": {
      "text/plain": [
       "[0, 1, 1, 2, 3, 4, 5, 6, 7, 8]"
      ]
     },
     "execution_count": 65,
     "metadata": {},
     "output_type": "execute_result"
    }
   ],
   "source": [
    "a"
   ]
  },
  {
   "cell_type": "code",
   "execution_count": 68,
   "id": "50ac13d9",
   "metadata": {},
   "outputs": [
    {
     "data": {
      "text/plain": [
       "{0: 'element', 'cadena': 3}"
      ]
     },
     "execution_count": 68,
     "metadata": {},
     "output_type": "execute_result"
    }
   ],
   "source": [
    "#diccionarios\n",
    "\n",
    "d = {}\n",
    "d[0] = 'element'\n",
    "d['cadena'] = 3\n",
    "d"
   ]
  },
  {
   "cell_type": "code",
   "execution_count": 69,
   "id": "0fcbae3f",
   "metadata": {},
   "outputs": [
    {
     "data": {
      "text/plain": [
       "dict_keys([0, 'cadena'])"
      ]
     },
     "execution_count": 69,
     "metadata": {},
     "output_type": "execute_result"
    }
   ],
   "source": [
    "d.keys()"
   ]
  },
  {
   "cell_type": "code",
   "execution_count": 78,
   "id": "6165aa3a",
   "metadata": {},
   "outputs": [
    {
     "data": {
      "text/plain": [
       "{0: [], 1: [], 2: [], 3: [], 4: [], 5: [], 6: [], 7: [], 8: [], -2: []}"
      ]
     },
     "execution_count": 78,
     "metadata": {},
     "output_type": "execute_result"
    }
   ],
   "source": [
    "d = {}.fromkeys(a,[])\n",
    "d"
   ]
  },
  {
   "cell_type": "code",
   "execution_count": 79,
   "id": "849883b5",
   "metadata": {},
   "outputs": [
    {
     "data": {
      "text/plain": [
       "{0: [], 1: [], 2: [], 3: [], 4: [], 5: [], 6: [], 7: [], 8: []}"
      ]
     },
     "execution_count": 79,
     "metadata": {},
     "output_type": "execute_result"
    }
   ],
   "source": [
    "del d[-2]\n",
    "d"
   ]
  },
  {
   "cell_type": "code",
   "execution_count": 80,
   "id": "8d983e99",
   "metadata": {},
   "outputs": [
    {
     "data": {
      "text/plain": [
       "'siguiente elemento'"
      ]
     },
     "execution_count": 80,
     "metadata": {},
     "output_type": "execute_result"
    }
   ],
   "source": [
    "d.get(-2, 'no esta')"
   ]
  },
  {
   "cell_type": "code",
   "execution_count": 83,
   "id": "d4035438",
   "metadata": {},
   "outputs": [
    {
     "data": {
      "text/plain": [
       "[]"
      ]
     },
     "execution_count": 83,
     "metadata": {},
     "output_type": "execute_result"
    }
   ],
   "source": [
    "d.get(1, 'no esta')"
   ]
  },
  {
   "cell_type": "code",
   "execution_count": 84,
   "id": "99adb46d",
   "metadata": {},
   "outputs": [
    {
     "data": {
      "text/plain": [
       "(8, [])"
      ]
     },
     "execution_count": 84,
     "metadata": {},
     "output_type": "execute_result"
    }
   ],
   "source": [
    "d.popitem()"
   ]
  },
  {
   "cell_type": "code",
   "execution_count": null,
   "id": "1bc247b5",
   "metadata": {},
   "outputs": [],
   "source": [
    "d"
   ]
  },
  {
   "cell_type": "code",
   "execution_count": 85,
   "id": "7328649f",
   "metadata": {},
   "outputs": [
    {
     "data": {
      "text/plain": [
       "dict_keys([0, 1, 2, 3, 4, 5, 6, 7])"
      ]
     },
     "execution_count": 85,
     "metadata": {},
     "output_type": "execute_result"
    }
   ],
   "source": [
    "d.keys()"
   ]
  },
  {
   "cell_type": "code",
   "execution_count": 86,
   "id": "6fae69fd",
   "metadata": {},
   "outputs": [
    {
     "data": {
      "text/plain": [
       "dict_values([[], [], [], [], [], [], [], []])"
      ]
     },
     "execution_count": 86,
     "metadata": {},
     "output_type": "execute_result"
    }
   ],
   "source": [
    "d.values()"
   ]
  },
  {
   "cell_type": "code",
   "execution_count": null,
   "id": "bab20b8d",
   "metadata": {},
   "outputs": [],
   "source": []
  },
  {
   "cell_type": "code",
   "execution_count": 87,
   "id": "1dbe8d84",
   "metadata": {},
   "outputs": [],
   "source": [
    "d.clear()"
   ]
  },
  {
   "cell_type": "code",
   "execution_count": 88,
   "id": "69b3ce53",
   "metadata": {},
   "outputs": [
    {
     "data": {
      "text/plain": [
       "{}"
      ]
     },
     "execution_count": 88,
     "metadata": {},
     "output_type": "execute_result"
    }
   ],
   "source": [
    "d"
   ]
  },
  {
   "cell_type": "markdown",
   "id": "b2818c38",
   "metadata": {},
   "source": []
  },
  {
   "cell_type": "code",
   "execution_count": 29,
   "id": "e6847d10",
   "metadata": {},
   "outputs": [
    {
     "name": "stdout",
     "output_type": "stream",
     "text": [
      "I am an instance of example1\n",
      "I am an instance of example2\n"
     ]
    }
   ],
   "source": [
    "class example1:\n",
    "        def type(self):\n",
    "            return 'example1'\n",
    "class example2:\n",
    "        def type(self):\n",
    "            return 'example2'\n",
    "def display(instance):\n",
    "        print (\"I am an instance of \"+ instance.type())\n",
    "display(example1())\n",
    "display(example2())"
   ]
  },
  {
   "cell_type": "code",
   "execution_count": null,
   "id": "10f24212",
   "metadata": {},
   "outputs": [],
   "source": []
  }
 ],
 "metadata": {
  "kernelspec": {
   "display_name": "Python 3 (ipykernel)",
   "language": "python",
   "name": "python3"
  },
  "language_info": {
   "codemirror_mode": {
    "name": "ipython",
    "version": 3
   },
   "file_extension": ".py",
   "mimetype": "text/x-python",
   "name": "python",
   "nbconvert_exporter": "python",
   "pygments_lexer": "ipython3",
   "version": "3.9.7"
  }
 },
 "nbformat": 4,
 "nbformat_minor": 5
}
