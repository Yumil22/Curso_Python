{
 "cells": [
  {
   "cell_type": "code",
   "execution_count": 20,
   "id": "af7ade21",
   "metadata": {},
   "outputs": [],
   "source": [
    "# Imports needed for the script\n",
    "import numpy as np\n",
    "import pandas as pd\n",
    "import seaborn as sb\n",
    "import matplotlib.pyplot as plt\n",
    "from sklearn import tree\n",
    "from sklearn.metrics import accuracy_score\n",
    "from sklearn.model_selection import KFold\n",
    "from sklearn.model_selection import cross_val_score\n",
    "from IPython.display import Image as PImage\n",
    "from subprocess import check_call\n",
    "from PIL import Image, ImageDraw, ImageFont\n",
    "\n",
    "import pandas as pd\n",
    "import numpy as np"
   ]
  },
  {
   "cell_type": "code",
   "execution_count": 17,
   "id": "18c6542e",
   "metadata": {},
   "outputs": [
    {
     "name": "stdout",
     "output_type": "stream",
     "text": [
      "(132, 42)\n"
     ]
    },
    {
     "data": {
      "text/html": [
       "<div>\n",
       "<style scoped>\n",
       "    .dataframe tbody tr th:only-of-type {\n",
       "        vertical-align: middle;\n",
       "    }\n",
       "\n",
       "    .dataframe tbody tr th {\n",
       "        vertical-align: top;\n",
       "    }\n",
       "\n",
       "    .dataframe thead th {\n",
       "        text-align: right;\n",
       "    }\n",
       "</style>\n",
       "<table border=\"1\" class=\"dataframe\">\n",
       "  <thead>\n",
       "    <tr style=\"text-align: right;\">\n",
       "      <th></th>\n",
       "      <th>Unnamed: 0</th>\n",
       "      <th>DateReceived</th>\n",
       "      <th>Website</th>\n",
       "      <th>URLCount</th>\n",
       "      <th>R1Time</th>\n",
       "      <th>CrawlIssues</th>\n",
       "      <th>WebReviewDif</th>\n",
       "      <th>WebsitePriority</th>\n",
       "      <th>ErrorCount</th>\n",
       "      <th>R2Time</th>\n",
       "      <th>...</th>\n",
       "      <th>IncorrectGuidance</th>\n",
       "      <th>Other?</th>\n",
       "      <th>Was it a PSF?</th>\n",
       "      <th>MXQA_Encoded</th>\n",
       "      <th>TeamLead_Encoded</th>\n",
       "      <th>QM_Encoded</th>\n",
       "      <th>Month_Encoded</th>\n",
       "      <th>DP_Encoded</th>\n",
       "      <th>DualReviewer_Encoded</th>\n",
       "      <th>Batch Status</th>\n",
       "    </tr>\n",
       "  </thead>\n",
       "  <tbody>\n",
       "    <tr>\n",
       "      <th>0</th>\n",
       "      <td>632</td>\n",
       "      <td>10/18/2021</td>\n",
       "      <td>deerstags.com</td>\n",
       "      <td>17</td>\n",
       "      <td>140</td>\n",
       "      <td>100</td>\n",
       "      <td>5</td>\n",
       "      <td>QM Check Urgent</td>\n",
       "      <td>0</td>\n",
       "      <td>71</td>\n",
       "      <td>...</td>\n",
       "      <td>False</td>\n",
       "      <td>0</td>\n",
       "      <td>False</td>\n",
       "      <td>8.0</td>\n",
       "      <td>2.0</td>\n",
       "      <td>6.0</td>\n",
       "      <td>3.0</td>\n",
       "      <td>2.0</td>\n",
       "      <td>21.0</td>\n",
       "      <td>0</td>\n",
       "    </tr>\n",
       "    <tr>\n",
       "      <th>1</th>\n",
       "      <td>621</td>\n",
       "      <td>10/18/2021</td>\n",
       "      <td>mgchemicals.com</td>\n",
       "      <td>194</td>\n",
       "      <td>500</td>\n",
       "      <td>0</td>\n",
       "      <td>4</td>\n",
       "      <td>QM Check Needed</td>\n",
       "      <td>1</td>\n",
       "      <td>190</td>\n",
       "      <td>...</td>\n",
       "      <td>False</td>\n",
       "      <td>0</td>\n",
       "      <td>False</td>\n",
       "      <td>34.0</td>\n",
       "      <td>4.0</td>\n",
       "      <td>6.0</td>\n",
       "      <td>3.0</td>\n",
       "      <td>7.0</td>\n",
       "      <td>NaN</td>\n",
       "      <td>0</td>\n",
       "    </tr>\n",
       "    <tr>\n",
       "      <th>2</th>\n",
       "      <td>703</td>\n",
       "      <td>10/26/2021</td>\n",
       "      <td>godogfun.com</td>\n",
       "      <td>30</td>\n",
       "      <td>90</td>\n",
       "      <td>0</td>\n",
       "      <td>1</td>\n",
       "      <td>PSF</td>\n",
       "      <td>0</td>\n",
       "      <td>30</td>\n",
       "      <td>...</td>\n",
       "      <td>False</td>\n",
       "      <td>0</td>\n",
       "      <td>True</td>\n",
       "      <td>26.0</td>\n",
       "      <td>3.0</td>\n",
       "      <td>7.0</td>\n",
       "      <td>3.0</td>\n",
       "      <td>8.0</td>\n",
       "      <td>NaN</td>\n",
       "      <td>1</td>\n",
       "    </tr>\n",
       "    <tr>\n",
       "      <th>3</th>\n",
       "      <td>223</td>\n",
       "      <td>11/16/2021</td>\n",
       "      <td>tourit.com</td>\n",
       "      <td>20</td>\n",
       "      <td>120</td>\n",
       "      <td>0</td>\n",
       "      <td>1</td>\n",
       "      <td>PSF</td>\n",
       "      <td>4</td>\n",
       "      <td>70</td>\n",
       "      <td>...</td>\n",
       "      <td>False</td>\n",
       "      <td>0</td>\n",
       "      <td>True</td>\n",
       "      <td>29.0</td>\n",
       "      <td>3.0</td>\n",
       "      <td>6.0</td>\n",
       "      <td>2.0</td>\n",
       "      <td>8.0</td>\n",
       "      <td>NaN</td>\n",
       "      <td>1</td>\n",
       "    </tr>\n",
       "    <tr>\n",
       "      <th>4</th>\n",
       "      <td>14</td>\n",
       "      <td>NaT</td>\n",
       "      <td>manicpanic.com</td>\n",
       "      <td>40</td>\n",
       "      <td>139</td>\n",
       "      <td>25</td>\n",
       "      <td>2</td>\n",
       "      <td>None</td>\n",
       "      <td>3</td>\n",
       "      <td>71</td>\n",
       "      <td>...</td>\n",
       "      <td>False</td>\n",
       "      <td>0</td>\n",
       "      <td>False</td>\n",
       "      <td>40.0</td>\n",
       "      <td>3.0</td>\n",
       "      <td>1.0</td>\n",
       "      <td>0.0</td>\n",
       "      <td>2.0</td>\n",
       "      <td>NaN</td>\n",
       "      <td>0</td>\n",
       "    </tr>\n",
       "    <tr>\n",
       "      <th>...</th>\n",
       "      <td>...</td>\n",
       "      <td>...</td>\n",
       "      <td>...</td>\n",
       "      <td>...</td>\n",
       "      <td>...</td>\n",
       "      <td>...</td>\n",
       "      <td>...</td>\n",
       "      <td>...</td>\n",
       "      <td>...</td>\n",
       "      <td>...</td>\n",
       "      <td>...</td>\n",
       "      <td>...</td>\n",
       "      <td>...</td>\n",
       "      <td>...</td>\n",
       "      <td>...</td>\n",
       "      <td>...</td>\n",
       "      <td>...</td>\n",
       "      <td>...</td>\n",
       "      <td>...</td>\n",
       "      <td>...</td>\n",
       "      <td>...</td>\n",
       "    </tr>\n",
       "    <tr>\n",
       "      <th>127</th>\n",
       "      <td>443</td>\n",
       "      <td>10/7/2021</td>\n",
       "      <td>purplepandastore.com</td>\n",
       "      <td>25</td>\n",
       "      <td>120</td>\n",
       "      <td>0</td>\n",
       "      <td>5</td>\n",
       "      <td>QM Check Needed</td>\n",
       "      <td>0</td>\n",
       "      <td>60</td>\n",
       "      <td>...</td>\n",
       "      <td>False</td>\n",
       "      <td>0</td>\n",
       "      <td>False</td>\n",
       "      <td>23.0</td>\n",
       "      <td>5.0</td>\n",
       "      <td>6.0</td>\n",
       "      <td>3.0</td>\n",
       "      <td>8.0</td>\n",
       "      <td>NaN</td>\n",
       "      <td>1</td>\n",
       "    </tr>\n",
       "    <tr>\n",
       "      <th>128</th>\n",
       "      <td>913</td>\n",
       "      <td>9/27/2021</td>\n",
       "      <td>logitech.com</td>\n",
       "      <td>151</td>\n",
       "      <td>139</td>\n",
       "      <td>0</td>\n",
       "      <td>2</td>\n",
       "      <td>PSF</td>\n",
       "      <td>2</td>\n",
       "      <td>71</td>\n",
       "      <td>...</td>\n",
       "      <td>False</td>\n",
       "      <td>0</td>\n",
       "      <td>True</td>\n",
       "      <td>23.0</td>\n",
       "      <td>5.0</td>\n",
       "      <td>6.0</td>\n",
       "      <td>4.0</td>\n",
       "      <td>8.0</td>\n",
       "      <td>NaN</td>\n",
       "      <td>1</td>\n",
       "    </tr>\n",
       "    <tr>\n",
       "      <th>129</th>\n",
       "      <td>791</td>\n",
       "      <td>9/27/2021</td>\n",
       "      <td>rollplay.com</td>\n",
       "      <td>20</td>\n",
       "      <td>139</td>\n",
       "      <td>100</td>\n",
       "      <td>2</td>\n",
       "      <td>PSF</td>\n",
       "      <td>2</td>\n",
       "      <td>71</td>\n",
       "      <td>...</td>\n",
       "      <td>False</td>\n",
       "      <td>0</td>\n",
       "      <td>True</td>\n",
       "      <td>32.0</td>\n",
       "      <td>2.0</td>\n",
       "      <td>8.0</td>\n",
       "      <td>4.0</td>\n",
       "      <td>8.0</td>\n",
       "      <td>NaN</td>\n",
       "      <td>1</td>\n",
       "    </tr>\n",
       "    <tr>\n",
       "      <th>130</th>\n",
       "      <td>29</td>\n",
       "      <td>NaT</td>\n",
       "      <td>aleradetails.com</td>\n",
       "      <td>40</td>\n",
       "      <td>139</td>\n",
       "      <td>25</td>\n",
       "      <td>2</td>\n",
       "      <td>None</td>\n",
       "      <td>3</td>\n",
       "      <td>71</td>\n",
       "      <td>...</td>\n",
       "      <td>False</td>\n",
       "      <td>0</td>\n",
       "      <td>False</td>\n",
       "      <td>17.0</td>\n",
       "      <td>6.0</td>\n",
       "      <td>3.0</td>\n",
       "      <td>1.0</td>\n",
       "      <td>6.0</td>\n",
       "      <td>NaN</td>\n",
       "      <td>0</td>\n",
       "    </tr>\n",
       "    <tr>\n",
       "      <th>131</th>\n",
       "      <td>744</td>\n",
       "      <td>9/27/2021</td>\n",
       "      <td>beliani.de</td>\n",
       "      <td>20</td>\n",
       "      <td>139</td>\n",
       "      <td>0</td>\n",
       "      <td>1</td>\n",
       "      <td>PSF</td>\n",
       "      <td>2</td>\n",
       "      <td>71</td>\n",
       "      <td>...</td>\n",
       "      <td>False</td>\n",
       "      <td>0</td>\n",
       "      <td>True</td>\n",
       "      <td>9.0</td>\n",
       "      <td>5.0</td>\n",
       "      <td>1.0</td>\n",
       "      <td>4.0</td>\n",
       "      <td>8.0</td>\n",
       "      <td>NaN</td>\n",
       "      <td>1</td>\n",
       "    </tr>\n",
       "  </tbody>\n",
       "</table>\n",
       "<p>132 rows × 42 columns</p>\n",
       "</div>"
      ],
      "text/plain": [
       "     Unnamed: 0 DateReceived               Website  URLCount  R1Time  \\\n",
       "0           632   10/18/2021         deerstags.com        17     140   \n",
       "1           621   10/18/2021       mgchemicals.com       194     500   \n",
       "2           703   10/26/2021          godogfun.com        30      90   \n",
       "3           223   11/16/2021            tourit.com        20     120   \n",
       "4            14          NaT        manicpanic.com        40     139   \n",
       "..          ...          ...                   ...       ...     ...   \n",
       "127         443    10/7/2021  purplepandastore.com        25     120   \n",
       "128         913    9/27/2021          logitech.com       151     139   \n",
       "129         791    9/27/2021          rollplay.com        20     139   \n",
       "130          29          NaT      aleradetails.com        40     139   \n",
       "131         744    9/27/2021            beliani.de        20     139   \n",
       "\n",
       "     CrawlIssues  WebReviewDif  WebsitePriority  ErrorCount  R2Time  ...  \\\n",
       "0            100             5  QM Check Urgent           0      71  ...   \n",
       "1              0             4  QM Check Needed           1     190  ...   \n",
       "2              0             1              PSF           0      30  ...   \n",
       "3              0             1              PSF           4      70  ...   \n",
       "4             25             2             None           3      71  ...   \n",
       "..           ...           ...              ...         ...     ...  ...   \n",
       "127            0             5  QM Check Needed           0      60  ...   \n",
       "128            0             2              PSF           2      71  ...   \n",
       "129          100             2              PSF           2      71  ...   \n",
       "130           25             2             None           3      71  ...   \n",
       "131            0             1              PSF           2      71  ...   \n",
       "\n",
       "     IncorrectGuidance  Other?  Was it a PSF?  MXQA_Encoded  TeamLead_Encoded  \\\n",
       "0                False       0          False           8.0               2.0   \n",
       "1                False       0          False          34.0               4.0   \n",
       "2                False       0           True          26.0               3.0   \n",
       "3                False       0           True          29.0               3.0   \n",
       "4                False       0          False          40.0               3.0   \n",
       "..                 ...     ...            ...           ...               ...   \n",
       "127              False       0          False          23.0               5.0   \n",
       "128              False       0           True          23.0               5.0   \n",
       "129              False       0           True          32.0               2.0   \n",
       "130              False       0          False          17.0               6.0   \n",
       "131              False       0           True           9.0               5.0   \n",
       "\n",
       "     QM_Encoded Month_Encoded  DP_Encoded  DualReviewer_Encoded  Batch Status  \n",
       "0           6.0           3.0         2.0                  21.0             0  \n",
       "1           6.0           3.0         7.0                   NaN             0  \n",
       "2           7.0           3.0         8.0                   NaN             1  \n",
       "3           6.0           2.0         8.0                   NaN             1  \n",
       "4           1.0           0.0         2.0                   NaN             0  \n",
       "..          ...           ...         ...                   ...           ...  \n",
       "127         6.0           3.0         8.0                   NaN             1  \n",
       "128         6.0           4.0         8.0                   NaN             1  \n",
       "129         8.0           4.0         8.0                   NaN             1  \n",
       "130         3.0           1.0         6.0                   NaN             0  \n",
       "131         1.0           4.0         8.0                   NaN             1  \n",
       "\n",
       "[132 rows x 42 columns]"
      ]
     },
     "execution_count": 17,
     "metadata": {},
     "output_type": "execute_result"
    }
   ],
   "source": [
    "df = pd.read_csv('TrainingSet.csv')\n",
    "print(df.shape)\n",
    "df"
   ]
  },
  {
   "cell_type": "code",
   "execution_count": 71,
   "id": "a7b3846f",
   "metadata": {},
   "outputs": [
    {
     "data": {
      "text/plain": [
       "{'None': [4, 5, 11, 13, 18, 19, 21, 25, 27, 34, 37, 38, 41, 42, 43, 46, 51, 54, 60, 66, 67, 69, 75, 77, 86, 88, 91, 97, 98, 106, 108, 111, 117, 120, 121, 130], 'PSF': [2, 3, 9, 10, 12, 15, 16, 17, 22, 23, 28, 31, 33, 35, 36, 40, 45, 47, 52, 55, 56, 57, 58, 63, 64, 70, 72, 73, 74, 82, 83, 84, 90, 94, 99, 100, 104, 109, 110, 118, 119, 122, 124, 125, 128, 129, 131], 'QM Check Needed': [1, 7, 30, 48, 53, 61, 102, 112, 114, 115, 116, 126, 127], 'QM Check Urgent': [0, 107], 'SF': [6, 8, 14, 20, 24, 26, 29, 32, 39, 44, 49, 50, 59, 62, 65, 68, 71, 76, 78, 79, 80, 81, 85, 87, 89, 92, 93, 95, 96, 101, 103, 105, 113, 123]}"
      ]
     },
     "execution_count": 71,
     "metadata": {},
     "output_type": "execute_result"
    }
   ],
   "source": [
    "#for i in range(df.columns.size):\n",
    "    \n",
    "dict = df.groupby('WebsitePriority').groups\n",
    "dict"
   ]
  },
  {
   "cell_type": "code",
   "execution_count": 72,
   "id": "f7d3f260",
   "metadata": {},
   "outputs": [
    {
     "data": {
      "text/plain": [
       "{0: [1, 2, 3, 6, 8, 10, 12, 15, 16, 17, 20, 22, 29, 30, 31, 32, 33, 36, 40, 44, 45, 47, 48, 49, 53, 55, 56, 57, 59, 63, 64, 65, 68, 70, 72, 73, 74, 76, 78, 79, 82, 89, 90, 93, 94, 95, 99, 100, 101, 103, 104, 105, 109, 112, 113, 114, 115, 118, 119, 122, 124, 125, 126, 127, 128, 131], 4: [116], 25: [4, 5, 11, 13, 18, 19, 21, 25, 27, 34, 37, 38, 41, 42, 43, 46, 51, 54, 60, 66, 67, 69, 75, 77, 86, 88, 91, 97, 98, 106, 108, 111, 117, 120, 121, 130], 50: [62], 66: [35, 61, 102], 71: [92], 84: [80], 96: [58], 100: [0, 7, 9, 14, 23, 24, 26, 28, 39, 50, 52, 71, 81, 83, 84, 85, 87, 96, 107, 110, 123, 129]}"
      ]
     },
     "execution_count": 72,
     "metadata": {},
     "output_type": "execute_result"
    }
   ],
   "source": [
    "df.groupby('CrawlIssues').groups"
   ]
  },
  {
   "cell_type": "code",
   "execution_count": 76,
   "id": "2b02b6c6",
   "metadata": {},
   "outputs": [
    {
     "name": "stdout",
     "output_type": "stream",
     "text": [
      "{0.0: [7, 45, 113], 1.0: [42, 51, 60, 66, 74], 2.0: [0, 4, 21, 73, 112, 117], 3.0: [17, 52, 87, 99, 111], 4.0: [18, 26, 40, 56, 61, 65, 69, 77, 96, 106], 6.0: [91, 130], 7.0: [1, 34, 37, 43, 49], 8.0: [2, 3, 6, 9, 12, 14, 15, 16, 20, 22, 23, 24, 28, 30, 31, 32, 33, 35, 36, 39, 44, 47, 48, 55, 57, 59, 63, 70, 71, 72, 76, 78, 79, 80, 81, 83, 84, 85, 89, 92, 93, 94, 95, 100, 102, 103, 104, 105, 107, 109, 110, 114, 115, 116, 118, 119, 122, 123, 124, 125, 126, 127, 128, 129, 131], 9.0: [8, 10, 38, 121], 10.0: [27, 29, 50, 58, 64, 68, 88, 90, 97], 11.0: [13, 19, 75, 82, 86, 98, 101, 108, 120], 12.0: [25, 54], 13.0: [5, 11, 41, 46, 53, 62, 67]}\n"
     ]
    }
   ],
   "source": [
    "print(df.groupby('DP_Encoded').groups)\n"
   ]
  },
  {
   "cell_type": "code",
   "execution_count": 77,
   "id": "f4344240",
   "metadata": {},
   "outputs": [
    {
     "data": {
      "text/plain": [
       "{5.0: [20], 9.0: [40], 10.0: [71], 13.0: [62], 17.0: [100], 18.0: [63], 19.0: [89], 20.0: [72], 21.0: [0], 23.0: [112]}"
      ]
     },
     "execution_count": 77,
     "metadata": {},
     "output_type": "execute_result"
    }
   ],
   "source": [
    "df.groupby('DualReviewer_Encoded').groups"
   ]
  },
  {
   "cell_type": "code",
   "execution_count": 78,
   "id": "8936315a",
   "metadata": {},
   "outputs": [
    {
     "data": {
      "text/plain": [
       "{0.0: [12, 31, 35, 52, 53, 56, 62, 92, 101], 1.0: [19, 88, 97, 120], 2.0: [0, 5, 7, 14, 15, 16, 20, 28, 32, 36, 39, 48, 60, 61, 64, 68, 71, 73, 76, 80, 85, 86, 87, 93, 94, 103, 105, 106, 107, 114, 116, 121, 124, 129], 3.0: [2, 3, 4, 10, 11, 13, 21, 23, 24, 29, 45, 46, 50, 55, 59, 63, 65, 67, 69, 74, 77, 79, 83, 90, 96, 110, 111, 112, 115, 122, 123], 4.0: [1, 6, 22, 30, 33, 57, 72, 95, 104, 118, 119, 126], 5.0: [18, 26, 42, 44, 49, 51, 70, 81, 82, 89, 99, 108, 113, 127, 128, 131], 6.0: [34, 75, 130], 7.0: [9, 25, 38, 41, 43, 54, 58, 66, 98, 117, 125], 8.0: [37, 91], 9.0: [8, 17, 40, 47, 78, 84, 100, 102, 109]}"
      ]
     },
     "execution_count": 78,
     "metadata": {},
     "output_type": "execute_result"
    }
   ],
   "source": [
    "df.groupby('TeamLead_Encoded').groups"
   ]
  },
  {
   "cell_type": "code",
   "execution_count": 79,
   "id": "0323c0d0",
   "metadata": {},
   "outputs": [
    {
     "data": {
      "text/plain": [
       "{0: [0, 1, 4, 5, 7, 8, 10, 11, 13, 17, 18, 19, 21, 25, 26, 27, 29, 34, 37, 38, 40, 41, 42, 43, 45, 46, 49, 50, 51, 52, 54, 56, 58, 60, 61, 62, 64, 65, 66, 67, 68, 69, 73, 74, 75, 77, 82, 86, 87, 88, 90, 91, 96, 97, 98, 99, 101, 106, 108, 111, 112, 113, 117, 120, 121, 130], 1: [2, 3, 6, 9, 12, 14, 15, 16, 20, 22, 23, 24, 28, 30, 31, 32, 33, 35, 36, 39, 44, 47, 48, 53, 55, 57, 59, 63, 70, 71, 72, 76, 78, 79, 80, 81, 83, 84, 85, 89, 92, 93, 94, 95, 100, 102, 103, 104, 105, 107, 109, 110, 114, 115, 116, 118, 119, 122, 123, 124, 125, 126, 127, 128, 129, 131]}"
      ]
     },
     "execution_count": 79,
     "metadata": {},
     "output_type": "execute_result"
    }
   ],
   "source": [
    "df.groupby('Batch Status').groups"
   ]
  },
  {
   "cell_type": "code",
   "execution_count": 156,
   "id": "ec159287",
   "metadata": {},
   "outputs": [
    {
     "data": {
      "text/plain": [
       "44"
      ]
     },
     "execution_count": 156,
     "metadata": {},
     "output_type": "execute_result"
    }
   ],
   "source": [
    "cv = KFold(n_splits=10) # Numero deseado de \"folds\" que haremos\n",
    "accuracies = list()\n",
    "max_attributes = len(list(df))\n",
    "depth_range = range(1, max_attributes + 1)\n",
    "\n",
    "# Testearemos la profundidad de 1 a cantidad de atributos +1\n",
    "#divido mis datos para entrenar y de prueba, usualmente se hace un 70/30\n",
    "f_train = df[:round(df['level_0'].size*0.7)] \n",
    "f_valid = df[round(df['level_0'].size*0.7):] \n"
   ]
  },
  {
   "cell_type": "markdown",
   "id": "130d70d5",
   "metadata": {},
   "source": [
    "# DECISION TREE"
   ]
  },
  {
   "cell_type": "code",
   "execution_count": 18,
   "id": "0979bb83",
   "metadata": {},
   "outputs": [],
   "source": [
    "# To support both python 2 and python 3\n",
    "from __future__ import division, print_function, unicode_literals\n",
    "\n",
    "# Common imports\n",
    "import numpy as np\n",
    "import os\n",
    "\n",
    "# to make this notebook's output stable across runs\n",
    "np.random.seed(42)\n",
    "\n",
    "# To plot pretty figures\n",
    "#If using the pythong interpretor, omit this first line.  It only applies to the Jupyter environment\n",
    "%matplotlib inline \n",
    "import matplotlib\n",
    "import matplotlib.pyplot as plt\n",
    "plt.rcParams['axes.labelsize'] = 14\n",
    "plt.rcParams['xtick.labelsize'] = 12\n",
    "plt.rcParams['ytick.labelsize'] = 12\n",
    "\n",
    "def save_fig(fig_id, tight_layout=True):\n",
    "    print(\"Saving figure\", fig_id)\n",
    "    if tight_layout:\n",
    "        plt.tight_layout()\n",
    "    plt.savefig(fig_id + \".png\", format='png', dpi=300)"
   ]
  },
  {
   "cell_type": "code",
   "execution_count": 44,
   "id": "6011f912",
   "metadata": {},
   "outputs": [
    {
     "data": {
      "text/plain": [
       "DecisionTreeClassifier(max_depth=20000, random_state=42)"
      ]
     },
     "execution_count": 44,
     "metadata": {},
     "output_type": "execute_result"
    }
   ],
   "source": [
    "from sklearn.datasets import load_iris\n",
    "from sklearn.tree import DecisionTreeClassifier\n",
    "\n",
    "iris = load_iris()\n",
    "X = iris.data[:, 2:]\n",
    "y = iris.target\n",
    "\n",
    "tree_clf = DecisionTreeClassifier(max_depth=2, random_state=42)\n",
    "#TRAINING: \n",
    "tree_clf.fit(X, y)\n",
    "#70/30"
   ]
  },
  {
   "cell_type": "code",
   "execution_count": 38,
   "id": "59b3f1c1",
   "metadata": {},
   "outputs": [],
   "source": [
    "from sklearn.tree import export_graphviz\n",
    "\n",
    "export_graphviz(\n",
    "        tree_clf,\n",
    "        out_file=\"iris_tree.dot\",\n",
    "        feature_names=iris.feature_names[2:],\n",
    "        class_names=iris.target_names,\n",
    "        rounded=True,\n",
    "        filled=True)"
   ]
  },
  {
   "cell_type": "code",
   "execution_count": 39,
   "id": "0d6b756c",
   "metadata": {},
   "outputs": [
    {
     "name": "stderr",
     "output_type": "stream",
     "text": [
      "C:\\Users\\Yumil\\AppData\\Local\\Temp/ipykernel_28780/1039560117.py:10: UserWarning: The following kwargs were not used by contour: 'linewidth'\n",
      "  plt.contourf(x1, x2, y_pred, alpha=0.3, cmap=custom_cmap, linewidth=10)\n"
     ]
    },
    {
     "name": "stdout",
     "output_type": "stream",
     "text": [
      "Saving figure decision_tree_decision_boundaries_plot\n"
     ]
    },
    {
     "data": {
      "image/png": "[encoded data removed]",
      "text/plain": [
       "<Figure size 576x288 with 1 Axes>"
      ]
     },
     "metadata": {},
     "output_type": "display_data"
    }
   ],
   "source": [
    "from matplotlib.colors import ListedColormap\n",
    "\n",
    "def plot_decision_boundary(clf, X, y, axes=[0, 7.5, 0, 3], iris=True, legend=False, plot_training=True):\n",
    "    x1s = np.linspace(axes[0], axes[1], 100)\n",
    "    x2s = np.linspace(axes[2], axes[3], 100)\n",
    "    x1, x2 = np.meshgrid(x1s, x2s)\n",
    "    X_new = np.c_[x1.ravel(), x2.ravel()]\n",
    "    y_pred = clf.predict(X_new).reshape(x1.shape)\n",
    "    custom_cmap = ListedColormap(['#fafab0','#9898ff','#a0faa0'])\n",
    "    plt.contourf(x1, x2, y_pred, alpha=0.3, cmap=custom_cmap, linewidth=10)\n",
    "    if not iris:\n",
    "        custom_cmap2 = ListedColormap(['#7d7d58','#4c4c7f','#507d50'])\n",
    "        plt.contour(x1, x2, y_pred, cmap=custom_cmap2, alpha=0.8)\n",
    "    if plot_training:\n",
    "        plt.plot(X[:, 0][y==0], X[:, 1][y==0], \"yo\", label=\"Iris-Setosa\")#yellow\n",
    "        plt.plot(X[:, 0][y==1], X[:, 1][y==1], \"bs\", label=\"Iris-Versicolor\")#blue\n",
    "        plt.plot(X[:, 0][y==2], X[:, 1][y==2], \"g^\", label=\"Iris-Virginica\") #green\n",
    "        plt.axis(axes)\n",
    "    if iris:\n",
    "        plt.xlabel(\"Petal length\", fontsize=14)\n",
    "        plt.ylabel(\"Petal width\", fontsize=14)\n",
    "    else:\n",
    "        plt.xlabel(r\"$x_1$\", fontsize=18)\n",
    "        plt.ylabel(r\"$x_2$\", fontsize=18, rotation=0)\n",
    "    if legend:\n",
    "        plt.legend(loc=\"lower right\", fontsize=14)\n",
    "\n",
    "plt.figure(figsize=(8, 4))\n",
    "plot_decision_boundary(tree_clf, X, y)\n",
    "plt.plot([2.45, 2.45], [0, 3], \"k-\", linewidth=2)\n",
    "plt.plot([2.45, 7.5], [1.75, 1.75], \"k--\", linewidth=2)\n",
    "plt.plot([4.95, 4.95], [0, 1.75], \"k:\", linewidth=2)\n",
    "plt.plot([4.85, 4.85], [1.75, 3], \"k:\", linewidth=2)\n",
    "plt.text(1.40, 1.0, \"Depth=0\", fontsize=15)\n",
    "plt.text(3.2, 1.80, \"Depth=1\", fontsize=13)\n",
    "plt.text(4.05, 0.5, \"(Depth=2)\", fontsize=11)\n",
    "\n",
    "save_fig(\"decision_tree_decision_boundaries_plot\")\n",
    "plt.show()"
   ]
  },
  {
   "cell_type": "code",
   "execution_count": 23,
   "id": "40ee4ebd",
   "metadata": {},
   "outputs": [
    {
     "data": {
      "text/plain": [
       "array([1])"
      ]
     },
     "execution_count": 23,
     "metadata": {},
     "output_type": "execute_result"
    }
   ],
   "source": [
    "tree_clf.predict_proba([[5, 1.5]])\n",
    "tree_clf.predict([[5, 1.5]])"
   ]
  },
  {
   "cell_type": "code",
   "execution_count": 24,
   "id": "6212cf4f",
   "metadata": {},
   "outputs": [
    {
     "data": {
      "text/plain": [
       "array([[4.8, 1.8]])"
      ]
     },
     "execution_count": 24,
     "metadata": {},
     "output_type": "execute_result"
    }
   ],
   "source": [
    "X[(X[:, 1]==X[:, 1][y==1].max()) & (y==1)] # view the example that is the widest Iris-Versicolor flower"
   ]
  },
  {
   "cell_type": "code",
   "execution_count": 25,
   "id": "ef8dcc97",
   "metadata": {},
   "outputs": [
    {
     "data": {
      "text/plain": [
       "DecisionTreeClassifier(max_depth=2, random_state=40)"
      ]
     },
     "execution_count": 25,
     "metadata": {},
     "output_type": "execute_result"
    }
   ],
   "source": [
    "not_widest_versicolor = (X[:, 1]!=1.8) | (y==2) #find indices of examples that are not the max width\n",
    "X_tweaked = X[not_widest_versicolor] #create a training set with the widest petals removed\n",
    "y_tweaked = y[not_widest_versicolor]\n",
    "\n",
    "tree_clf_tweaked = DecisionTreeClassifier(max_depth=2, random_state=40) #Retrain\n",
    "tree_clf_tweaked.fit(X_tweaked, y_tweaked)"
   ]
  },
  {
   "cell_type": "code",
   "execution_count": 26,
   "id": "fb202a07",
   "metadata": {},
   "outputs": [
    {
     "name": "stderr",
     "output_type": "stream",
     "text": [
      "C:\\Users\\Yumil\\AppData\\Local\\Temp/ipykernel_28780/281873304.py:10: UserWarning: The following kwargs were not used by contour: 'linewidth'\n",
      "  plt.contourf(x1, x2, y_pred, alpha=0.3, cmap=custom_cmap, linewidth=10)\n"
     ]
    },
    {
     "data": {
      "image/png": "[encoded data removed]",
      "text/plain": [
       "<Figure size 576x288 with 1 Axes>"
      ]
     },
     "metadata": {},
     "output_type": "display_data"
    }
   ],
   "source": [
    "plt.figure(figsize=(8, 4))\n",
    "plot_decision_boundary(tree_clf_tweaked, X_tweaked, y_tweaked, legend=False)\n",
    "plt.plot([0, 7.5], [0.8, 0.8], \"k-\", linewidth=2)\n",
    "plt.plot([0, 7.5], [1.75, 1.75], \"k--\", linewidth=2)\n",
    "plt.text(1.0, 0.9, \"Depth=0\", fontsize=15)\n",
    "plt.text(1.0, 1.80, \"Depth=1\", fontsize=13)\n",
    "\n",
    "#save_fig(\"decision_tree_instability_plot\")\n",
    "plt.show()"
   ]
  },
  {
   "cell_type": "code",
   "execution_count": null,
   "id": "f8e9c0de",
   "metadata": {},
   "outputs": [],
   "source": []
  }
 ],
 "metadata": {
  "kernelspec": {
   "display_name": "Python 3 (ipykernel)",
   "language": "python",
   "name": "python3"
  },
  "language_info": {
   "codemirror_mode": {
    "name": "ipython",
    "version": 3
   },
   "file_extension": ".py",
   "mimetype": "text/x-python",
   "name": "python",
   "nbconvert_exporter": "python",
   "pygments_lexer": "ipython3",
   "version": "3.9.7"
  }
 },
 "nbformat": 4,
 "nbformat_minor": 5
}
