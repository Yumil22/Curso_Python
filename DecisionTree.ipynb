{
 "cells": [
  {
   "cell_type": "code",
   "execution_count": 5,
   "id": "af7ade21",
   "metadata": {},
   "outputs": [],
   "source": [
    "# Imports needed for the script\n",
    "import numpy as np\n",
    "import pandas as pd\n",
    "import seaborn as sb\n",
    "import matplotlib.pyplot as plt\n",
    "%matplotlib inline\n",
    "plt.rcParams['figure.figsize'] = (16, 9)\n",
    "plt.style.use('ggplot')\n",
    "from sklearn import tree\n",
    "from sklearn.metrics import accuracy_score\n",
    "from sklearn.model_selection import KFold\n",
    "from sklearn.model_selection import cross_val_score\n",
    "from IPython.display import Image as PImage\n",
    "from subprocess import check_call\n",
    "from PIL import Image, ImageDraw, ImageFont\n",
    "\n",
    "import pandas as pd\n",
    "import numpy as np"
   ]
  },
  {
   "cell_type": "code",
   "execution_count": 17,
   "id": "18c6542e",
   "metadata": {},
   "outputs": [
    {
     "name": "stdout",
     "output_type": "stream",
     "text": [
      "(132, 42)\n"
     ]
    },
    {
     "data": {
      "text/html": [
       "<div>\n",
       "<style scoped>\n",
       "    .dataframe tbody tr th:only-of-type {\n",
       "        vertical-align: middle;\n",
       "    }\n",
       "\n",
       "    .dataframe tbody tr th {\n",
       "        vertical-align: top;\n",
       "    }\n",
       "\n",
       "    .dataframe thead th {\n",
       "        text-align: right;\n",
       "    }\n",
       "</style>\n",
       "<table border=\"1\" class=\"dataframe\">\n",
       "  <thead>\n",
       "    <tr style=\"text-align: right;\">\n",
       "      <th></th>\n",
       "      <th>Unnamed: 0</th>\n",
       "      <th>DateReceived</th>\n",
       "      <th>Website</th>\n",
       "      <th>URLCount</th>\n",
       "      <th>R1Time</th>\n",
       "      <th>CrawlIssues</th>\n",
       "      <th>WebReviewDif</th>\n",
       "      <th>WebsitePriority</th>\n",
       "      <th>ErrorCount</th>\n",
       "      <th>R2Time</th>\n",
       "      <th>...</th>\n",
       "      <th>IncorrectGuidance</th>\n",
       "      <th>Other?</th>\n",
       "      <th>Was it a PSF?</th>\n",
       "      <th>MXQA_Encoded</th>\n",
       "      <th>TeamLead_Encoded</th>\n",
       "      <th>QM_Encoded</th>\n",
       "      <th>Month_Encoded</th>\n",
       "      <th>DP_Encoded</th>\n",
       "      <th>DualReviewer_Encoded</th>\n",
       "      <th>Batch Status</th>\n",
       "    </tr>\n",
       "  </thead>\n",
       "  <tbody>\n",
       "    <tr>\n",
       "      <th>0</th>\n",
       "      <td>632</td>\n",
       "      <td>10/18/2021</td>\n",
       "      <td>deerstags.com</td>\n",
       "      <td>17</td>\n",
       "      <td>140</td>\n",
       "      <td>100</td>\n",
       "      <td>5</td>\n",
       "      <td>QM Check Urgent</td>\n",
       "      <td>0</td>\n",
       "      <td>71</td>\n",
       "      <td>...</td>\n",
       "      <td>False</td>\n",
       "      <td>0</td>\n",
       "      <td>False</td>\n",
       "      <td>8.0</td>\n",
       "      <td>2.0</td>\n",
       "      <td>6.0</td>\n",
       "      <td>3.0</td>\n",
       "      <td>2.0</td>\n",
       "      <td>21.0</td>\n",
       "      <td>0</td>\n",
       "    </tr>\n",
       "    <tr>\n",
       "      <th>1</th>\n",
       "      <td>621</td>\n",
       "      <td>10/18/2021</td>\n",
       "      <td>mgchemicals.com</td>\n",
       "      <td>194</td>\n",
       "      <td>500</td>\n",
       "      <td>0</td>\n",
       "      <td>4</td>\n",
       "      <td>QM Check Needed</td>\n",
       "      <td>1</td>\n",
       "      <td>190</td>\n",
       "      <td>...</td>\n",
       "      <td>False</td>\n",
       "      <td>0</td>\n",
       "      <td>False</td>\n",
       "      <td>34.0</td>\n",
       "      <td>4.0</td>\n",
       "      <td>6.0</td>\n",
       "      <td>3.0</td>\n",
       "      <td>7.0</td>\n",
       "      <td>NaN</td>\n",
       "      <td>0</td>\n",
       "    </tr>\n",
       "    <tr>\n",
       "      <th>2</th>\n",
       "      <td>703</td>\n",
       "      <td>10/26/2021</td>\n",
       "      <td>godogfun.com</td>\n",
       "      <td>30</td>\n",
       "      <td>90</td>\n",
       "      <td>0</td>\n",
       "      <td>1</td>\n",
       "      <td>PSF</td>\n",
       "      <td>0</td>\n",
       "      <td>30</td>\n",
       "      <td>...</td>\n",
       "      <td>False</td>\n",
       "      <td>0</td>\n",
       "      <td>True</td>\n",
       "      <td>26.0</td>\n",
       "      <td>3.0</td>\n",
       "      <td>7.0</td>\n",
       "      <td>3.0</td>\n",
       "      <td>8.0</td>\n",
       "      <td>NaN</td>\n",
       "      <td>1</td>\n",
       "    </tr>\n",
       "    <tr>\n",
       "      <th>3</th>\n",
       "      <td>223</td>\n",
       "      <td>11/16/2021</td>\n",
       "      <td>tourit.com</td>\n",
       "      <td>20</td>\n",
       "      <td>120</td>\n",
       "      <td>0</td>\n",
       "      <td>1</td>\n",
       "      <td>PSF</td>\n",
       "      <td>4</td>\n",
       "      <td>70</td>\n",
       "      <td>...</td>\n",
       "      <td>False</td>\n",
       "      <td>0</td>\n",
       "      <td>True</td>\n",
       "      <td>29.0</td>\n",
       "      <td>3.0</td>\n",
       "      <td>6.0</td>\n",
       "      <td>2.0</td>\n",
       "      <td>8.0</td>\n",
       "      <td>NaN</td>\n",
       "      <td>1</td>\n",
       "    </tr>\n",
       "    <tr>\n",
       "      <th>4</th>\n",
       "      <td>14</td>\n",
       "      <td>NaT</td>\n",
       "      <td>manicpanic.com</td>\n",
       "      <td>40</td>\n",
       "      <td>139</td>\n",
       "      <td>25</td>\n",
       "      <td>2</td>\n",
       "      <td>None</td>\n",
       "      <td>3</td>\n",
       "      <td>71</td>\n",
       "      <td>...</td>\n",
       "      <td>False</td>\n",
       "      <td>0</td>\n",
       "      <td>False</td>\n",
       "      <td>40.0</td>\n",
       "      <td>3.0</td>\n",
       "      <td>1.0</td>\n",
       "      <td>0.0</td>\n",
       "      <td>2.0</td>\n",
       "      <td>NaN</td>\n",
       "      <td>0</td>\n",
       "    </tr>\n",
       "    <tr>\n",
       "      <th>...</th>\n",
       "      <td>...</td>\n",
       "      <td>...</td>\n",
       "      <td>...</td>\n",
       "      <td>...</td>\n",
       "      <td>...</td>\n",
       "      <td>...</td>\n",
       "      <td>...</td>\n",
       "      <td>...</td>\n",
       "      <td>...</td>\n",
       "      <td>...</td>\n",
       "      <td>...</td>\n",
       "      <td>...</td>\n",
       "      <td>...</td>\n",
       "      <td>...</td>\n",
       "      <td>...</td>\n",
       "      <td>...</td>\n",
       "      <td>...</td>\n",
       "      <td>...</td>\n",
       "      <td>...</td>\n",
       "      <td>...</td>\n",
       "      <td>...</td>\n",
       "    </tr>\n",
       "    <tr>\n",
       "      <th>127</th>\n",
       "      <td>443</td>\n",
       "      <td>10/7/2021</td>\n",
       "      <td>purplepandastore.com</td>\n",
       "      <td>25</td>\n",
       "      <td>120</td>\n",
       "      <td>0</td>\n",
       "      <td>5</td>\n",
       "      <td>QM Check Needed</td>\n",
       "      <td>0</td>\n",
       "      <td>60</td>\n",
       "      <td>...</td>\n",
       "      <td>False</td>\n",
       "      <td>0</td>\n",
       "      <td>False</td>\n",
       "      <td>23.0</td>\n",
       "      <td>5.0</td>\n",
       "      <td>6.0</td>\n",
       "      <td>3.0</td>\n",
       "      <td>8.0</td>\n",
       "      <td>NaN</td>\n",
       "      <td>1</td>\n",
       "    </tr>\n",
       "    <tr>\n",
       "      <th>128</th>\n",
       "      <td>913</td>\n",
       "      <td>9/27/2021</td>\n",
       "      <td>logitech.com</td>\n",
       "      <td>151</td>\n",
       "      <td>139</td>\n",
       "      <td>0</td>\n",
       "      <td>2</td>\n",
       "      <td>PSF</td>\n",
       "      <td>2</td>\n",
       "      <td>71</td>\n",
       "      <td>...</td>\n",
       "      <td>False</td>\n",
       "      <td>0</td>\n",
       "      <td>True</td>\n",
       "      <td>23.0</td>\n",
       "      <td>5.0</td>\n",
       "      <td>6.0</td>\n",
       "      <td>4.0</td>\n",
       "      <td>8.0</td>\n",
       "      <td>NaN</td>\n",
       "      <td>1</td>\n",
       "    </tr>\n",
       "    <tr>\n",
       "      <th>129</th>\n",
       "      <td>791</td>\n",
       "      <td>9/27/2021</td>\n",
       "      <td>rollplay.com</td>\n",
       "      <td>20</td>\n",
       "      <td>139</td>\n",
       "      <td>100</td>\n",
       "      <td>2</td>\n",
       "      <td>PSF</td>\n",
       "      <td>2</td>\n",
       "      <td>71</td>\n",
       "      <td>...</td>\n",
       "      <td>False</td>\n",
       "      <td>0</td>\n",
       "      <td>True</td>\n",
       "      <td>32.0</td>\n",
       "      <td>2.0</td>\n",
       "      <td>8.0</td>\n",
       "      <td>4.0</td>\n",
       "      <td>8.0</td>\n",
       "      <td>NaN</td>\n",
       "      <td>1</td>\n",
       "    </tr>\n",
       "    <tr>\n",
       "      <th>130</th>\n",
       "      <td>29</td>\n",
       "      <td>NaT</td>\n",
       "      <td>aleradetails.com</td>\n",
       "      <td>40</td>\n",
       "      <td>139</td>\n",
       "      <td>25</td>\n",
       "      <td>2</td>\n",
       "      <td>None</td>\n",
       "      <td>3</td>\n",
       "      <td>71</td>\n",
       "      <td>...</td>\n",
       "      <td>False</td>\n",
       "      <td>0</td>\n",
       "      <td>False</td>\n",
       "      <td>17.0</td>\n",
       "      <td>6.0</td>\n",
       "      <td>3.0</td>\n",
       "      <td>1.0</td>\n",
       "      <td>6.0</td>\n",
       "      <td>NaN</td>\n",
       "      <td>0</td>\n",
       "    </tr>\n",
       "    <tr>\n",
       "      <th>131</th>\n",
       "      <td>744</td>\n",
       "      <td>9/27/2021</td>\n",
       "      <td>beliani.de</td>\n",
       "      <td>20</td>\n",
       "      <td>139</td>\n",
       "      <td>0</td>\n",
       "      <td>1</td>\n",
       "      <td>PSF</td>\n",
       "      <td>2</td>\n",
       "      <td>71</td>\n",
       "      <td>...</td>\n",
       "      <td>False</td>\n",
       "      <td>0</td>\n",
       "      <td>True</td>\n",
       "      <td>9.0</td>\n",
       "      <td>5.0</td>\n",
       "      <td>1.0</td>\n",
       "      <td>4.0</td>\n",
       "      <td>8.0</td>\n",
       "      <td>NaN</td>\n",
       "      <td>1</td>\n",
       "    </tr>\n",
       "  </tbody>\n",
       "</table>\n",
       "<p>132 rows × 42 columns</p>\n",
       "</div>"
      ],
      "text/plain": [
       "     Unnamed: 0 DateReceived               Website  URLCount  R1Time  \\\n",
       "0           632   10/18/2021         deerstags.com        17     140   \n",
       "1           621   10/18/2021       mgchemicals.com       194     500   \n",
       "2           703   10/26/2021          godogfun.com        30      90   \n",
       "3           223   11/16/2021            tourit.com        20     120   \n",
       "4            14          NaT        manicpanic.com        40     139   \n",
       "..          ...          ...                   ...       ...     ...   \n",
       "127         443    10/7/2021  purplepandastore.com        25     120   \n",
       "128         913    9/27/2021          logitech.com       151     139   \n",
       "129         791    9/27/2021          rollplay.com        20     139   \n",
       "130          29          NaT      aleradetails.com        40     139   \n",
       "131         744    9/27/2021            beliani.de        20     139   \n",
       "\n",
       "     CrawlIssues  WebReviewDif  WebsitePriority  ErrorCount  R2Time  ...  \\\n",
       "0            100             5  QM Check Urgent           0      71  ...   \n",
       "1              0             4  QM Check Needed           1     190  ...   \n",
       "2              0             1              PSF           0      30  ...   \n",
       "3              0             1              PSF           4      70  ...   \n",
       "4             25             2             None           3      71  ...   \n",
       "..           ...           ...              ...         ...     ...  ...   \n",
       "127            0             5  QM Check Needed           0      60  ...   \n",
       "128            0             2              PSF           2      71  ...   \n",
       "129          100             2              PSF           2      71  ...   \n",
       "130           25             2             None           3      71  ...   \n",
       "131            0             1              PSF           2      71  ...   \n",
       "\n",
       "     IncorrectGuidance  Other?  Was it a PSF?  MXQA_Encoded  TeamLead_Encoded  \\\n",
       "0                False       0          False           8.0               2.0   \n",
       "1                False       0          False          34.0               4.0   \n",
       "2                False       0           True          26.0               3.0   \n",
       "3                False       0           True          29.0               3.0   \n",
       "4                False       0          False          40.0               3.0   \n",
       "..                 ...     ...            ...           ...               ...   \n",
       "127              False       0          False          23.0               5.0   \n",
       "128              False       0           True          23.0               5.0   \n",
       "129              False       0           True          32.0               2.0   \n",
       "130              False       0          False          17.0               6.0   \n",
       "131              False       0           True           9.0               5.0   \n",
       "\n",
       "     QM_Encoded Month_Encoded  DP_Encoded  DualReviewer_Encoded  Batch Status  \n",
       "0           6.0           3.0         2.0                  21.0             0  \n",
       "1           6.0           3.0         7.0                   NaN             0  \n",
       "2           7.0           3.0         8.0                   NaN             1  \n",
       "3           6.0           2.0         8.0                   NaN             1  \n",
       "4           1.0           0.0         2.0                   NaN             0  \n",
       "..          ...           ...         ...                   ...           ...  \n",
       "127         6.0           3.0         8.0                   NaN             1  \n",
       "128         6.0           4.0         8.0                   NaN             1  \n",
       "129         8.0           4.0         8.0                   NaN             1  \n",
       "130         3.0           1.0         6.0                   NaN             0  \n",
       "131         1.0           4.0         8.0                   NaN             1  \n",
       "\n",
       "[132 rows x 42 columns]"
      ]
     },
     "execution_count": 17,
     "metadata": {},
     "output_type": "execute_result"
    }
   ],
   "source": [
    "df = pd.read_csv('TrainingSet.csv')\n",
    "print(df.shape)\n",
    "df"
   ]
  },
  {
   "cell_type": "code",
   "execution_count": 71,
   "id": "a7b3846f",
   "metadata": {},
   "outputs": [
    {
     "data": {
      "text/plain": [
       "{'None': [4, 5, 11, 13, 18, 19, 21, 25, 27, 34, 37, 38, 41, 42, 43, 46, 51, 54, 60, 66, 67, 69, 75, 77, 86, 88, 91, 97, 98, 106, 108, 111, 117, 120, 121, 130], 'PSF': [2, 3, 9, 10, 12, 15, 16, 17, 22, 23, 28, 31, 33, 35, 36, 40, 45, 47, 52, 55, 56, 57, 58, 63, 64, 70, 72, 73, 74, 82, 83, 84, 90, 94, 99, 100, 104, 109, 110, 118, 119, 122, 124, 125, 128, 129, 131], 'QM Check Needed': [1, 7, 30, 48, 53, 61, 102, 112, 114, 115, 116, 126, 127], 'QM Check Urgent': [0, 107], 'SF': [6, 8, 14, 20, 24, 26, 29, 32, 39, 44, 49, 50, 59, 62, 65, 68, 71, 76, 78, 79, 80, 81, 85, 87, 89, 92, 93, 95, 96, 101, 103, 105, 113, 123]}"
      ]
     },
     "execution_count": 71,
     "metadata": {},
     "output_type": "execute_result"
    }
   ],
   "source": [
    "#for i in range(df.columns.size):\n",
    "    \n",
    "dict = df.groupby('WebsitePriority').groups\n",
    "dict"
   ]
  },
  {
   "cell_type": "code",
   "execution_count": 72,
   "id": "f7d3f260",
   "metadata": {},
   "outputs": [
    {
     "data": {
      "text/plain": [
       "{0: [1, 2, 3, 6, 8, 10, 12, 15, 16, 17, 20, 22, 29, 30, 31, 32, 33, 36, 40, 44, 45, 47, 48, 49, 53, 55, 56, 57, 59, 63, 64, 65, 68, 70, 72, 73, 74, 76, 78, 79, 82, 89, 90, 93, 94, 95, 99, 100, 101, 103, 104, 105, 109, 112, 113, 114, 115, 118, 119, 122, 124, 125, 126, 127, 128, 131], 4: [116], 25: [4, 5, 11, 13, 18, 19, 21, 25, 27, 34, 37, 38, 41, 42, 43, 46, 51, 54, 60, 66, 67, 69, 75, 77, 86, 88, 91, 97, 98, 106, 108, 111, 117, 120, 121, 130], 50: [62], 66: [35, 61, 102], 71: [92], 84: [80], 96: [58], 100: [0, 7, 9, 14, 23, 24, 26, 28, 39, 50, 52, 71, 81, 83, 84, 85, 87, 96, 107, 110, 123, 129]}"
      ]
     },
     "execution_count": 72,
     "metadata": {},
     "output_type": "execute_result"
    }
   ],
   "source": [
    "df.groupby('CrawlIssues').groups"
   ]
  },
  {
   "cell_type": "code",
   "execution_count": 76,
   "id": "2b02b6c6",
   "metadata": {},
   "outputs": [
    {
     "name": "stdout",
     "output_type": "stream",
     "text": [
      "{0.0: [7, 45, 113], 1.0: [42, 51, 60, 66, 74], 2.0: [0, 4, 21, 73, 112, 117], 3.0: [17, 52, 87, 99, 111], 4.0: [18, 26, 40, 56, 61, 65, 69, 77, 96, 106], 6.0: [91, 130], 7.0: [1, 34, 37, 43, 49], 8.0: [2, 3, 6, 9, 12, 14, 15, 16, 20, 22, 23, 24, 28, 30, 31, 32, 33, 35, 36, 39, 44, 47, 48, 55, 57, 59, 63, 70, 71, 72, 76, 78, 79, 80, 81, 83, 84, 85, 89, 92, 93, 94, 95, 100, 102, 103, 104, 105, 107, 109, 110, 114, 115, 116, 118, 119, 122, 123, 124, 125, 126, 127, 128, 129, 131], 9.0: [8, 10, 38, 121], 10.0: [27, 29, 50, 58, 64, 68, 88, 90, 97], 11.0: [13, 19, 75, 82, 86, 98, 101, 108, 120], 12.0: [25, 54], 13.0: [5, 11, 41, 46, 53, 62, 67]}\n"
     ]
    }
   ],
   "source": [
    "print(df.groupby('DP_Encoded').groups)\n"
   ]
  },
  {
   "cell_type": "code",
   "execution_count": 77,
   "id": "f4344240",
   "metadata": {},
   "outputs": [
    {
     "data": {
      "text/plain": [
       "{5.0: [20], 9.0: [40], 10.0: [71], 13.0: [62], 17.0: [100], 18.0: [63], 19.0: [89], 20.0: [72], 21.0: [0], 23.0: [112]}"
      ]
     },
     "execution_count": 77,
     "metadata": {},
     "output_type": "execute_result"
    }
   ],
   "source": [
    "df.groupby('DualReviewer_Encoded').groups"
   ]
  },
  {
   "cell_type": "code",
   "execution_count": 78,
   "id": "8936315a",
   "metadata": {},
   "outputs": [
    {
     "data": {
      "text/plain": [
       "{0.0: [12, 31, 35, 52, 53, 56, 62, 92, 101], 1.0: [19, 88, 97, 120], 2.0: [0, 5, 7, 14, 15, 16, 20, 28, 32, 36, 39, 48, 60, 61, 64, 68, 71, 73, 76, 80, 85, 86, 87, 93, 94, 103, 105, 106, 107, 114, 116, 121, 124, 129], 3.0: [2, 3, 4, 10, 11, 13, 21, 23, 24, 29, 45, 46, 50, 55, 59, 63, 65, 67, 69, 74, 77, 79, 83, 90, 96, 110, 111, 112, 115, 122, 123], 4.0: [1, 6, 22, 30, 33, 57, 72, 95, 104, 118, 119, 126], 5.0: [18, 26, 42, 44, 49, 51, 70, 81, 82, 89, 99, 108, 113, 127, 128, 131], 6.0: [34, 75, 130], 7.0: [9, 25, 38, 41, 43, 54, 58, 66, 98, 117, 125], 8.0: [37, 91], 9.0: [8, 17, 40, 47, 78, 84, 100, 102, 109]}"
      ]
     },
     "execution_count": 78,
     "metadata": {},
     "output_type": "execute_result"
    }
   ],
   "source": [
    "df.groupby('TeamLead_Encoded').groups"
   ]
  },
  {
   "cell_type": "code",
   "execution_count": 79,
   "id": "0323c0d0",
   "metadata": {},
   "outputs": [
    {
     "data": {
      "text/plain": [
       "{0: [0, 1, 4, 5, 7, 8, 10, 11, 13, 17, 18, 19, 21, 25, 26, 27, 29, 34, 37, 38, 40, 41, 42, 43, 45, 46, 49, 50, 51, 52, 54, 56, 58, 60, 61, 62, 64, 65, 66, 67, 68, 69, 73, 74, 75, 77, 82, 86, 87, 88, 90, 91, 96, 97, 98, 99, 101, 106, 108, 111, 112, 113, 117, 120, 121, 130], 1: [2, 3, 6, 9, 12, 14, 15, 16, 20, 22, 23, 24, 28, 30, 31, 32, 33, 35, 36, 39, 44, 47, 48, 53, 55, 57, 59, 63, 70, 71, 72, 76, 78, 79, 80, 81, 83, 84, 85, 89, 92, 93, 94, 95, 100, 102, 103, 104, 105, 107, 109, 110, 114, 115, 116, 118, 119, 122, 123, 124, 125, 126, 127, 128, 129, 131]}"
      ]
     },
     "execution_count": 79,
     "metadata": {},
     "output_type": "execute_result"
    }
   ],
   "source": [
    "df.groupby('Batch Status').groups"
   ]
  },
  {
   "cell_type": "code",
   "execution_count": 156,
   "id": "ec159287",
   "metadata": {},
   "outputs": [
    {
     "data": {
      "text/plain": [
       "44"
      ]
     },
     "execution_count": 156,
     "metadata": {},
     "output_type": "execute_result"
    }
   ],
   "source": [
    "cv = KFold(n_splits=10) # Numero deseado de \"folds\" que haremos\n",
    "accuracies = list()\n",
    "max_attributes = len(list(df))\n",
    "depth_range = range(1, max_attributes + 1)\n",
    "\n",
    "# Testearemos la profundidad de 1 a cantidad de atributos +1\n",
    "#divido mis datos para entrenar y de prueba, usualmente se hace un 70/30\n",
    "f_train = df[:round(df['level_0'].size*0.7)] \n",
    "f_valid = df[round(df['level_0'].size*0.7):] \n"
   ]
  },
  {
   "cell_type": "code",
   "execution_count": null,
   "id": "3f182c25",
   "metadata": {},
   "outputs": [],
   "source": []
  },
  {
   "cell_type": "code",
   "execution_count": 91,
   "id": "3982b911",
   "metadata": {},
   "outputs": [],
   "source": []
  },
  {
   "cell_type": "code",
   "execution_count": 108,
   "id": "b60b4387",
   "metadata": {},
   "outputs": [],
   "source": []
  },
  {
   "cell_type": "code",
   "execution_count": 111,
   "id": "91620635",
   "metadata": {},
   "outputs": [
    {
     "data": {
      "text/plain": [
       "118"
      ]
     },
     "execution_count": 111,
     "metadata": {},
     "output_type": "execute_result"
    }
   ],
   "source": [
    "y_train.size"
   ]
  },
  {
   "cell_type": "code",
   "execution_count": 112,
   "id": "b39ff776",
   "metadata": {},
   "outputs": [
    {
     "data": {
      "text/plain": [
       "118"
      ]
     },
     "execution_count": 112,
     "metadata": {},
     "output_type": "execute_result"
    }
   ],
   "source": [
    "X_train.size"
   ]
  },
  {
   "cell_type": "code",
   "execution_count": 114,
   "id": "c7aec758",
   "metadata": {},
   "outputs": [
    {
     "ename": "ValueError",
     "evalue": "Expected 2D array, got 1D array instead:\narray=[8. 4. 1. 7. 8. 8. 8. 8. 5. 7. 1. 1. 1. 1. 8. 4. 8. 6. 1. 4. 3. 7. 8. 1.\n 7. 0. 6. 8. 1. 4. 6. 6. 8. 4. 6. 6. 1. 8. 6. 1. 1. 4. 1. 5. 7. 6. 8. 6.\n 6. 8. 8. 1. 2. 1. 6. 7. 6. 1. 5. 8. 7. 4. 8. 8. 4. 6. 6. 6. 7. 6. 1. 6.\n 1. 1. 1. 4. 6. 9. 1. 6. 4. 5. 4. 8. 7. 1. 8. 1. 6. 1. 1. 6. 8. 6. 7. 1.\n 7. 1. 6. 4. 0. 1. 8. 7. 5. 8. 4. 9. 4. 1. 8. 4. 6. 6. 6. 8. 3. 1.].\nReshape your data either using array.reshape(-1, 1) if your data has a single feature or array.reshape(1, -1) if it contains a single sample.",
     "output_type": "error",
     "traceback": [
      "\u001b[1;31m---------------------------------------------------------------------------\u001b[0m",
      "\u001b[1;31mValueError\u001b[0m                                Traceback (most recent call last)",
      "\u001b[1;32m~\\AppData\\Local\\Temp/ipykernel_15772/3680333646.py\u001b[0m in \u001b[0;36m<module>\u001b[1;34m\u001b[0m\n\u001b[1;32m----> 1\u001b[1;33m \u001b[0mmodel\u001b[0m \u001b[1;33m=\u001b[0m \u001b[0mtree_model\u001b[0m\u001b[1;33m.\u001b[0m\u001b[0mfit\u001b[0m\u001b[1;33m(\u001b[0m\u001b[0mX_train\u001b[0m\u001b[1;33m,\u001b[0m\u001b[0my_train\u001b[0m\u001b[1;33m)\u001b[0m\u001b[1;33m\u001b[0m\u001b[1;33m\u001b[0m\u001b[0m\n\u001b[0m",
      "\u001b[1;32m~\\anaconda3\\lib\\site-packages\\sklearn\\tree\\_classes.py\u001b[0m in \u001b[0;36mfit\u001b[1;34m(self, X, y, sample_weight, check_input, X_idx_sorted)\u001b[0m\n\u001b[0;32m    901\u001b[0m         \"\"\"\n\u001b[0;32m    902\u001b[0m \u001b[1;33m\u001b[0m\u001b[0m\n\u001b[1;32m--> 903\u001b[1;33m         super().fit(\n\u001b[0m\u001b[0;32m    904\u001b[0m             \u001b[0mX\u001b[0m\u001b[1;33m,\u001b[0m \u001b[0my\u001b[0m\u001b[1;33m,\u001b[0m\u001b[1;33m\u001b[0m\u001b[1;33m\u001b[0m\u001b[0m\n\u001b[0;32m    905\u001b[0m             \u001b[0msample_weight\u001b[0m\u001b[1;33m=\u001b[0m\u001b[0msample_weight\u001b[0m\u001b[1;33m,\u001b[0m\u001b[1;33m\u001b[0m\u001b[1;33m\u001b[0m\u001b[0m\n",
      "\u001b[1;32m~\\anaconda3\\lib\\site-packages\\sklearn\\tree\\_classes.py\u001b[0m in \u001b[0;36mfit\u001b[1;34m(self, X, y, sample_weight, check_input, X_idx_sorted)\u001b[0m\n\u001b[0;32m    155\u001b[0m             \u001b[0mcheck_X_params\u001b[0m \u001b[1;33m=\u001b[0m \u001b[0mdict\u001b[0m\u001b[1;33m(\u001b[0m\u001b[0mdtype\u001b[0m\u001b[1;33m=\u001b[0m\u001b[0mDTYPE\u001b[0m\u001b[1;33m,\u001b[0m \u001b[0maccept_sparse\u001b[0m\u001b[1;33m=\u001b[0m\u001b[1;34m\"csc\"\u001b[0m\u001b[1;33m)\u001b[0m\u001b[1;33m\u001b[0m\u001b[1;33m\u001b[0m\u001b[0m\n\u001b[0;32m    156\u001b[0m             \u001b[0mcheck_y_params\u001b[0m \u001b[1;33m=\u001b[0m \u001b[0mdict\u001b[0m\u001b[1;33m(\u001b[0m\u001b[0mensure_2d\u001b[0m\u001b[1;33m=\u001b[0m\u001b[1;32mFalse\u001b[0m\u001b[1;33m,\u001b[0m \u001b[0mdtype\u001b[0m\u001b[1;33m=\u001b[0m\u001b[1;32mNone\u001b[0m\u001b[1;33m)\u001b[0m\u001b[1;33m\u001b[0m\u001b[1;33m\u001b[0m\u001b[0m\n\u001b[1;32m--> 157\u001b[1;33m             X, y = self._validate_data(X, y,\n\u001b[0m\u001b[0;32m    158\u001b[0m                                        validate_separately=(check_X_params,\n\u001b[0;32m    159\u001b[0m                                                             check_y_params))\n",
      "\u001b[1;32m~\\anaconda3\\lib\\site-packages\\sklearn\\base.py\u001b[0m in \u001b[0;36m_validate_data\u001b[1;34m(self, X, y, reset, validate_separately, **check_params)\u001b[0m\n\u001b[0;32m    428\u001b[0m                 \u001b[1;31m# :(\u001b[0m\u001b[1;33m\u001b[0m\u001b[1;33m\u001b[0m\u001b[0m\n\u001b[0;32m    429\u001b[0m                 \u001b[0mcheck_X_params\u001b[0m\u001b[1;33m,\u001b[0m \u001b[0mcheck_y_params\u001b[0m \u001b[1;33m=\u001b[0m \u001b[0mvalidate_separately\u001b[0m\u001b[1;33m\u001b[0m\u001b[1;33m\u001b[0m\u001b[0m\n\u001b[1;32m--> 430\u001b[1;33m                 \u001b[0mX\u001b[0m \u001b[1;33m=\u001b[0m \u001b[0mcheck_array\u001b[0m\u001b[1;33m(\u001b[0m\u001b[0mX\u001b[0m\u001b[1;33m,\u001b[0m \u001b[1;33m**\u001b[0m\u001b[0mcheck_X_params\u001b[0m\u001b[1;33m)\u001b[0m\u001b[1;33m\u001b[0m\u001b[1;33m\u001b[0m\u001b[0m\n\u001b[0m\u001b[0;32m    431\u001b[0m                 \u001b[0my\u001b[0m \u001b[1;33m=\u001b[0m \u001b[0mcheck_array\u001b[0m\u001b[1;33m(\u001b[0m\u001b[0my\u001b[0m\u001b[1;33m,\u001b[0m \u001b[1;33m**\u001b[0m\u001b[0mcheck_y_params\u001b[0m\u001b[1;33m)\u001b[0m\u001b[1;33m\u001b[0m\u001b[1;33m\u001b[0m\u001b[0m\n\u001b[0;32m    432\u001b[0m             \u001b[1;32melse\u001b[0m\u001b[1;33m:\u001b[0m\u001b[1;33m\u001b[0m\u001b[1;33m\u001b[0m\u001b[0m\n",
      "\u001b[1;32m~\\anaconda3\\lib\\site-packages\\sklearn\\utils\\validation.py\u001b[0m in \u001b[0;36minner_f\u001b[1;34m(*args, **kwargs)\u001b[0m\n\u001b[0;32m     61\u001b[0m             \u001b[0mextra_args\u001b[0m \u001b[1;33m=\u001b[0m \u001b[0mlen\u001b[0m\u001b[1;33m(\u001b[0m\u001b[0margs\u001b[0m\u001b[1;33m)\u001b[0m \u001b[1;33m-\u001b[0m \u001b[0mlen\u001b[0m\u001b[1;33m(\u001b[0m\u001b[0mall_args\u001b[0m\u001b[1;33m)\u001b[0m\u001b[1;33m\u001b[0m\u001b[1;33m\u001b[0m\u001b[0m\n\u001b[0;32m     62\u001b[0m             \u001b[1;32mif\u001b[0m \u001b[0mextra_args\u001b[0m \u001b[1;33m<=\u001b[0m \u001b[1;36m0\u001b[0m\u001b[1;33m:\u001b[0m\u001b[1;33m\u001b[0m\u001b[1;33m\u001b[0m\u001b[0m\n\u001b[1;32m---> 63\u001b[1;33m                 \u001b[1;32mreturn\u001b[0m \u001b[0mf\u001b[0m\u001b[1;33m(\u001b[0m\u001b[1;33m*\u001b[0m\u001b[0margs\u001b[0m\u001b[1;33m,\u001b[0m \u001b[1;33m**\u001b[0m\u001b[0mkwargs\u001b[0m\u001b[1;33m)\u001b[0m\u001b[1;33m\u001b[0m\u001b[1;33m\u001b[0m\u001b[0m\n\u001b[0m\u001b[0;32m     64\u001b[0m \u001b[1;33m\u001b[0m\u001b[0m\n\u001b[0;32m     65\u001b[0m             \u001b[1;31m# extra_args > 0\u001b[0m\u001b[1;33m\u001b[0m\u001b[1;33m\u001b[0m\u001b[0m\n",
      "\u001b[1;32m~\\anaconda3\\lib\\site-packages\\sklearn\\utils\\validation.py\u001b[0m in \u001b[0;36mcheck_array\u001b[1;34m(array, accept_sparse, accept_large_sparse, dtype, order, copy, force_all_finite, ensure_2d, allow_nd, ensure_min_samples, ensure_min_features, estimator)\u001b[0m\n\u001b[0;32m    692\u001b[0m             \u001b[1;31m# If input is 1D raise error\u001b[0m\u001b[1;33m\u001b[0m\u001b[1;33m\u001b[0m\u001b[0m\n\u001b[0;32m    693\u001b[0m             \u001b[1;32mif\u001b[0m \u001b[0marray\u001b[0m\u001b[1;33m.\u001b[0m\u001b[0mndim\u001b[0m \u001b[1;33m==\u001b[0m \u001b[1;36m1\u001b[0m\u001b[1;33m:\u001b[0m\u001b[1;33m\u001b[0m\u001b[1;33m\u001b[0m\u001b[0m\n\u001b[1;32m--> 694\u001b[1;33m                 raise ValueError(\n\u001b[0m\u001b[0;32m    695\u001b[0m                     \u001b[1;34m\"Expected 2D array, got 1D array instead:\\narray={}.\\n\"\u001b[0m\u001b[1;33m\u001b[0m\u001b[1;33m\u001b[0m\u001b[0m\n\u001b[0;32m    696\u001b[0m                     \u001b[1;34m\"Reshape your data either using array.reshape(-1, 1) if \"\u001b[0m\u001b[1;33m\u001b[0m\u001b[1;33m\u001b[0m\u001b[0m\n",
      "\u001b[1;31mValueError\u001b[0m: Expected 2D array, got 1D array instead:\narray=[8. 4. 1. 7. 8. 8. 8. 8. 5. 7. 1. 1. 1. 1. 8. 4. 8. 6. 1. 4. 3. 7. 8. 1.\n 7. 0. 6. 8. 1. 4. 6. 6. 8. 4. 6. 6. 1. 8. 6. 1. 1. 4. 1. 5. 7. 6. 8. 6.\n 6. 8. 8. 1. 2. 1. 6. 7. 6. 1. 5. 8. 7. 4. 8. 8. 4. 6. 6. 6. 7. 6. 1. 6.\n 1. 1. 1. 4. 6. 9. 1. 6. 4. 5. 4. 8. 7. 1. 8. 1. 6. 1. 1. 6. 8. 6. 7. 1.\n 7. 1. 6. 4. 0. 1. 8. 7. 5. 8. 4. 9. 4. 1. 8. 4. 6. 6. 6. 8. 3. 1.].\nReshape your data either using array.reshape(-1, 1) if your data has a single feature or array.reshape(1, -1) if it contains a single sample."
     ]
    }
   ],
   "source": [
    "model = tree_model.fit(X_train,y_train)"
   ]
  },
  {
   "cell_type": "code",
   "execution_count": null,
   "id": "a3a84b83",
   "metadata": {},
   "outputs": [],
   "source": []
  }
 ],
 "metadata": {
  "kernelspec": {
   "display_name": "Python 3 (ipykernel)",
   "language": "python",
   "name": "python3"
  },
  "language_info": {
   "codemirror_mode": {
    "name": "ipython",
    "version": 3
   },
   "file_extension": ".py",
   "mimetype": "text/x-python",
   "name": "python",
   "nbconvert_exporter": "python",
   "pygments_lexer": "ipython3",
   "version": "3.9.7"
  }
 },
 "nbformat": 4,
 "nbformat_minor": 5
}
