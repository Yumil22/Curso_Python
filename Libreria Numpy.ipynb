{
 "cells": [
  {
   "cell_type": "code",
   "execution_count": 5,
   "id": "c65ebe5c",
   "metadata": {},
   "outputs": [],
   "source": [
    "import numpy as np\n",
    "\n",
    "#Implementacion mas eficiente en arreglos\n",
    "#las listas al ser muy ineficientes, es mejor usar arreglos"
   ]
  },
  {
   "cell_type": "code",
   "execution_count": 35,
   "id": "8d93c64f",
   "metadata": {},
   "outputs": [
    {
     "data": {
      "text/plain": [
       "numpy.ndarray"
      ]
     },
     "execution_count": 35,
     "metadata": {},
     "output_type": "execute_result"
    }
   ],
   "source": [
    "np.array([1,2,3])\n",
    "type(np.array([1,2,3]))"
   ]
  },
  {
   "cell_type": "code",
   "execution_count": 4,
   "id": "cd421c90",
   "metadata": {},
   "outputs": [
    {
     "data": {
      "text/plain": [
       "array([[1, 2, 3],\n",
       "       [1, 2, 3],\n",
       "       [1, 2, 3]])"
      ]
     },
     "execution_count": 4,
     "metadata": {},
     "output_type": "execute_result"
    }
   ],
   "source": [
    "np.array([[1, 2, 3], [1, 2, 3], [1, 2, 3]])"
   ]
  },
  {
   "cell_type": "code",
   "execution_count": 6,
   "id": "0e759759",
   "metadata": {},
   "outputs": [
    {
     "data": {
      "text/plain": [
       "array([0, 1, 2, 3, 4, 5, 6, 7, 8, 9])"
      ]
     },
     "execution_count": 6,
     "metadata": {},
     "output_type": "execute_result"
    }
   ],
   "source": [
    "np.arange(10)"
   ]
  },
  {
   "cell_type": "code",
   "execution_count": 36,
   "id": "ac0b262a",
   "metadata": {},
   "outputs": [
    {
     "data": {
      "text/plain": [
       "array([2, 3, 4, 5, 6, 7, 8, 9])"
      ]
     },
     "execution_count": 36,
     "metadata": {},
     "output_type": "execute_result"
    }
   ],
   "source": [
    "np.arange(2,10)"
   ]
  },
  {
   "cell_type": "code",
   "execution_count": 9,
   "id": "90a44c8f",
   "metadata": {},
   "outputs": [
    {
     "data": {
      "text/plain": [
       "array([2, 4, 6, 8])"
      ]
     },
     "execution_count": 9,
     "metadata": {},
     "output_type": "execute_result"
    }
   ],
   "source": [
    "np.arange(2,10,2) #iniciar en 2, tu val max 10-1 y ademas vas tener un paso 2"
   ]
  },
  {
   "cell_type": "code",
   "execution_count": 10,
   "id": "c9f561b3",
   "metadata": {},
   "outputs": [
    {
     "data": {
      "text/plain": [
       "array([0., 0., 0., 0., 0.])"
      ]
     },
     "execution_count": 10,
     "metadata": {},
     "output_type": "execute_result"
    }
   ],
   "source": [
    "#arreglo de ceros\n",
    "np.zeros(5)"
   ]
  },
  {
   "cell_type": "code",
   "execution_count": 38,
   "id": "1d846e02",
   "metadata": {},
   "outputs": [
    {
     "data": {
      "text/plain": [
       "array([5., 5., 5., 5.])"
      ]
     },
     "execution_count": 38,
     "metadata": {},
     "output_type": "execute_result"
    }
   ],
   "source": [
    "#arreglo de unos\n",
    "np.ones(4)"
   ]
  },
  {
   "cell_type": "code",
   "execution_count": 41,
   "id": "035dd041",
   "metadata": {},
   "outputs": [
    {
     "data": {
      "text/plain": [
       "array([[1., 0., 0., 0., 0.],\n",
       "       [0., 1., 0., 0., 0.],\n",
       "       [0., 0., 1., 0., 0.],\n",
       "       [0., 0., 0., 1., 0.],\n",
       "       [0., 0., 0., 0., 1.]])"
      ]
     },
     "execution_count": 41,
     "metadata": {},
     "output_type": "execute_result"
    }
   ],
   "source": [
    "#matriz identidad\n",
    "np.eye(5)"
   ]
  },
  {
   "cell_type": "code",
   "execution_count": 44,
   "id": "414a8edc",
   "metadata": {},
   "outputs": [
    {
     "data": {
      "text/plain": [
       "array([0, 1, 2, 3, 4, 5, 6, 7, 8, 9])"
      ]
     },
     "execution_count": 44,
     "metadata": {},
     "output_type": "execute_result"
    }
   ],
   "source": [
    "np.arange(0,10,1)\n",
    "np.arange(10)"
   ]
  },
  {
   "cell_type": "code",
   "execution_count": 45,
   "id": "e1a90138",
   "metadata": {},
   "outputs": [
    {
     "data": {
      "text/plain": [
       "array([0. , 0.5, 1. , 1.5, 2. , 2.5, 3. , 3.5, 4. , 4.5, 5. , 5.5, 6. ,\n",
       "       6.5, 7. , 7.5, 8. , 8.5, 9. , 9.5])"
      ]
     },
     "execution_count": 45,
     "metadata": {},
     "output_type": "execute_result"
    }
   ],
   "source": [
    "np.arange(0,10,0.5) #le damos un paso"
   ]
  },
  {
   "cell_type": "code",
   "execution_count": 18,
   "id": "3869c6b4",
   "metadata": {},
   "outputs": [
    {
     "data": {
      "text/plain": [
       "array([ 0.        ,  0.41666667,  0.83333333,  1.25      ,  1.66666667,\n",
       "        2.08333333,  2.5       ,  2.91666667,  3.33333333,  3.75      ,\n",
       "        4.16666667,  4.58333333,  5.        ,  5.41666667,  5.83333333,\n",
       "        6.25      ,  6.66666667,  7.08333333,  7.5       ,  7.91666667,\n",
       "        8.33333333,  8.75      ,  9.16666667,  9.58333333, 10.        ])"
      ]
     },
     "execution_count": 18,
     "metadata": {},
     "output_type": "execute_result"
    }
   ],
   "source": [
    "#le damos el espaciado\n",
    "np.linspace(0,10,25)"
   ]
  },
  {
   "cell_type": "code",
   "execution_count": 22,
   "id": "77ca2744",
   "metadata": {},
   "outputs": [
    {
     "data": {
      "text/plain": [
       "array([ 0.        ,  0.41666667,  0.83333333,  1.25      ,  1.66666667,\n",
       "        2.08333333,  2.5       ,  2.91666667,  3.33333333,  3.75      ,\n",
       "        4.16666667,  4.58333333,  5.        ,  5.41666667,  5.83333333,\n",
       "        6.25      ,  6.66666667,  7.08333333,  7.5       ,  7.91666667,\n",
       "        8.33333333,  8.75      ,  9.16666667,  9.58333333, 10.        ])"
      ]
     },
     "execution_count": 22,
     "metadata": {},
     "output_type": "execute_result"
    }
   ],
   "source": [
    "vector = np.linspace(0,10,25)\n",
    "vector"
   ]
  },
  {
   "cell_type": "code",
   "execution_count": 46,
   "id": "98bb5a01",
   "metadata": {},
   "outputs": [
    {
     "data": {
      "text/plain": [
       "4.166666666666667"
      ]
     },
     "execution_count": 46,
     "metadata": {},
     "output_type": "execute_result"
    }
   ],
   "source": [
    "vector[10]"
   ]
  },
  {
   "cell_type": "code",
   "execution_count": 50,
   "id": "dcfd7a16",
   "metadata": {},
   "outputs": [
    {
     "data": {
      "text/plain": [
       "array([0.83333333, 5.        ])"
      ]
     },
     "execution_count": 50,
     "metadata": {},
     "output_type": "execute_result"
    }
   ],
   "source": [
    "vector[2:15]"
   ]
  },
  {
   "cell_type": "code",
   "execution_count": 54,
   "id": "f9ccd322",
   "metadata": {},
   "outputs": [
    {
     "data": {
      "text/plain": [
       "array([10.])"
      ]
     },
     "execution_count": 54,
     "metadata": {},
     "output_type": "execute_result"
    }
   ],
   "source": [
    "vector[-1:] #si voy de manera negativa es de derecha a izq"
   ]
  },
  {
   "cell_type": "code",
   "execution_count": 57,
   "id": "3a93f55e",
   "metadata": {},
   "outputs": [
    {
     "data": {
      "text/plain": [
       "array([0.19141458, 0.09737621, 0.80654566, 0.67025649])"
      ]
     },
     "execution_count": 57,
     "metadata": {},
     "output_type": "execute_result"
    }
   ],
   "source": [
    "#Numeros aleatorios\n",
    "np.random.rand(4)"
   ]
  },
  {
   "cell_type": "code",
   "execution_count": 58,
   "id": "0ec167dc",
   "metadata": {},
   "outputs": [
    {
     "data": {
      "text/plain": [
       "array([[0.29321615, 0.05902337, 0.02883121],\n",
       "       [0.20590484, 0.54412655, 0.7174299 ]])"
      ]
     },
     "execution_count": 58,
     "metadata": {},
     "output_type": "execute_result"
    }
   ],
   "source": [
    "np.random.rand(2,3)"
   ]
  },
  {
   "cell_type": "code",
   "execution_count": 61,
   "id": "4770f711",
   "metadata": {},
   "outputs": [
    {
     "data": {
      "text/plain": [
       "array([-0.69062456, -1.35786265, -0.2838292 ,  1.44227004])"
      ]
     },
     "execution_count": 61,
     "metadata": {},
     "output_type": "execute_result"
    }
   ],
   "source": [
    "np.random.randn(4) #-1 a 1"
   ]
  },
  {
   "cell_type": "code",
   "execution_count": 62,
   "id": "47cbfdb3",
   "metadata": {},
   "outputs": [
    {
     "data": {
      "text/plain": [
       "array([[-0.29899501, -1.22408706,  1.23453687],\n",
       "       [ 0.25502293,  0.46325763, -0.11194324]])"
      ]
     },
     "execution_count": 62,
     "metadata": {},
     "output_type": "execute_result"
    }
   ],
   "source": [
    "np.random.randn(2,3)"
   ]
  },
  {
   "cell_type": "code",
   "execution_count": 2,
   "id": "b777bd05",
   "metadata": {},
   "outputs": [],
   "source": [
    "import matplotlib.pyplot as plt"
   ]
  },
  {
   "cell_type": "code",
   "execution_count": 7,
   "id": "aa63e069",
   "metadata": {},
   "outputs": [
    {
     "data": {
      "text/plain": [
       "(array([2011., 2028., 1954., 2092., 1969., 2020., 1953., 1907., 1976.,\n",
       "        1931., 1999., 1946., 2028., 2137., 1955., 1933., 2015., 2042.,\n",
       "        1955., 2065., 2004., 1973., 2046., 2006., 1998., 2101., 1989.,\n",
       "        1961., 2030., 2001., 1983., 2045., 2010., 2035., 1984., 2061.,\n",
       "        1981., 1991., 1982., 1943., 1901., 2022., 1968., 1976., 1995.,\n",
       "        2006., 2071., 2042., 1929., 2050.]),\n",
       " array([1.97058710e-05, 2.00191902e-02, 4.00186746e-02, 6.00181589e-02,\n",
       "        8.00176433e-02, 1.00017128e-01, 1.20016612e-01, 1.40016096e-01,\n",
       "        1.60015581e-01, 1.80015065e-01, 2.00014549e-01, 2.20014034e-01,\n",
       "        2.40013518e-01, 2.60013003e-01, 2.80012487e-01, 3.00011971e-01,\n",
       "        3.20011456e-01, 3.40010940e-01, 3.60010424e-01, 3.80009909e-01,\n",
       "        4.00009393e-01, 4.20008877e-01, 4.40008362e-01, 4.60007846e-01,\n",
       "        4.80007330e-01, 5.00006815e-01, 5.20006299e-01, 5.40005784e-01,\n",
       "        5.60005268e-01, 5.80004752e-01, 6.00004237e-01, 6.20003721e-01,\n",
       "        6.40003205e-01, 6.60002690e-01, 6.80002174e-01, 7.00001658e-01,\n",
       "        7.20001143e-01, 7.40000627e-01, 7.60000111e-01, 7.79999596e-01,\n",
       "        7.99999080e-01, 8.19998564e-01, 8.39998049e-01, 8.59997533e-01,\n",
       "        8.79997018e-01, 8.99996502e-01, 9.19995986e-01, 9.39995471e-01,\n",
       "        9.59994955e-01, 9.79994439e-01, 9.99993924e-01]),\n",
       " <BarContainer object of 50 artists>)"
      ]
     },
     "execution_count": 7,
     "metadata": {},
     "output_type": "execute_result"
    },
    {
     "data": {
      "image/png": "[encoded data removed]",
      "text/plain": [
       "<Figure size 432x288 with 1 Axes>"
      ]
     },
     "metadata": {
      "needs_background": "light"
     },
     "output_type": "display_data"
    }
   ],
   "source": [
    "#Distribucion uniforme\n",
    "plt.hist(np.random.rand(100000), bins = 50)"
   ]
  },
  {
   "cell_type": "code",
   "execution_count": 8,
   "id": "23a01a2f",
   "metadata": {},
   "outputs": [
    {
     "data": {
      "text/plain": [
       "(array([6.000e+00, 5.000e+00, 1.700e+01, 3.700e+01, 6.600e+01, 1.000e+02,\n",
       "        1.500e+02, 2.700e+02, 4.350e+02, 6.110e+02, 9.670e+02, 1.309e+03,\n",
       "        1.744e+03, 2.392e+03, 3.020e+03, 3.769e+03, 4.497e+03, 5.263e+03,\n",
       "        5.979e+03, 6.653e+03, 7.172e+03, 7.211e+03, 7.106e+03, 6.953e+03,\n",
       "        6.424e+03, 5.714e+03, 4.937e+03, 4.115e+03, 3.501e+03, 2.679e+03,\n",
       "        2.110e+03, 1.554e+03, 1.088e+03, 7.190e+02, 5.640e+02, 3.560e+02,\n",
       "        2.130e+02, 1.180e+02, 6.700e+01, 5.500e+01, 1.800e+01, 1.900e+01,\n",
       "        8.000e+00, 4.000e+00, 1.000e+00, 3.000e+00, 0.000e+00, 0.000e+00,\n",
       "        0.000e+00, 1.000e+00]),\n",
       " array([-3.92935051, -3.74894568, -3.56854085, -3.38813603, -3.2077312 ,\n",
       "        -3.02732637, -2.84692154, -2.66651672, -2.48611189, -2.30570706,\n",
       "        -2.12530224, -1.94489741, -1.76449258, -1.58408775, -1.40368293,\n",
       "        -1.2232781 , -1.04287327, -0.86246845, -0.68206362, -0.50165879,\n",
       "        -0.32125397, -0.14084914,  0.03955569,  0.21996052,  0.40036534,\n",
       "         0.58077017,  0.761175  ,  0.94157982,  1.12198465,  1.30238948,\n",
       "         1.48279431,  1.66319913,  1.84360396,  2.02400879,  2.20441361,\n",
       "         2.38481844,  2.56522327,  2.74562809,  2.92603292,  3.10643775,\n",
       "         3.28684258,  3.4672474 ,  3.64765223,  3.82805706,  4.00846188,\n",
       "         4.18886671,  4.36927154,  4.54967637,  4.73008119,  4.91048602,\n",
       "         5.09089085]),\n",
       " <BarContainer object of 50 artists>)"
      ]
     },
     "execution_count": 8,
     "metadata": {},
     "output_type": "execute_result"
    },
    {
     "data": {
      "image/png": "[encoded data removed]",
      "text/plain": [
       "<Figure size 432x288 with 1 Axes>"
      ]
     },
     "metadata": {
      "needs_background": "light"
     },
     "output_type": "display_data"
    }
   ],
   "source": [
    "#Distribucion Estandar normal\n",
    "plt.hist(np.random.randn(100000), bins = 50)"
   ]
  },
  {
   "cell_type": "code",
   "execution_count": 18,
   "id": "6756dcd6",
   "metadata": {},
   "outputs": [
    {
     "data": {
      "text/plain": [
       "(array([1003.,  983., 1043., 1020., 1021.,  975., 1028.,  988.,  968.,\n",
       "         971.]),\n",
       " array([0. , 0.9, 1.8, 2.7, 3.6, 4.5, 5.4, 6.3, 7.2, 8.1, 9. ]),\n",
       " <BarContainer object of 10 artists>)"
      ]
     },
     "execution_count": 18,
     "metadata": {},
     "output_type": "execute_result"
    },
    {
     "data": {
      "image/png": "[encoded data removed]",
      "text/plain": [
       "<Figure size 432x288 with 1 Axes>"
      ]
     },
     "metadata": {
      "needs_background": "light"
     },
     "output_type": "display_data"
    }
   ],
   "source": [
    "plt.hist(np.random.randint(0, 10, 10000), bins = 10)"
   ]
  },
  {
   "cell_type": "code",
   "execution_count": 20,
   "id": "d9f53f96",
   "metadata": {},
   "outputs": [
    {
     "data": {
      "text/plain": [
       "(30,)"
      ]
     },
     "execution_count": 20,
     "metadata": {},
     "output_type": "execute_result"
    }
   ],
   "source": [
    "arr = np.arange(30)\n",
    "arr.shape"
   ]
  },
  {
   "cell_type": "code",
   "execution_count": 21,
   "id": "e2e60464",
   "metadata": {},
   "outputs": [
    {
     "data": {
      "text/plain": [
       "array([[ 0,  1,  2,  3,  4,  5],\n",
       "       [ 6,  7,  8,  9, 10, 11],\n",
       "       [12, 13, 14, 15, 16, 17],\n",
       "       [18, 19, 20, 21, 22, 23],\n",
       "       [24, 25, 26, 27, 28, 29]])"
      ]
     },
     "execution_count": 21,
     "metadata": {},
     "output_type": "execute_result"
    }
   ],
   "source": [
    "arr.reshape(5,6)"
   ]
  },
  {
   "cell_type": "code",
   "execution_count": 22,
   "id": "21b99905",
   "metadata": {},
   "outputs": [
    {
     "data": {
      "text/plain": [
       "array([[ 0,  1],\n",
       "       [ 2,  3],\n",
       "       [ 4,  5],\n",
       "       [ 6,  7],\n",
       "       [ 8,  9],\n",
       "       [10, 11],\n",
       "       [12, 13],\n",
       "       [14, 15],\n",
       "       [16, 17],\n",
       "       [18, 19],\n",
       "       [20, 21],\n",
       "       [22, 23],\n",
       "       [24, 25],\n",
       "       [26, 27],\n",
       "       [28, 29]])"
      ]
     },
     "execution_count": 22,
     "metadata": {},
     "output_type": "execute_result"
    }
   ],
   "source": [
    "arr.reshape(15,2)"
   ]
  },
  {
   "cell_type": "code",
   "execution_count": 29,
   "id": "89b4f3c3",
   "metadata": {},
   "outputs": [
    {
     "data": {
      "text/plain": [
       "array([2, 7, 2, 9, 9, 6, 2, 7, 7, 3])"
      ]
     },
     "execution_count": 29,
     "metadata": {},
     "output_type": "execute_result"
    }
   ],
   "source": [
    "array = np.random.randint(0, 10, 10)\n",
    "array"
   ]
  },
  {
   "cell_type": "code",
   "execution_count": 36,
   "id": "5aeabcc2",
   "metadata": {},
   "outputs": [
    {
     "name": "stdout",
     "output_type": "stream",
     "text": [
      "9\n",
      "2\n",
      "3\n",
      "0\n"
     ]
    }
   ],
   "source": [
    "print(array.max()) #np.max(array)\n",
    "print(array.min())\n",
    "print(array.argmax()) #Imprime el indice del valor maximo\n",
    "#Se le conoce usualmente como argumento\n",
    "print(array.argmin())"
   ]
  },
  {
   "cell_type": "markdown",
   "id": "3fb73cab",
   "metadata": {},
   "source": [
    "# Seeds"
   ]
  },
  {
   "cell_type": "code",
   "execution_count": 66,
   "id": "a22e6583",
   "metadata": {},
   "outputs": [
    {
     "data": {
      "text/plain": [
       "array([[31, 80, 34, 30, 29],\n",
       "       [51, 28, 73, 61, 90],\n",
       "       [93, 14,  0, 78,  5],\n",
       "       [23, 82, 74, 79,  2],\n",
       "       [79, 80, 42, 96, 34]])"
      ]
     },
     "execution_count": 66,
     "metadata": {},
     "output_type": "execute_result"
    }
   ],
   "source": [
    "#Al usar una semilla, entonces forzamos a que siempre obtengamos lo mismo en los valores random\n",
    "_2d_array_ = np.random.randint(0,100,(5,5))\n",
    "_2d_array_"
   ]
  },
  {
   "cell_type": "code",
   "execution_count": 45,
   "id": "b2dbd784",
   "metadata": {},
   "outputs": [
    {
     "data": {
      "text/plain": [
       "60"
      ]
     },
     "execution_count": 45,
     "metadata": {},
     "output_type": "execute_result"
    }
   ],
   "source": [
    "_2d_array_[0]\n",
    "_2d_array_[0,2]"
   ]
  },
  {
   "cell_type": "code",
   "execution_count": 47,
   "id": "c85b9083",
   "metadata": {},
   "outputs": [
    {
     "data": {
      "text/plain": [
       "array([[111, 111, 111, 111, 111],\n",
       "       [ 67,   9,  69,  40,  23],\n",
       "       [  4,  67,  71,  68,  22],\n",
       "       [ 49,  51,  43,  26,  64],\n",
       "       [ 55,  96,  34,  50,  11]])"
      ]
     },
     "execution_count": 47,
     "metadata": {},
     "output_type": "execute_result"
    }
   ],
   "source": [
    "_2d_array_[0] = 111\n",
    "_2d_array_[1,2] = 69\n",
    "_2d_array_"
   ]
  },
  {
   "cell_type": "code",
   "execution_count": 65,
   "id": "0f7736bd",
   "metadata": {},
   "outputs": [
    {
     "data": {
      "text/plain": [
       "array([[111, 111, 111, 111, 111],\n",
       "       [111,  55,  55,  55, 111],\n",
       "       [111,  55,  55,  55, 111],\n",
       "       [111,  55,  55,  55, 111],\n",
       "       [111, 111, 111, 111, 111]])"
      ]
     },
     "execution_count": 65,
     "metadata": {},
     "output_type": "execute_result"
    }
   ],
   "source": [
    "#Ejercicio\n",
    "#Hagamos que todo el centro de mi matriz, valga 55\n",
    "#y todo el contorno valga 111\n",
    "_2d_array_[0:,0] = 111\n",
    "_2d_array_[0:,-1:] = 111\n",
    "_2d_array_[-1:,:] = 111\n",
    "_2d_array_"
   ]
  },
  {
   "cell_type": "code",
   "execution_count": 61,
   "id": "55910399",
   "metadata": {},
   "outputs": [
    {
     "data": {
      "text/plain": [
       "array([[ 9, 69, 40],\n",
       "       [67, 71, 68],\n",
       "       [51, 43, 26]])"
      ]
     },
     "execution_count": 61,
     "metadata": {},
     "output_type": "execute_result"
    }
   ],
   "source": [
    "_2d_array_[1:-1,1:-1]"
   ]
  },
  {
   "cell_type": "code",
   "execution_count": 62,
   "id": "7acb03af",
   "metadata": {},
   "outputs": [],
   "source": [
    "_2d_array_[1:-1,1:-1] = 55"
   ]
  },
  {
   "cell_type": "code",
   "execution_count": 67,
   "id": "b03deac4",
   "metadata": {},
   "outputs": [
    {
     "data": {
      "text/plain": [
       "array([[31, 80, 34, 30, 29],\n",
       "       [51, 28, 73, 61, 90],\n",
       "       [93, 14,  0, 78,  5],\n",
       "       [23, 82, 74, 79,  2],\n",
       "       [79, 80, 42, 96, 34]])"
      ]
     },
     "execution_count": 67,
     "metadata": {},
     "output_type": "execute_result"
    }
   ],
   "source": [
    "_2d_array_"
   ]
  },
  {
   "cell_type": "code",
   "execution_count": 71,
   "id": "af3f6cdc",
   "metadata": {},
   "outputs": [
    {
     "data": {
      "text/plain": [
       "array([[93, 14,  0, 78,  5]])"
      ]
     },
     "execution_count": 71,
     "metadata": {},
     "output_type": "execute_result"
    }
   ],
   "source": [
    "#se podría decir que uso una doble condicion\n",
    "_2d_array_[1:4][1:5]\n",
    "_2d_array_[1:3][1:5]"
   ]
  },
  {
   "cell_type": "code",
   "execution_count": 72,
   "id": "e3a2a8a2",
   "metadata": {},
   "outputs": [
    {
     "data": {
      "text/plain": [
       "array([[31, 80, 34, 30, 29],\n",
       "       [93, 14,  0, 78,  5]])"
      ]
     },
     "execution_count": 72,
     "metadata": {},
     "output_type": "execute_result"
    }
   ],
   "source": [
    "#con esta configuracion no agarro, las FILAS que yo quiera\n",
    "_2d_array_[[0,2]]\n",
    "_2d_array_[0,2]# aqui yo agarro el valor de la coordenada que le estoy diciendo "
   ]
  },
  {
   "cell_type": "code",
   "execution_count": 77,
   "id": "769751aa",
   "metadata": {},
   "outputs": [
    {
     "data": {
      "text/plain": [
       "array([[False, False, False, False, False],\n",
       "       [False, False, False, False, False],\n",
       "       [False, False, False, False, False],\n",
       "       [False, False, False, False, False],\n",
       "       [False, False, False, False, False]])"
      ]
     },
     "execution_count": 77,
     "metadata": {},
     "output_type": "execute_result"
    }
   ],
   "source": [
    "#No es necesario usar funciones, solitio genera una matriz de resultado\n",
    "_2d_array_>25\n",
    "_2d_array_<25\n",
    "_2d_array_==25"
   ]
  },
  {
   "cell_type": "code",
   "execution_count": 78,
   "id": "311b7be0",
   "metadata": {},
   "outputs": [
    {
     "data": {
      "text/plain": [
       "array([31, 80, 34, 30, 29, 51, 28, 73, 61, 90, 93, 78, 82, 74, 79, 79, 80,\n",
       "       42, 96, 34])"
      ]
     },
     "execution_count": 78,
     "metadata": {},
     "output_type": "execute_result"
    }
   ],
   "source": [
    "_2d_array_[_2d_array_>25] #genero un array con la condicion que yo le pido"
   ]
  },
  {
   "cell_type": "code",
   "execution_count": 6,
   "id": "434ba679",
   "metadata": {},
   "outputs": [
    {
     "data": {
      "text/plain": [
       "array([ 0,  1,  2,  3,  4,  5,  6,  7,  8,  9, 10, 11, 12, 13, 14, 15, 16,\n",
       "       17, 18, 19])"
      ]
     },
     "execution_count": 6,
     "metadata": {},
     "output_type": "execute_result"
    }
   ],
   "source": [
    "array =  np.arange(20)\n",
    "array"
   ]
  },
  {
   "cell_type": "code",
   "execution_count": 7,
   "id": "aca83c55",
   "metadata": {},
   "outputs": [
    {
     "data": {
      "text/plain": [
       "array([ 0,  2,  4,  6,  8, 10, 12, 14, 16, 18, 20, 22, 24, 26, 28, 30, 32,\n",
       "       34, 36, 38])"
      ]
     },
     "execution_count": 7,
     "metadata": {},
     "output_type": "execute_result"
    }
   ],
   "source": [
    "array + array"
   ]
  },
  {
   "cell_type": "code",
   "execution_count": 8,
   "id": "e57b8f6e",
   "metadata": {},
   "outputs": [
    {
     "data": {
      "text/plain": [
       "array([0, 0, 0, 0, 0, 0, 0, 0, 0, 0, 0, 0, 0, 0, 0, 0, 0, 0, 0, 0])"
      ]
     },
     "execution_count": 8,
     "metadata": {},
     "output_type": "execute_result"
    }
   ],
   "source": [
    "array - array"
   ]
  },
  {
   "cell_type": "code",
   "execution_count": 9,
   "id": "67f3df80",
   "metadata": {},
   "outputs": [
    {
     "data": {
      "text/plain": [
       "array([ 0,  2,  4,  6,  8, 10, 12, 14, 16, 18, 20, 22, 24, 26, 28, 30, 32,\n",
       "       34, 36, 38])"
      ]
     },
     "execution_count": 9,
     "metadata": {},
     "output_type": "execute_result"
    }
   ],
   "source": [
    "array *2"
   ]
  },
  {
   "cell_type": "code",
   "execution_count": 10,
   "id": "6d97bfd5",
   "metadata": {},
   "outputs": [
    {
     "data": {
      "text/plain": [
       "array([  0,   1,   4,   9,  16,  25,  36,  49,  64,  81, 100, 121, 144,\n",
       "       169, 196, 225, 256, 289, 324, 361])"
      ]
     },
     "execution_count": 10,
     "metadata": {},
     "output_type": "execute_result"
    }
   ],
   "source": [
    "array *  array"
   ]
  },
  {
   "cell_type": "code",
   "execution_count": 11,
   "id": "9955c853",
   "metadata": {},
   "outputs": [
    {
     "data": {
      "text/plain": [
       "2470"
      ]
     },
     "execution_count": 11,
     "metadata": {},
     "output_type": "execute_result"
    }
   ],
   "source": [
    "np.dot(array,array)"
   ]
  },
  {
   "cell_type": "code",
   "execution_count": 12,
   "id": "a98a5194",
   "metadata": {},
   "outputs": [
    {
     "data": {
      "text/plain": [
       "array([0.        , 1.        , 1.41421356, 1.73205081, 2.        ,\n",
       "       2.23606798, 2.44948974, 2.64575131, 2.82842712, 3.        ,\n",
       "       3.16227766, 3.31662479, 3.46410162, 3.60555128, 3.74165739,\n",
       "       3.87298335, 4.        , 4.12310563, 4.24264069, 4.35889894])"
      ]
     },
     "execution_count": 12,
     "metadata": {},
     "output_type": "execute_result"
    }
   ],
   "source": [
    "np.sqrt(array)"
   ]
  },
  {
   "cell_type": "code",
   "execution_count": 13,
   "id": "a2ca7121",
   "metadata": {},
   "outputs": [
    {
     "data": {
      "text/plain": [
       "array([ 1.        ,  0.54030231, -0.41614684, -0.9899925 , -0.65364362,\n",
       "        0.28366219,  0.96017029,  0.75390225, -0.14550003, -0.91113026,\n",
       "       -0.83907153,  0.0044257 ,  0.84385396,  0.90744678,  0.13673722,\n",
       "       -0.75968791, -0.95765948, -0.27516334,  0.66031671,  0.98870462])"
      ]
     },
     "execution_count": 13,
     "metadata": {},
     "output_type": "execute_result"
    }
   ],
   "source": [
    "np.cos(array)"
   ]
  },
  {
   "cell_type": "code",
   "execution_count": 14,
   "id": "9c871cc0",
   "metadata": {},
   "outputs": [
    {
     "data": {
      "text/plain": [
       "array([0, 0, 0, 0, 0, 1, 1, 1, 1, 1, 2, 2, 2, 2, 2, 3, 3, 3, 3, 3],\n",
       "      dtype=int32)"
      ]
     },
     "execution_count": 14,
     "metadata": {},
     "output_type": "execute_result"
    }
   ],
   "source": [
    " array // 5 #division entera"
   ]
  },
  {
   "cell_type": "code",
   "execution_count": 15,
   "id": "0cf694bc",
   "metadata": {},
   "outputs": [
    {
     "data": {
      "text/plain": [
       "array([  0,   1,   4,   9,  16,  25,  36,  49,  64,  81, 100, 121, 144,\n",
       "       169, 196, 225, 256, 289, 324, 361], dtype=int32)"
      ]
     },
     "execution_count": 15,
     "metadata": {},
     "output_type": "execute_result"
    }
   ],
   "source": [
    "array ** 2"
   ]
  },
  {
   "cell_type": "code",
   "execution_count": 19,
   "id": "a3af7146",
   "metadata": {},
   "outputs": [
    {
     "data": {
      "text/plain": [
       "array([ 2,  3,  0,  1,  6,  7,  4,  5, 10, 11,  8,  9, 14, 15, 12, 13, 18,\n",
       "       19, 16, 17], dtype=int32)"
      ]
     },
     "execution_count": 19,
     "metadata": {},
     "output_type": "execute_result"
    }
   ],
   "source": [
    "array^2\n"
   ]
  },
  {
   "cell_type": "code",
   "execution_count": 18,
   "id": "0fe532d1",
   "metadata": {},
   "outputs": [
    {
     "data": {
      "text/plain": [
       "array([ 0,  1,  2,  3,  4,  5,  6,  7,  8,  9, 10, 11, 12, 13, 14, 15, 16,\n",
       "       17, 18, 19])"
      ]
     },
     "execution_count": 18,
     "metadata": {},
     "output_type": "execute_result"
    }
   ],
   "source": [
    "array"
   ]
  },
  {
   "cell_type": "code",
   "execution_count": 94,
   "id": "e125c418",
   "metadata": {},
   "outputs": [
    {
     "data": {
      "text/plain": [
       "array([0, 1, 0, 1, 0, 1, 0, 1, 0, 1, 0, 1, 0, 1, 0, 1, 0, 1, 0, 1],\n",
       "      dtype=int32)"
      ]
     },
     "execution_count": 94,
     "metadata": {},
     "output_type": "execute_result"
    }
   ],
   "source": [
    "array %2 #residuo "
   ]
  },
  {
   "cell_type": "code",
   "execution_count": null,
   "id": "2fd73b11",
   "metadata": {},
   "outputs": [],
   "source": []
  }
 ],
 "metadata": {
  "kernelspec": {
   "display_name": "Python 3 (ipykernel)",
   "language": "python",
   "name": "python3"
  },
  "language_info": {
   "codemirror_mode": {
    "name": "ipython",
    "version": 3
   },
   "file_extension": ".py",
   "mimetype": "text/x-python",
   "name": "python",
   "nbconvert_exporter": "python",
   "pygments_lexer": "ipython3",
   "version": "3.9.7"
  }
 },
 "nbformat": 4,
 "nbformat_minor": 5
}
