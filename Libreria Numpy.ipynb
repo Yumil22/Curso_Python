{
 "cells": [
  {
   "cell_type": "code",
   "execution_count": 2,
   "id": "c65ebe5c",
   "metadata": {},
   "outputs": [],
   "source": [
    "import numpy as np\n",
    "\n",
    "#Implementacion mas eficiente en arreglos\n",
    "#las listas al ser muy ineficientes, es mejor usar arreglos"
   ]
  },
  {
   "cell_type": "code",
   "execution_count": 35,
   "id": "8d93c64f",
   "metadata": {},
   "outputs": [
    {
     "data": {
      "text/plain": [
       "numpy.ndarray"
      ]
     },
     "execution_count": 35,
     "metadata": {},
     "output_type": "execute_result"
    }
   ],
   "source": [
    "#crear un arreglo\n",
    "np.array([1,2,3])\n",
    "type(np.array([1,2,3]))"
   ]
  },
  {
   "cell_type": "code",
   "execution_count": 4,
   "id": "cd421c90",
   "metadata": {},
   "outputs": [
    {
     "data": {
      "text/plain": [
       "array([[1, 2, 3],\n",
       "       [1, 2, 3],\n",
       "       [1, 2, 3]])"
      ]
     },
     "execution_count": 4,
     "metadata": {},
     "output_type": "execute_result"
    }
   ],
   "source": [
    "np.array([[1, 2, 3], [1, 2, 3], [1, 2, 3]])"
   ]
  },
  {
   "cell_type": "code",
   "execution_count": 3,
   "id": "0e759759",
   "metadata": {},
   "outputs": [
    {
     "data": {
      "text/plain": [
       "array([ 0,  1,  2,  3,  4,  5,  6,  7,  8,  9, 10])"
      ]
     },
     "execution_count": 3,
     "metadata": {},
     "output_type": "execute_result"
    }
   ],
   "source": [
    "np.arange(11) #[ )"
   ]
  },
  {
   "cell_type": "code",
   "execution_count": 36,
   "id": "ac0b262a",
   "metadata": {},
   "outputs": [
    {
     "data": {
      "text/plain": [
       "array([2, 3, 4, 5, 6, 7, 8, 9])"
      ]
     },
     "execution_count": 36,
     "metadata": {},
     "output_type": "execute_result"
    }
   ],
   "source": [
    "np.arange(2,10)"
   ]
  },
  {
   "cell_type": "code",
   "execution_count": 5,
   "id": "90a44c8f",
   "metadata": {},
   "outputs": [
    {
     "data": {
      "text/plain": [
       "array([2, 4, 6, 8])"
      ]
     },
     "execution_count": 5,
     "metadata": {},
     "output_type": "execute_result"
    }
   ],
   "source": [
    "np.arange(2,10,2) #iniciar en 2, tu val max 10-1 y ademas vas tener un paso 2"
   ]
  },
  {
   "cell_type": "code",
   "execution_count": 10,
   "id": "c9f561b3",
   "metadata": {},
   "outputs": [
    {
     "data": {
      "text/plain": [
       "array([0., 0., 0., 0., 0.])"
      ]
     },
     "execution_count": 10,
     "metadata": {},
     "output_type": "execute_result"
    }
   ],
   "source": [
    "#arreglo de ceros\n",
    "np.zeros(5)"
   ]
  },
  {
   "cell_type": "code",
   "execution_count": 9,
   "id": "1d846e02",
   "metadata": {},
   "outputs": [
    {
     "data": {
      "text/plain": [
       "array([1., 1., 1., 1.])"
      ]
     },
     "execution_count": 9,
     "metadata": {},
     "output_type": "execute_result"
    }
   ],
   "source": [
    "#arreglo de unos\n",
    "np.ones(4)"
   ]
  },
  {
   "cell_type": "code",
   "execution_count": 41,
   "id": "035dd041",
   "metadata": {},
   "outputs": [
    {
     "data": {
      "text/plain": [
       "array([[1., 0., 0., 0., 0.],\n",
       "       [0., 1., 0., 0., 0.],\n",
       "       [0., 0., 1., 0., 0.],\n",
       "       [0., 0., 0., 1., 0.],\n",
       "       [0., 0., 0., 0., 1.]])"
      ]
     },
     "execution_count": 41,
     "metadata": {},
     "output_type": "execute_result"
    }
   ],
   "source": [
    "#matriz identidad\n",
    "np.eye(5)"
   ]
  },
  {
   "cell_type": "code",
   "execution_count": 44,
   "id": "414a8edc",
   "metadata": {},
   "outputs": [
    {
     "data": {
      "text/plain": [
       "array([0, 1, 2, 3, 4, 5, 6, 7, 8, 9])"
      ]
     },
     "execution_count": 44,
     "metadata": {},
     "output_type": "execute_result"
    }
   ],
   "source": [
    "np.arange(0,10,1)\n",
    "np.arange(10)"
   ]
  },
  {
   "cell_type": "code",
   "execution_count": 45,
   "id": "e1a90138",
   "metadata": {},
   "outputs": [
    {
     "data": {
      "text/plain": [
       "array([0. , 0.5, 1. , 1.5, 2. , 2.5, 3. , 3.5, 4. , 4.5, 5. , 5.5, 6. ,\n",
       "       6.5, 7. , 7.5, 8. , 8.5, 9. , 9.5])"
      ]
     },
     "execution_count": 45,
     "metadata": {},
     "output_type": "execute_result"
    }
   ],
   "source": [
    "np.arange(0,10,0.5) #le damos un paso"
   ]
  },
  {
   "cell_type": "code",
   "execution_count": 16,
   "id": "3869c6b4",
   "metadata": {},
   "outputs": [
    {
     "data": {
      "text/plain": [
       "array([ 0.        ,  0.52631579,  1.05263158,  1.57894737,  2.10526316,\n",
       "        2.63157895,  3.15789474,  3.68421053,  4.21052632,  4.73684211,\n",
       "        5.26315789,  5.78947368,  6.31578947,  6.84210526,  7.36842105,\n",
       "        7.89473684,  8.42105263,  8.94736842,  9.47368421, 10.        ])"
      ]
     },
     "execution_count": 16,
     "metadata": {},
     "output_type": "execute_result"
    }
   ],
   "source": [
    "#le damos el espaciado\n",
    "np.linspace(0,10,20)"
   ]
  },
  {
   "cell_type": "code",
   "execution_count": 18,
   "id": "77ca2744",
   "metadata": {},
   "outputs": [
    {
     "data": {
      "text/plain": [
       "array([ 0.        ,  0.41666667,  0.83333333,  1.25      ,  1.66666667,\n",
       "        2.08333333,  2.5       ,  2.91666667,  3.33333333,  3.75      ,\n",
       "        4.16666667,  4.58333333,  5.        ,  5.41666667,  5.83333333,\n",
       "        6.25      ,  6.66666667,  7.08333333,  7.5       ,  7.91666667,\n",
       "        8.33333333,  8.75      ,  9.16666667,  9.58333333, 10.        ])"
      ]
     },
     "execution_count": 18,
     "metadata": {},
     "output_type": "execute_result"
    }
   ],
   "source": [
    "vector = np.linspace(0,10,25)\n",
    "vector"
   ]
  },
  {
   "cell_type": "code",
   "execution_count": 19,
   "id": "98bb5a01",
   "metadata": {},
   "outputs": [
    {
     "data": {
      "text/plain": [
       "4.166666666666667"
      ]
     },
     "execution_count": 19,
     "metadata": {},
     "output_type": "execute_result"
    }
   ],
   "source": [
    "vector[10]"
   ]
  },
  {
   "cell_type": "code",
   "execution_count": 20,
   "id": "dcfd7a16",
   "metadata": {},
   "outputs": [
    {
     "data": {
      "text/plain": [
       "array([0.83333333, 1.25      , 1.66666667, 2.08333333, 2.5       ,\n",
       "       2.91666667, 3.33333333, 3.75      , 4.16666667, 4.58333333,\n",
       "       5.        , 5.41666667, 5.83333333])"
      ]
     },
     "execution_count": 20,
     "metadata": {},
     "output_type": "execute_result"
    }
   ],
   "source": [
    "vector[2:15]"
   ]
  },
  {
   "cell_type": "code",
   "execution_count": 21,
   "id": "f9ccd322",
   "metadata": {},
   "outputs": [
    {
     "data": {
      "text/plain": [
       "array([10.])"
      ]
     },
     "execution_count": 21,
     "metadata": {},
     "output_type": "execute_result"
    }
   ],
   "source": [
    "vector[-1:] #si voy de manera negativa es de derecha a izq"
   ]
  },
  {
   "cell_type": "code",
   "execution_count": 57,
   "id": "3a93f55e",
   "metadata": {},
   "outputs": [
    {
     "data": {
      "text/plain": [
       "array([0.19141458, 0.09737621, 0.80654566, 0.67025649])"
      ]
     },
     "execution_count": 57,
     "metadata": {},
     "output_type": "execute_result"
    }
   ],
   "source": [
    "#Numeros aleatorios\n",
    "np.random.rand(4)"
   ]
  },
  {
   "cell_type": "code",
   "execution_count": 40,
   "id": "0ec167dc",
   "metadata": {},
   "outputs": [
    {
     "data": {
      "text/plain": [
       "(2, 3)"
      ]
     },
     "execution_count": 40,
     "metadata": {},
     "output_type": "execute_result"
    }
   ],
   "source": [
    "a = np.random.rand(2,3)\n",
    "a.shape"
   ]
  },
  {
   "cell_type": "code",
   "execution_count": 61,
   "id": "4770f711",
   "metadata": {},
   "outputs": [
    {
     "data": {
      "text/plain": [
       "array([-0.69062456, -1.35786265, -0.2838292 ,  1.44227004])"
      ]
     },
     "execution_count": 61,
     "metadata": {},
     "output_type": "execute_result"
    }
   ],
   "source": [
    "np.random.randn(4) #-1 a 1"
   ]
  },
  {
   "cell_type": "code",
   "execution_count": 23,
   "id": "47cbfdb3",
   "metadata": {},
   "outputs": [
    {
     "data": {
      "text/plain": [
       "array([[-0.31984772,  0.41264691,  0.43318134],\n",
       "       [ 1.37840842, -0.3248944 , -0.9955077 ]])"
      ]
     },
     "execution_count": 23,
     "metadata": {},
     "output_type": "execute_result"
    }
   ],
   "source": [
    "np.random.randn(2,3)"
   ]
  },
  {
   "cell_type": "code",
   "execution_count": 26,
   "id": "b777bd05",
   "metadata": {},
   "outputs": [],
   "source": [
    "import matplotlib.pyplot as plt"
   ]
  },
  {
   "cell_type": "code",
   "execution_count": 35,
   "id": "aa63e069",
   "metadata": {},
   "outputs": [
    {
     "data": {
      "text/plain": [
       "(array([2043., 2061., 2000., 1976., 2073., 1937., 1988., 1946., 2034.,\n",
       "        1938., 2066., 1960., 1915., 2032., 1940., 1939., 2054., 2077.,\n",
       "        1999., 1945., 2026., 2059., 1978., 1949., 1946., 2065., 2055.,\n",
       "        2017., 2020., 1980., 2017., 1961., 1982., 1912., 1954., 2014.,\n",
       "        2005., 2054., 2023., 1925., 2017., 2069., 2068., 1972., 2023.,\n",
       "        1918., 2037., 1968., 2039., 2024.]),\n",
       " array([1.06723006e-06, 2.00004175e-02, 3.99997677e-02, 5.99991179e-02,\n",
       "        7.99984682e-02, 9.99978184e-02, 1.19997169e-01, 1.39996519e-01,\n",
       "        1.59995869e-01, 1.79995219e-01, 1.99994570e-01, 2.19993920e-01,\n",
       "        2.39993270e-01, 2.59992620e-01, 2.79991970e-01, 2.99991321e-01,\n",
       "        3.19990671e-01, 3.39990021e-01, 3.59989371e-01, 3.79988722e-01,\n",
       "        3.99988072e-01, 4.19987422e-01, 4.39986772e-01, 4.59986123e-01,\n",
       "        4.79985473e-01, 4.99984823e-01, 5.19984173e-01, 5.39983524e-01,\n",
       "        5.59982874e-01, 5.79982224e-01, 5.99981574e-01, 6.19980924e-01,\n",
       "        6.39980275e-01, 6.59979625e-01, 6.79978975e-01, 6.99978325e-01,\n",
       "        7.19977676e-01, 7.39977026e-01, 7.59976376e-01, 7.79975726e-01,\n",
       "        7.99975077e-01, 8.19974427e-01, 8.39973777e-01, 8.59973127e-01,\n",
       "        8.79972477e-01, 8.99971828e-01, 9.19971178e-01, 9.39970528e-01,\n",
       "        9.59969878e-01, 9.79969229e-01, 9.99968579e-01]),\n",
       " <BarContainer object of 50 artists>)"
      ]
     },
     "execution_count": 35,
     "metadata": {},
     "output_type": "execute_result"
    },
    {
     "data": {
      "image/png": "[encoded data removed]",
      "text/plain": [
       "<Figure size 432x288 with 1 Axes>"
      ]
     },
     "metadata": {
      "needs_background": "light"
     },
     "output_type": "display_data"
    }
   ],
   "source": [
    "#Distribucion uniforme\n",
    "np.random.seed(40)\n",
    "plt.hist(np.random.rand(100000), bins = 50)"
   ]
  },
  {
   "cell_type": "code",
   "execution_count": 31,
   "id": "23a01a2f",
   "metadata": {},
   "outputs": [
    {
     "data": {
      "text/plain": [
       "(array([8.000e+00, 9.000e+00, 1.500e+01, 3.100e+01, 5.800e+01, 8.000e+01,\n",
       "        1.260e+02, 2.090e+02, 3.130e+02, 4.980e+02, 7.050e+02, 1.016e+03,\n",
       "        1.399e+03, 1.880e+03, 2.463e+03, 3.021e+03, 3.726e+03, 4.432e+03,\n",
       "        5.180e+03, 5.847e+03, 6.354e+03, 6.720e+03, 6.747e+03, 6.636e+03,\n",
       "        6.677e+03, 6.128e+03, 5.707e+03, 4.972e+03, 4.360e+03, 3.614e+03,\n",
       "        2.949e+03, 2.264e+03, 1.718e+03, 1.343e+03, 9.600e+02, 6.180e+02,\n",
       "        4.380e+02, 2.960e+02, 1.800e+02, 1.130e+02, 9.300e+01, 4.200e+01,\n",
       "        2.800e+01, 1.100e+01, 7.000e+00, 5.000e+00, 0.000e+00, 3.000e+00,\n",
       "        0.000e+00, 1.000e+00]),\n",
       " array([-3.92350899, -3.75199959, -3.5804902 , -3.4089808 , -3.2374714 ,\n",
       "        -3.06596201, -2.89445261, -2.72294321, -2.55143381, -2.37992442,\n",
       "        -2.20841502, -2.03690562, -1.86539623, -1.69388683, -1.52237743,\n",
       "        -1.35086804, -1.17935864, -1.00784924, -0.83633985, -0.66483045,\n",
       "        -0.49332105, -0.32181166, -0.15030226,  0.02120714,  0.19271654,\n",
       "         0.36422593,  0.53573533,  0.70724473,  0.87875412,  1.05026352,\n",
       "         1.22177292,  1.39328231,  1.56479171,  1.73630111,  1.9078105 ,\n",
       "         2.0793199 ,  2.2508293 ,  2.42233869,  2.59384809,  2.76535749,\n",
       "         2.93686689,  3.10837628,  3.27988568,  3.45139508,  3.62290447,\n",
       "         3.79441387,  3.96592327,  4.13743266,  4.30894206,  4.48045146,\n",
       "         4.65196085]),\n",
       " <BarContainer object of 50 artists>)"
      ]
     },
     "execution_count": 31,
     "metadata": {},
     "output_type": "execute_result"
    },
    {
     "data": {
      "image/png": "[encoded data removed]",
      "text/plain": [
       "<Figure size 432x288 with 1 Axes>"
      ]
     },
     "metadata": {
      "needs_background": "light"
     },
     "output_type": "display_data"
    }
   ],
   "source": [
    "#Distribucion Estandar normal\n",
    "np.random.seed(101)\n",
    "plt.hist(np.random.randn(100000), bins = 50)"
   ]
  },
  {
   "cell_type": "code",
   "execution_count": 32,
   "id": "6756dcd6",
   "metadata": {},
   "outputs": [
    {
     "data": {
      "text/plain": [
       "(array([1006.,  993.,  996., 1013., 1012., 1002., 1005., 1068.,  943.,\n",
       "         962.]),\n",
       " array([0. , 0.9, 1.8, 2.7, 3.6, 4.5, 5.4, 6.3, 7.2, 8.1, 9. ]),\n",
       " <BarContainer object of 10 artists>)"
      ]
     },
     "execution_count": 32,
     "metadata": {},
     "output_type": "execute_result"
    },
    {
     "data": {
      "image/png": "[encoded data removed]",
      "text/plain": [
       "<Figure size 432x288 with 1 Axes>"
      ]
     },
     "metadata": {
      "needs_background": "light"
     },
     "output_type": "display_data"
    }
   ],
   "source": [
    "plt.hist(np.random.randint(0, 10, 10000), bins = 10)"
   ]
  },
  {
   "cell_type": "code",
   "execution_count": 37,
   "id": "d9f53f96",
   "metadata": {},
   "outputs": [
    {
     "data": {
      "text/plain": [
       "(30,)"
      ]
     },
     "execution_count": 37,
     "metadata": {},
     "output_type": "execute_result"
    }
   ],
   "source": [
    "arr = np.arange(30)\n",
    "arr.shape"
   ]
  },
  {
   "cell_type": "code",
   "execution_count": 42,
   "id": "e2e60464",
   "metadata": {},
   "outputs": [
    {
     "data": {
      "text/plain": [
       "array([[ 0,  1,  2,  3,  4,  5],\n",
       "       [ 6,  7,  8,  9, 10, 11],\n",
       "       [12, 13, 14, 15, 16, 17],\n",
       "       [18, 19, 20, 21, 22, 23],\n",
       "       [24, 25, 26, 27, 28, 29]])"
      ]
     },
     "execution_count": 42,
     "metadata": {},
     "output_type": "execute_result"
    }
   ],
   "source": [
    "arr.reshape(5,6)"
   ]
  },
  {
   "cell_type": "code",
   "execution_count": 22,
   "id": "21b99905",
   "metadata": {},
   "outputs": [
    {
     "data": {
      "text/plain": [
       "array([[ 0,  1],\n",
       "       [ 2,  3],\n",
       "       [ 4,  5],\n",
       "       [ 6,  7],\n",
       "       [ 8,  9],\n",
       "       [10, 11],\n",
       "       [12, 13],\n",
       "       [14, 15],\n",
       "       [16, 17],\n",
       "       [18, 19],\n",
       "       [20, 21],\n",
       "       [22, 23],\n",
       "       [24, 25],\n",
       "       [26, 27],\n",
       "       [28, 29]])"
      ]
     },
     "execution_count": 22,
     "metadata": {},
     "output_type": "execute_result"
    }
   ],
   "source": [
    "arr.reshape(15,2)"
   ]
  },
  {
   "cell_type": "code",
   "execution_count": 29,
   "id": "89b4f3c3",
   "metadata": {},
   "outputs": [
    {
     "data": {
      "text/plain": [
       "array([2, 7, 2, 9, 9, 6, 2, 7, 7, 3])"
      ]
     },
     "execution_count": 29,
     "metadata": {},
     "output_type": "execute_result"
    }
   ],
   "source": [
    "array = np.random.randint(0, 10, 10)\n",
    "array"
   ]
  },
  {
   "cell_type": "code",
   "execution_count": 36,
   "id": "5aeabcc2",
   "metadata": {},
   "outputs": [
    {
     "name": "stdout",
     "output_type": "stream",
     "text": [
      "9\n",
      "2\n",
      "3\n",
      "0\n"
     ]
    }
   ],
   "source": [
    "print(array.max()) #np.max(array)\n",
    "print(array.min())\n",
    "print(array.argmax()) #Imprime el indice del valor maximo\n",
    "#Se le conoce usualmente como argumento\n",
    "print(array.argmin())"
   ]
  },
  {
   "cell_type": "markdown",
   "id": "3fb73cab",
   "metadata": {},
   "source": [
    "# Seeds"
   ]
  },
  {
   "cell_type": "code",
   "execution_count": 45,
   "id": "a22e6583",
   "metadata": {},
   "outputs": [
    {
     "data": {
      "text/plain": [
       "array([[42, 38, 72, 96, 25],\n",
       "       [35, 59, 84, 15,  3],\n",
       "       [28, 79, 76, 93, 63],\n",
       "       [28, 13, 51, 86, 54],\n",
       "       [60,  5,  9, 58, 30]])"
      ]
     },
     "execution_count": 45,
     "metadata": {},
     "output_type": "execute_result"
    }
   ],
   "source": [
    "#Al usar una semilla, entonces forzamos a que siempre obtengamos lo mismo en los valores random\n",
    "_2d_array_ = np.random.randint(0,100,(5,5))\n",
    "_2d_array_"
   ]
  },
  {
   "cell_type": "code",
   "execution_count": 48,
   "id": "b2dbd784",
   "metadata": {},
   "outputs": [
    {
     "data": {
      "text/plain": [
       "array([[42, 38, 72, 96, 25],\n",
       "       [28, 79, 76, 93, 63]])"
      ]
     },
     "execution_count": 48,
     "metadata": {},
     "output_type": "execute_result"
    }
   ],
   "source": [
    "_2d_array_[0]\n",
    "_2d_array_[0,2]\n",
    "_2d_array_[[0,2]]"
   ]
  },
  {
   "cell_type": "code",
   "execution_count": 47,
   "id": "c85b9083",
   "metadata": {},
   "outputs": [
    {
     "data": {
      "text/plain": [
       "array([[111, 111, 111, 111, 111],\n",
       "       [ 67,   9,  69,  40,  23],\n",
       "       [  4,  67,  71,  68,  22],\n",
       "       [ 49,  51,  43,  26,  64],\n",
       "       [ 55,  96,  34,  50,  11]])"
      ]
     },
     "execution_count": 47,
     "metadata": {},
     "output_type": "execute_result"
    }
   ],
   "source": [
    "_2d_array_[0] = 111\n",
    "_2d_array_[1,2] = 69\n",
    "_2d_array_"
   ]
  },
  {
   "cell_type": "code",
   "execution_count": 65,
   "id": "0f7736bd",
   "metadata": {},
   "outputs": [
    {
     "data": {
      "text/plain": [
       "array([[111, 111, 111, 111, 111],\n",
       "       [111,  55,  55,  55, 111],\n",
       "       [111,  55,  55,  55, 111],\n",
       "       [111,  55,  55,  55, 111],\n",
       "       [111, 111, 111, 111, 111]])"
      ]
     },
     "execution_count": 65,
     "metadata": {},
     "output_type": "execute_result"
    }
   ],
   "source": [
    "#Ejercicio\n",
    "#Hagamos que todo el centro de mi matriz, valga 55\n",
    "#y todo el contorno valga 111\n",
    "_2d_array_[0:,0] = 111\n",
    "_2d_array_[0:,-1:] = 111\n",
    "_2d_array_[-1:,:] = 111\n",
    "_2d_array_"
   ]
  },
  {
   "cell_type": "code",
   "execution_count": 61,
   "id": "55910399",
   "metadata": {},
   "outputs": [
    {
     "data": {
      "text/plain": [
       "array([[ 9, 69, 40],\n",
       "       [67, 71, 68],\n",
       "       [51, 43, 26]])"
      ]
     },
     "execution_count": 61,
     "metadata": {},
     "output_type": "execute_result"
    }
   ],
   "source": [
    "_2d_array_[1:-1,1:-1]"
   ]
  },
  {
   "cell_type": "code",
   "execution_count": 62,
   "id": "7acb03af",
   "metadata": {},
   "outputs": [],
   "source": [
    "_2d_array_[1:-1,1:-1] = 55"
   ]
  },
  {
   "cell_type": "code",
   "execution_count": 52,
   "id": "b03deac4",
   "metadata": {},
   "outputs": [
    {
     "data": {
      "text/plain": [
       "array([[42, 38, 72, 96, 25],\n",
       "       [35, 59, 84, 15,  3],\n",
       "       [28, 79, 76, 93, 63],\n",
       "       [28, 13, 51, 86, 54],\n",
       "       [60,  5,  9, 58, 30]])"
      ]
     },
     "execution_count": 52,
     "metadata": {},
     "output_type": "execute_result"
    }
   ],
   "source": [
    "_2d_array_"
   ]
  },
  {
   "cell_type": "code",
   "execution_count": 50,
   "id": "af3f6cdc",
   "metadata": {},
   "outputs": [
    {
     "data": {
      "text/plain": [
       "array([[28, 79, 76, 93, 63]])"
      ]
     },
     "execution_count": 50,
     "metadata": {},
     "output_type": "execute_result"
    }
   ],
   "source": [
    "#se podría decir que uso una doble condicion\n",
    "_2d_array_[1:4][1:5]\n",
    "_2d_array_[1:3][1:5]"
   ]
  },
  {
   "cell_type": "code",
   "execution_count": 72,
   "id": "e3a2a8a2",
   "metadata": {},
   "outputs": [
    {
     "data": {
      "text/plain": [
       "array([[31, 80, 34, 30, 29],\n",
       "       [93, 14,  0, 78,  5]])"
      ]
     },
     "execution_count": 72,
     "metadata": {},
     "output_type": "execute_result"
    }
   ],
   "source": [
    "#con esta configuracion no agarro, las FILAS que yo quiera\n",
    "_2d_array_[[0,2]]\n",
    "_2d_array_[0,2]# aqui yo agarro el valor de la coordenada que le estoy diciendo "
   ]
  },
  {
   "cell_type": "code",
   "execution_count": 61,
   "id": "769751aa",
   "metadata": {},
   "outputs": [
    {
     "data": {
      "text/plain": [
       "array([[False, False, False, False,  True],\n",
       "       [False, False, False, False, False],\n",
       "       [False, False, False, False, False],\n",
       "       [False, False, False, False, False],\n",
       "       [False, False, False, False, False]])"
      ]
     },
     "execution_count": 61,
     "metadata": {},
     "output_type": "execute_result"
    }
   ],
   "source": [
    "#No es necesario usar funciones, solitio genera una matriz de resultado\n",
    "_2d_array_>25\n",
    "_2d_array_<25\n",
    "_2d_array_==25\n"
   ]
  },
  {
   "cell_type": "code",
   "execution_count": 78,
   "id": "311b7be0",
   "metadata": {},
   "outputs": [
    {
     "data": {
      "text/plain": [
       "array([31, 80, 34, 30, 29, 51, 28, 73, 61, 90, 93, 78, 82, 74, 79, 79, 80,\n",
       "       42, 96, 34])"
      ]
     },
     "execution_count": 78,
     "metadata": {},
     "output_type": "execute_result"
    }
   ],
   "source": [
    "_2d_array_[_2d_array_>25] #genero un array con la condicion que yo le pido"
   ]
  },
  {
   "cell_type": "code",
   "execution_count": 6,
   "id": "434ba679",
   "metadata": {},
   "outputs": [
    {
     "data": {
      "text/plain": [
       "array([ 0,  1,  2,  3,  4,  5,  6,  7,  8,  9, 10, 11, 12, 13, 14, 15, 16,\n",
       "       17, 18, 19])"
      ]
     },
     "execution_count": 6,
     "metadata": {},
     "output_type": "execute_result"
    }
   ],
   "source": [
    "array =  np.arange(20)\n",
    "array"
   ]
  },
  {
   "cell_type": "code",
   "execution_count": 7,
   "id": "aca83c55",
   "metadata": {},
   "outputs": [
    {
     "data": {
      "text/plain": [
       "array([ 0,  2,  4,  6,  8, 10, 12, 14, 16, 18, 20, 22, 24, 26, 28, 30, 32,\n",
       "       34, 36, 38])"
      ]
     },
     "execution_count": 7,
     "metadata": {},
     "output_type": "execute_result"
    }
   ],
   "source": [
    "array + array"
   ]
  },
  {
   "cell_type": "code",
   "execution_count": 8,
   "id": "e57b8f6e",
   "metadata": {},
   "outputs": [
    {
     "data": {
      "text/plain": [
       "array([0, 0, 0, 0, 0, 0, 0, 0, 0, 0, 0, 0, 0, 0, 0, 0, 0, 0, 0, 0])"
      ]
     },
     "execution_count": 8,
     "metadata": {},
     "output_type": "execute_result"
    }
   ],
   "source": [
    "array - array"
   ]
  },
  {
   "cell_type": "code",
   "execution_count": 9,
   "id": "67f3df80",
   "metadata": {},
   "outputs": [
    {
     "data": {
      "text/plain": [
       "array([ 0,  2,  4,  6,  8, 10, 12, 14, 16, 18, 20, 22, 24, 26, 28, 30, 32,\n",
       "       34, 36, 38])"
      ]
     },
     "execution_count": 9,
     "metadata": {},
     "output_type": "execute_result"
    }
   ],
   "source": [
    "array *2"
   ]
  },
  {
   "cell_type": "code",
   "execution_count": 10,
   "id": "6d97bfd5",
   "metadata": {},
   "outputs": [
    {
     "data": {
      "text/plain": [
       "array([  0,   1,   4,   9,  16,  25,  36,  49,  64,  81, 100, 121, 144,\n",
       "       169, 196, 225, 256, 289, 324, 361])"
      ]
     },
     "execution_count": 10,
     "metadata": {},
     "output_type": "execute_result"
    }
   ],
   "source": [
    "array *  array"
   ]
  },
  {
   "cell_type": "code",
   "execution_count": 11,
   "id": "9955c853",
   "metadata": {},
   "outputs": [
    {
     "data": {
      "text/plain": [
       "2470"
      ]
     },
     "execution_count": 11,
     "metadata": {},
     "output_type": "execute_result"
    }
   ],
   "source": [
    "np.dot(array,array)"
   ]
  },
  {
   "cell_type": "code",
   "execution_count": 12,
   "id": "a98a5194",
   "metadata": {},
   "outputs": [
    {
     "data": {
      "text/plain": [
       "array([0.        , 1.        , 1.41421356, 1.73205081, 2.        ,\n",
       "       2.23606798, 2.44948974, 2.64575131, 2.82842712, 3.        ,\n",
       "       3.16227766, 3.31662479, 3.46410162, 3.60555128, 3.74165739,\n",
       "       3.87298335, 4.        , 4.12310563, 4.24264069, 4.35889894])"
      ]
     },
     "execution_count": 12,
     "metadata": {},
     "output_type": "execute_result"
    }
   ],
   "source": [
    "np.sqrt(array)"
   ]
  },
  {
   "cell_type": "code",
   "execution_count": 13,
   "id": "a2ca7121",
   "metadata": {},
   "outputs": [
    {
     "data": {
      "text/plain": [
       "array([ 1.        ,  0.54030231, -0.41614684, -0.9899925 , -0.65364362,\n",
       "        0.28366219,  0.96017029,  0.75390225, -0.14550003, -0.91113026,\n",
       "       -0.83907153,  0.0044257 ,  0.84385396,  0.90744678,  0.13673722,\n",
       "       -0.75968791, -0.95765948, -0.27516334,  0.66031671,  0.98870462])"
      ]
     },
     "execution_count": 13,
     "metadata": {},
     "output_type": "execute_result"
    }
   ],
   "source": [
    "np.cos(array)"
   ]
  },
  {
   "cell_type": "code",
   "execution_count": 14,
   "id": "9c871cc0",
   "metadata": {},
   "outputs": [
    {
     "data": {
      "text/plain": [
       "array([0, 0, 0, 0, 0, 1, 1, 1, 1, 1, 2, 2, 2, 2, 2, 3, 3, 3, 3, 3],\n",
       "      dtype=int32)"
      ]
     },
     "execution_count": 14,
     "metadata": {},
     "output_type": "execute_result"
    }
   ],
   "source": [
    " array // 5 #division entera"
   ]
  },
  {
   "cell_type": "code",
   "execution_count": 15,
   "id": "0cf694bc",
   "metadata": {},
   "outputs": [
    {
     "data": {
      "text/plain": [
       "array([  0,   1,   4,   9,  16,  25,  36,  49,  64,  81, 100, 121, 144,\n",
       "       169, 196, 225, 256, 289, 324, 361], dtype=int32)"
      ]
     },
     "execution_count": 15,
     "metadata": {},
     "output_type": "execute_result"
    }
   ],
   "source": [
    "array ** 2"
   ]
  },
  {
   "cell_type": "code",
   "execution_count": 19,
   "id": "a3af7146",
   "metadata": {},
   "outputs": [
    {
     "data": {
      "text/plain": [
       "array([ 2,  3,  0,  1,  6,  7,  4,  5, 10, 11,  8,  9, 14, 15, 12, 13, 18,\n",
       "       19, 16, 17], dtype=int32)"
      ]
     },
     "execution_count": 19,
     "metadata": {},
     "output_type": "execute_result"
    }
   ],
   "source": [
    "array^2 #manuera erronea"
   ]
  },
  {
   "cell_type": "code",
   "execution_count": 18,
   "id": "0fe532d1",
   "metadata": {},
   "outputs": [
    {
     "data": {
      "text/plain": [
       "array([ 0,  1,  2,  3,  4,  5,  6,  7,  8,  9, 10, 11, 12, 13, 14, 15, 16,\n",
       "       17, 18, 19])"
      ]
     },
     "execution_count": 18,
     "metadata": {},
     "output_type": "execute_result"
    }
   ],
   "source": [
    "array"
   ]
  },
  {
   "cell_type": "code",
   "execution_count": 94,
   "id": "e125c418",
   "metadata": {},
   "outputs": [
    {
     "data": {
      "text/plain": [
       "array([0, 1, 0, 1, 0, 1, 0, 1, 0, 1, 0, 1, 0, 1, 0, 1, 0, 1, 0, 1],\n",
       "      dtype=int32)"
      ]
     },
     "execution_count": 94,
     "metadata": {},
     "output_type": "execute_result"
    }
   ],
   "source": [
    "array %2 #residuo "
   ]
  },
  {
   "cell_type": "code",
   "execution_count": 4,
   "id": "2fd73b11",
   "metadata": {},
   "outputs": [
    {
     "name": "stdout",
     "output_type": "stream",
     "text": [
      "[[[ 1  2  3]\n",
      "  [ 4  5  6]]\n",
      "\n",
      " [[ 7  8  9]\n",
      "  [10 11 12]]]\n"
     ]
    },
    {
     "data": {
      "text/plain": [
       "array([[[ 1,  2,  3],\n",
       "        [ 4,  5,  6]],\n",
       "\n",
       "       [[ 7,  8,  9],\n",
       "        [10, 11, 12]]])"
      ]
     },
     "execution_count": 4,
     "metadata": {},
     "output_type": "execute_result"
    }
   ],
   "source": [
    "a3 = np.array([[[1, 2, 3], [4, 5, 6]], [[7, 8, 9], [10, 11, 12]]])\n",
    "print(a3)\n",
    "a3"
   ]
  },
  {
   "cell_type": "code",
   "execution_count": 6,
   "id": "bc06b352",
   "metadata": {},
   "outputs": [
    {
     "name": "stdout",
     "output_type": "stream",
     "text": [
      "[ 2  4  6  8 10 12]\n"
     ]
    }
   ],
   "source": [
    "print(a3[(a3 % 2 == 0)])"
   ]
  },
  {
   "cell_type": "code",
   "execution_count": 12,
   "id": "b649bd8e",
   "metadata": {},
   "outputs": [
    {
     "name": "stdout",
     "output_type": "stream",
     "text": [
      "[ 8 10 12]\n"
     ]
    }
   ],
   "source": [
    "print(a3[(a3 % 2 == 0) &  (a3 > 6)])"
   ]
  },
  {
   "cell_type": "code",
   "execution_count": 66,
   "id": "7150a827",
   "metadata": {},
   "outputs": [
    {
     "data": {
      "text/plain": [
       "array([ 1.22046137e-01, -3.04718267e-01,  5.77975386e-01,  5.75255024e-01,\n",
       "       -6.07883498e-02,  5.05261936e-01, -5.17559419e-01,  6.76447659e-01,\n",
       "       -1.81550265e-02, -6.49632073e-01,  6.30628478e-01,  2.25056958e-01,\n",
       "       -8.76568193e-01,  8.28523129e-01,  2.09284634e+00,  2.30008298e-01,\n",
       "        6.94139852e-01, -3.85075997e-01,  1.55524327e-01,  9.96628732e-01,\n",
       "       -1.06407627e+00, -3.35556551e-01, -1.15555267e+00, -1.24434988e+00,\n",
       "        5.90144630e-01, -5.68880598e-01,  1.95037902e+00,  1.26037546e+00,\n",
       "       -8.89999734e-02,  4.66253585e-01, -5.44964475e-01,  2.43174450e-01,\n",
       "       -1.43721553e+00, -1.29193217e+00,  3.73344284e-01,  5.23865633e-01,\n",
       "       -2.60230276e-01, -1.37286011e-01,  6.68675150e-01,  1.12766444e+00,\n",
       "        1.54935357e+00,  5.50763514e-01,  9.54624825e-01, -6.63176037e-02,\n",
       "        4.01811786e-01, -1.68235368e+00, -2.54679605e-01, -1.02700165e+00,\n",
       "        1.78442144e-02,  8.36726965e-01,  1.02791784e+00,  1.09257769e+00,\n",
       "        2.26717266e+00,  9.69515146e-01, -4.26412268e-02, -8.90394634e-01,\n",
       "       -3.81260208e-01,  1.14302180e+00, -1.02698334e+00,  1.07971160e+00,\n",
       "        6.19335882e-01, -2.57483566e-01, -1.70470230e-02,  7.14089229e-01,\n",
       "        2.21439351e+00,  5.17709634e-01,  2.70249372e-02,  5.08425915e-01,\n",
       "        1.00436707e+00,  2.12492509e+00, -2.57046063e-01,  6.72339927e-01,\n",
       "       -2.40073849e+00, -1.10489322e+00, -1.30785123e+00,  2.91591229e-01,\n",
       "       -9.13138722e-01, -1.42771385e+00,  5.02244396e-01, -1.97305590e+00,\n",
       "        7.36775314e-01,  7.16610530e-01,  1.33657229e+00,  7.04204525e-01,\n",
       "       -8.44059696e-01,  3.13277895e-03,  2.19082391e+00, -7.99338728e-02,\n",
       "       -7.00406515e-01, -8.67213537e-02,  9.02689379e-01,  9.76206591e-01,\n",
       "       -4.84735084e-01, -1.88331198e-01,  3.08275641e-01, -1.20792530e-01,\n",
       "       -1.69536210e+00, -1.61695404e-01, -8.83495098e-01, -1.45848313e+00,\n",
       "        1.33078206e+00,  1.33852355e+00, -2.82785940e-01, -2.25532609e-01,\n",
       "       -2.54971103e+00, -7.00066199e-01,  2.02730453e+00, -1.25792700e+00,\n",
       "        2.58294832e-01,  3.91648773e-01, -1.53112191e+00,  5.26982832e-01,\n",
       "       -4.68804750e-01,  7.13327719e-01,  9.63952624e-01, -1.13307309e+00,\n",
       "        1.07783655e+00,  1.57499449e+00, -1.26604474e-01, -4.76000873e-02,\n",
       "       -1.39673378e+00, -2.83129379e-01,  6.24591754e-01, -1.13855298e+00,\n",
       "       -2.56812998e-01, -4.85191669e-02, -6.44622515e-01, -1.22615265e+00,\n",
       "        7.29459416e-01, -3.98482687e-01, -5.07609435e-01,  3.17345654e-01,\n",
       "        8.79623467e-01, -3.88411788e-01, -1.47160317e+00,  6.18400438e-01,\n",
       "       -1.03781877e+00, -3.73535718e-01, -2.25170670e-01, -1.88576466e+00,\n",
       "       -4.62668134e-01,  1.03834971e+00, -8.38106573e-01, -3.78979838e-01,\n",
       "       -1.80977082e-01,  9.96975514e-01,  1.30392788e+00, -4.75430037e-01,\n",
       "       -7.58952688e-02, -5.60170999e-01, -5.33644913e-01,  7.85574524e-01,\n",
       "        7.19685256e-01,  4.92122995e-02,  1.98748949e-02, -1.84299888e+00,\n",
       "        1.18963591e+00, -1.37744980e+00,  3.04665408e+00, -7.48252842e-02,\n",
       "       -2.73566453e+00, -1.93712125e+00,  1.13092854e+00, -2.95621147e-01,\n",
       "       -6.00795004e-01,  6.36533657e-01,  7.60998569e-01,  1.16015421e+00,\n",
       "        1.34299438e-01,  5.18891474e-01,  6.38830433e-01,  1.14533307e+00,\n",
       "        7.06531528e-01,  1.08462826e+00,  6.42706026e-01, -4.01710265e-01,\n",
       "        1.13480379e-01,  1.58532418e-01, -1.08418530e+00, -8.24149355e-01,\n",
       "        1.02685387e+00, -9.37552101e-03,  8.66896980e-01,  8.12129632e-01,\n",
       "        2.65539480e-01,  1.33151693e+00, -1.29888951e+00, -1.31341608e+00,\n",
       "       -3.78809685e-02, -9.44856823e-01, -2.57454888e-01,  1.09786180e-01,\n",
       "        1.71684867e-01,  1.82758879e+00, -1.00250473e+00, -5.82798175e-01,\n",
       "       -1.90287859e+00, -2.35071436e-01,  8.94353803e-01, -2.98583206e-01,\n",
       "       -7.06556399e-01,  8.58701970e-01, -9.39779526e-02,  5.91005818e-01,\n",
       "        1.66667215e-01, -1.72391060e-01,  4.25314251e-01,  7.76307187e-01,\n",
       "       -7.22615941e-02, -1.58885734e-01,  1.43559023e+00,  9.89899065e-01,\n",
       "       -5.76098471e-01, -1.16105367e+00, -3.85478792e-01, -1.32728299e+00,\n",
       "        8.94868682e-01,  2.91388513e-01,  1.29951724e+00,  1.46018408e-01,\n",
       "        5.88746122e-01,  1.47544242e+00,  1.43878674e-02, -1.48237301e+00,\n",
       "        4.00504429e-01,  1.54535962e+00, -4.65957263e-01,  7.88860036e-01,\n",
       "       -1.03935290e+00,  4.09773785e-02,  8.49362009e-01,  6.56645045e-01,\n",
       "       -5.91213871e-01, -1.11949088e+00, -2.52204703e-01,  9.14233416e-01,\n",
       "       -1.07169013e+00,  1.33448322e+00, -1.15239057e+00,  6.69540923e-01,\n",
       "        1.20261237e-01, -1.63019534e+00, -1.45831139e+00,  7.86080018e-02,\n",
       "       -1.75635864e+00,  1.02818836e+00, -2.03445283e-01, -1.39868466e+00,\n",
       "        6.75530134e-01,  8.22036610e-01,  7.65713939e-02, -5.62795265e-01,\n",
       "       -4.15668496e-01,  2.34734090e-01, -8.45647901e-01, -7.68228805e-02,\n",
       "        2.55378524e-01, -1.20261969e+00,  1.35835176e+00,  6.61713257e-02,\n",
       "        3.73039673e+00,  1.83625490e+00, -1.36460669e+00,  3.32814723e-01,\n",
       "        1.98917486e+00, -1.35168611e+00,  7.48423089e-01, -2.63862141e-01,\n",
       "       -1.33701000e+00,  3.98858565e-01,  5.00357280e-01, -4.03345063e-01,\n",
       "        1.51448741e+00, -3.49579772e-01,  1.64264846e+00,  1.90717713e+00,\n",
       "        6.49746889e-01,  5.59764826e-01,  5.42758712e-01,  1.61304977e-01,\n",
       "       -6.63570515e-01, -1.14530694e+00, -6.46753104e-01,  7.84879522e-01,\n",
       "        2.97255190e-01,  1.47702316e+00, -2.66872214e-01,  1.88966696e+00,\n",
       "        1.21630969e+00, -1.33890636e+00,  2.58007057e-01,  6.67701129e-01,\n",
       "       -1.10142589e+00, -1.75721931e+00,  6.80716616e-01,  5.87471056e-01,\n",
       "       -1.01320971e+00, -6.22177841e-01,  4.23934432e-01, -5.46563940e-01,\n",
       "       -1.25290555e+00,  2.47514040e+00,  1.48754994e+00, -1.21462729e+00,\n",
       "        3.68362471e-02,  1.31475987e-02,  1.04180712e+00,  2.85673656e-01,\n",
       "       -3.28051231e-01,  1.05711485e+00,  1.50461128e+00,  5.62444762e-01,\n",
       "       -1.36154174e+00, -6.61733537e-01,  4.04710850e-01,  4.99109458e-01,\n",
       "       -9.43381296e-01, -9.91014704e-02,  9.22266714e-03,  5.25160792e-01,\n",
       "       -1.30071577e+00, -1.56321445e-01, -1.18617861e+00, -6.40030720e-01,\n",
       "        1.68629023e-01, -1.22730398e-01,  1.04808991e+00, -1.03346687e+00,\n",
       "        1.66499681e+00,  1.73620348e+00, -7.94575948e-01, -2.90332677e-01,\n",
       "        1.45645954e+00, -6.24940711e-01, -6.18448024e-01, -7.35711525e-02,\n",
       "        3.45220480e-01, -1.35533740e+00, -7.89363600e-01, -6.78653511e-01,\n",
       "       -1.53274431e-01,  2.51776888e-01, -2.23331519e+00,  1.41684857e+00,\n",
       "        1.64754725e+00, -2.61373200e-01,  1.39425423e-01,  1.43218632e-02,\n",
       "        1.27612653e+00,  4.98593186e-01,  9.87393383e-01,  3.64807955e-01,\n",
       "        8.60380459e-01,  1.06005343e+00,  8.82878873e-01,  1.07348584e+00,\n",
       "       -3.57247794e-02,  1.64839379e+00,  8.39211697e-02, -4.49575578e-01,\n",
       "       -3.19960053e-01,  2.87744864e-01, -1.11761165e+00,  2.01317671e+00,\n",
       "       -3.97900185e-01,  3.09542473e-02, -6.78883875e-01,  3.73170332e-01,\n",
       "       -1.69038415e+00, -8.34353737e-01, -1.64080554e+00, -6.31027393e-01,\n",
       "        1.45180345e+00, -7.25469822e-01,  6.27226211e-01, -2.29189928e-01,\n",
       "       -8.32319544e-01, -4.91706543e-01, -9.73534439e-01,  5.06627777e-01,\n",
       "       -1.03183726e+00,  5.38096330e-02, -3.64689203e-01,  9.33600220e-01,\n",
       "       -5.06105227e-01, -3.68693808e-01,  1.28729845e+00, -2.01955216e+00,\n",
       "        1.17288771e+00,  1.29672128e+00, -1.04790041e-01, -1.56153689e-01,\n",
       "       -5.05979640e-02,  2.90361745e-01,  2.08311181e+00,  2.33500216e-02,\n",
       "        9.28391352e-01, -2.94583416e-01, -1.00614342e+00,  4.37706330e-01,\n",
       "       -6.30630528e-01,  2.07924418e+00, -7.45189701e-01,  1.42318201e+00,\n",
       "       -1.37471795e+00, -7.42205447e-01, -6.08711563e-01, -3.14915652e+00,\n",
       "        7.29204773e-02, -1.47806686e+00, -1.94157154e+00, -2.84510482e-02,\n",
       "       -8.89638127e-01,  1.40005625e-02, -1.44554858e+00, -9.71637379e-01,\n",
       "       -6.08725387e-01, -6.17748483e-01, -8.92143713e-01, -7.76172467e-01,\n",
       "        1.11881786e+00,  8.39856272e-01,  1.22046666e+00,  1.43511571e+00,\n",
       "        2.54857974e-01, -2.42295215e+00,  9.83114316e-01,  1.33667888e+00,\n",
       "        1.37988465e-01, -1.58812895e-01,  1.21915512e+00,  1.09507274e+00,\n",
       "       -7.16762026e-01,  1.09161049e+00, -4.10623181e-01, -9.45208472e-01,\n",
       "        8.76026610e-01,  1.06144039e+00, -2.16885464e-01, -3.41295886e-01,\n",
       "       -2.78461531e-01, -4.60268453e-01, -1.67899421e+00,  4.94581572e-01,\n",
       "        1.70717305e+00, -7.38144138e-01, -6.37000809e-01, -1.23745724e+00,\n",
       "        5.36918475e-01, -3.16011512e-01,  1.66532104e+00, -5.16492368e-01,\n",
       "        1.59957354e+00,  1.32795597e-01,  1.83036119e+00,  3.19342699e-01,\n",
       "        9.27768493e-01, -1.07511375e+00, -9.69441079e-02, -5.09784188e-01,\n",
       "       -8.39438955e-02,  1.56911762e-01, -5.68523458e-01, -3.05006308e-01,\n",
       "       -3.84403121e-01,  1.54214206e+00, -1.01609032e+00,  1.62981213e+00,\n",
       "       -6.25819203e-01, -1.72089652e-01, -3.12387519e+00, -9.45673812e-02,\n",
       "       -9.31232696e-01, -1.96142390e-01, -2.22848748e+00, -3.48395406e-01,\n",
       "       -5.71004641e-01, -9.98092225e-01, -6.70044357e-02, -1.02676190e+00,\n",
       "       -4.39809901e-02,  1.48770587e+00,  1.35326429e-01,  8.84991397e-01,\n",
       "       -1.77319880e-01,  5.02474818e-01, -5.12332641e-01, -6.10935808e-01,\n",
       "       -1.46859470e+00, -1.11439320e+00, -8.25556677e-01,  2.54098712e-01,\n",
       "        9.83815299e-03, -2.03467800e+00,  6.49114485e-01, -1.06749522e+00,\n",
       "        9.99982353e-01,  2.82415495e-01,  2.81259878e-01,  1.48679153e-01])"
      ]
     },
     "execution_count": 66,
     "metadata": {},
     "output_type": "execute_result"
    }
   ],
   "source": [
    "np.random.seed(78)\n",
    "np.random.randn(500)\n",
    "#de esta manera podemos tener todos los mismos resultados cuando usemos cosas aleatorias-"
   ]
  },
  {
   "cell_type": "code",
   "execution_count": null,
   "id": "94b2f748",
   "metadata": {},
   "outputs": [],
   "source": []
  },
  {
   "cell_type": "code",
   "execution_count": null,
   "id": "dceb077b",
   "metadata": {},
   "outputs": [],
   "source": []
  }
 ],
 "metadata": {
  "kernelspec": {
   "display_name": "Python 3 (ipykernel)",
   "language": "python",
   "name": "python3"
  },
  "language_info": {
   "codemirror_mode": {
    "name": "ipython",
    "version": 3
   },
   "file_extension": ".py",
   "mimetype": "text/x-python",
   "name": "python",
   "nbconvert_exporter": "python",
   "pygments_lexer": "ipython3",
   "version": "3.9.7"
  }
 },
 "nbformat": 4,
 "nbformat_minor": 5
}
